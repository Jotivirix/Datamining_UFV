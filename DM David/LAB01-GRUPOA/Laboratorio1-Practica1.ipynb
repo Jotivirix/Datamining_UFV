{
 "cells": [
  {
   "cell_type": "code",
   "execution_count": 1,
   "metadata": {},
   "outputs": [
    {
     "data": {
      "text/plain": [
       "'\\n    Práctica 1  - Laboratorio 01\\n\\n    Asignatura:   Data mining\\n\\n    Autores: \\n            - Beatriz Magán Pinto\\n            - Andrés Felipe Sánchez Patarroyo\\n            - David Alonso Rodríguez Lepina\\n            - Raúl Jiménez Juárez\\n\\n    Fecha:      26/09/2019\\n'"
      ]
     },
     "execution_count": 1,
     "metadata": {},
     "output_type": "execute_result"
    }
   ],
   "source": [
    "\"\"\"\n",
    "    Práctica 1  - Laboratorio 01\n",
    "\n",
    "    Asignatura:   Data mining\n",
    "\n",
    "    Autores: \n",
    "            - Beatriz Magán Pinto\n",
    "            - Andrés Felipe Sánchez Patarroyo\n",
    "            - David Alonso Rodríguez Lepina\n",
    "            - Raúl Jiménez Juárez\n",
    "\n",
    "    Fecha:      26/09/2019\n",
    "\"\"\""
   ]
  },
  {
   "cell_type": "markdown",
   "metadata": {},
   "source": [
    "# Importamos las librerías necesarias"
   ]
  },
  {
   "cell_type": "code",
   "execution_count": 2,
   "metadata": {},
   "outputs": [],
   "source": [
    "import pandas as pd\n",
    "import numpy as np\n",
    "import matplotlib.pyplot as plt\n",
    "import seaborn as sns\n",
    "from datetime import datetime"
   ]
  },
  {
   "cell_type": "markdown",
   "metadata": {},
   "source": [
    "# Obtención de datos\n",
    "\n",
    "Para obtener los datos, importaremos el csv y lo guardaremos en un dataframe.\n"
   ]
  },
  {
   "cell_type": "code",
   "execution_count": 3,
   "metadata": {},
   "outputs": [
    {
     "data": {
      "text/html": [
       "<div>\n",
       "<style scoped>\n",
       "    .dataframe tbody tr th:only-of-type {\n",
       "        vertical-align: middle;\n",
       "    }\n",
       "\n",
       "    .dataframe tbody tr th {\n",
       "        vertical-align: top;\n",
       "    }\n",
       "\n",
       "    .dataframe thead th {\n",
       "        text-align: right;\n",
       "    }\n",
       "</style>\n",
       "<table border=\"1\" class=\"dataframe\">\n",
       "  <thead>\n",
       "    <tr style=\"text-align: right;\">\n",
       "      <th></th>\n",
       "      <th>id</th>\n",
       "      <th>name</th>\n",
       "      <th>host_id</th>\n",
       "      <th>host_name</th>\n",
       "      <th>neighbourhood_group</th>\n",
       "      <th>neighbourhood</th>\n",
       "      <th>latitude</th>\n",
       "      <th>longitude</th>\n",
       "      <th>room_type</th>\n",
       "      <th>price</th>\n",
       "      <th>minimum_nights</th>\n",
       "      <th>number_of_reviews</th>\n",
       "      <th>last_review</th>\n",
       "      <th>reviews_per_month</th>\n",
       "      <th>calculated_host_listings_count</th>\n",
       "      <th>availability_365</th>\n",
       "    </tr>\n",
       "  </thead>\n",
       "  <tbody>\n",
       "    <tr>\n",
       "      <th>0</th>\n",
       "      <td>2539</td>\n",
       "      <td>Clean &amp; quiet apt home by the park</td>\n",
       "      <td>2787</td>\n",
       "      <td>John</td>\n",
       "      <td>Brooklyn</td>\n",
       "      <td>Kensington</td>\n",
       "      <td>40.64749</td>\n",
       "      <td>-73.97237</td>\n",
       "      <td>Private room</td>\n",
       "      <td>149</td>\n",
       "      <td>1</td>\n",
       "      <td>9</td>\n",
       "      <td>2018-10-19</td>\n",
       "      <td>0.21</td>\n",
       "      <td>6</td>\n",
       "      <td>365</td>\n",
       "    </tr>\n",
       "    <tr>\n",
       "      <th>1</th>\n",
       "      <td>2595</td>\n",
       "      <td>Skylit Midtown Castle</td>\n",
       "      <td>2845</td>\n",
       "      <td>Jennifer</td>\n",
       "      <td>Manhattan</td>\n",
       "      <td>Midtown</td>\n",
       "      <td>40.75362</td>\n",
       "      <td>-73.98377</td>\n",
       "      <td>Entire home/apt</td>\n",
       "      <td>225</td>\n",
       "      <td>1</td>\n",
       "      <td>45</td>\n",
       "      <td>2019-05-21</td>\n",
       "      <td>0.38</td>\n",
       "      <td>2</td>\n",
       "      <td>355</td>\n",
       "    </tr>\n",
       "    <tr>\n",
       "      <th>2</th>\n",
       "      <td>3647</td>\n",
       "      <td>THE VILLAGE OF HARLEM....NEW YORK !</td>\n",
       "      <td>4632</td>\n",
       "      <td>Elisabeth</td>\n",
       "      <td>Manhattan</td>\n",
       "      <td>Harlem</td>\n",
       "      <td>40.80902</td>\n",
       "      <td>-73.94190</td>\n",
       "      <td>Private room</td>\n",
       "      <td>150</td>\n",
       "      <td>3</td>\n",
       "      <td>0</td>\n",
       "      <td>NaN</td>\n",
       "      <td>NaN</td>\n",
       "      <td>1</td>\n",
       "      <td>365</td>\n",
       "    </tr>\n",
       "    <tr>\n",
       "      <th>3</th>\n",
       "      <td>3831</td>\n",
       "      <td>Cozy Entire Floor of Brownstone</td>\n",
       "      <td>4869</td>\n",
       "      <td>LisaRoxanne</td>\n",
       "      <td>Brooklyn</td>\n",
       "      <td>Clinton Hill</td>\n",
       "      <td>40.68514</td>\n",
       "      <td>-73.95976</td>\n",
       "      <td>Entire home/apt</td>\n",
       "      <td>89</td>\n",
       "      <td>1</td>\n",
       "      <td>270</td>\n",
       "      <td>2019-07-05</td>\n",
       "      <td>4.64</td>\n",
       "      <td>1</td>\n",
       "      <td>194</td>\n",
       "    </tr>\n",
       "    <tr>\n",
       "      <th>4</th>\n",
       "      <td>5022</td>\n",
       "      <td>Entire Apt: Spacious Studio/Loft by central park</td>\n",
       "      <td>7192</td>\n",
       "      <td>Laura</td>\n",
       "      <td>Manhattan</td>\n",
       "      <td>East Harlem</td>\n",
       "      <td>40.79851</td>\n",
       "      <td>-73.94399</td>\n",
       "      <td>Entire home/apt</td>\n",
       "      <td>80</td>\n",
       "      <td>10</td>\n",
       "      <td>9</td>\n",
       "      <td>2018-11-19</td>\n",
       "      <td>0.10</td>\n",
       "      <td>1</td>\n",
       "      <td>0</td>\n",
       "    </tr>\n",
       "  </tbody>\n",
       "</table>\n",
       "</div>"
      ],
      "text/plain": [
       "     id                                              name  host_id  \\\n",
       "0  2539                Clean & quiet apt home by the park     2787   \n",
       "1  2595                             Skylit Midtown Castle     2845   \n",
       "2  3647               THE VILLAGE OF HARLEM....NEW YORK !     4632   \n",
       "3  3831                   Cozy Entire Floor of Brownstone     4869   \n",
       "4  5022  Entire Apt: Spacious Studio/Loft by central park     7192   \n",
       "\n",
       "     host_name neighbourhood_group neighbourhood  latitude  longitude  \\\n",
       "0         John            Brooklyn    Kensington  40.64749  -73.97237   \n",
       "1     Jennifer           Manhattan       Midtown  40.75362  -73.98377   \n",
       "2    Elisabeth           Manhattan        Harlem  40.80902  -73.94190   \n",
       "3  LisaRoxanne            Brooklyn  Clinton Hill  40.68514  -73.95976   \n",
       "4        Laura           Manhattan   East Harlem  40.79851  -73.94399   \n",
       "\n",
       "         room_type  price  minimum_nights  number_of_reviews last_review  \\\n",
       "0     Private room    149               1                  9  2018-10-19   \n",
       "1  Entire home/apt    225               1                 45  2019-05-21   \n",
       "2     Private room    150               3                  0         NaN   \n",
       "3  Entire home/apt     89               1                270  2019-07-05   \n",
       "4  Entire home/apt     80              10                  9  2018-11-19   \n",
       "\n",
       "   reviews_per_month  calculated_host_listings_count  availability_365  \n",
       "0               0.21                               6               365  \n",
       "1               0.38                               2               355  \n",
       "2                NaN                               1               365  \n",
       "3               4.64                               1               194  \n",
       "4               0.10                               1                 0  "
      ]
     },
     "execution_count": 3,
     "metadata": {},
     "output_type": "execute_result"
    }
   ],
   "source": [
    "#Lectura y creación del dataframe\n",
    "df_airbnb = pd.read_csv(\"DatasetsLab1/airbnb.csv\")\n",
    "df_airbnb.head()"
   ]
  },
  {
   "cell_type": "markdown",
   "metadata": {},
   "source": [
    "# Limpieza y procesamiento de datos\n",
    "\n",
    "Con el objetivo de encontrar datos anómalos o redundantes, vamos a aplicar las técnicas de preprocesamiento y limpieza de datos contenidas en los apuntes de la asignatura.\n",
    "\n",
    "Para encontrar datos redudantes, si los hubiera, vamos a obtener las frecuencias de atributos unívocos. "
   ]
  },
  {
   "cell_type": "code",
   "execution_count": 4,
   "metadata": {},
   "outputs": [],
   "source": [
    "#Ordenamos el dataset por host_id\n",
    "df_airbnb_ordenado = df_airbnb.sort_values(by=\"id\")"
   ]
  },
  {
   "cell_type": "markdown",
   "metadata": {},
   "source": [
    "Se comprobará el número de propietarios que hay y si alguno de ellos tiene varias propiedades en alquiler, es necesario tener en cuenta esta información para hacer comprobaciones de datos duplicados o inconsistentes."
   ]
  },
  {
   "cell_type": "code",
   "execution_count": 5,
   "metadata": {},
   "outputs": [
    {
     "name": "stdout",
     "output_type": "stream",
     "text": [
      "Numero de propietarios:  37457\n",
      "Numero de alquileres:  48895\n"
     ]
    }
   ],
   "source": [
    "#Contamos todos los host_id repetidos y sin repetir\n",
    "numero_alquileres = df_airbnb_ordenado[\"host_id\"].count()\n",
    "\n",
    "#Contamos los host_id sin contar los repetidos\n",
    "numero_propietarios = len(df_airbnb_ordenado[\"host_id\"].unique())\n",
    "\n",
    "print(\"Numero de propietarios: \", numero_propietarios)\n",
    "print(\"Numero de alquileres: \", numero_alquileres)"
   ]
  },
  {
   "cell_type": "markdown",
   "metadata": {},
   "source": [
    "Los resultados indican que los propietarios pueden tener varios alquileres, ya que el número de caseros es menor que el número de alquileres.\n",
    "\n",
    "También se comprobará si hay alquileres con la misma ubicación, es decir, con la misma latitud y longitud. Esto es necesario para saber si existen edificios que contengan varios alquileres, ya sean apartamentos enteros o habitaciones individuales."
   ]
  },
  {
   "cell_type": "code",
   "execution_count": 6,
   "metadata": {},
   "outputs": [
    {
     "name": "stdout",
     "output_type": "stream",
     "text": [
      "Agrupaciones por latitud/longitud:  48871\n",
      "Agrupaciones por latitud/longitud/propietario:  48893\n"
     ]
    }
   ],
   "source": [
    "#Agrupamos por latitud y longitud\n",
    "print(\"Agrupaciones por latitud/longitud: \", len(df_airbnb_ordenado.groupby(['latitude', 'longitude']).size()))\n",
    "\n",
    "#Agrupamos por latitud, longitud y propietario\n",
    "print(\"Agrupaciones por latitud/longitud/propietario: \", len(df_airbnb_ordenado.groupby(['latitude', 'longitude', 'host_id'])))"
   ]
  },
  {
   "cell_type": "markdown",
   "metadata": {},
   "source": [
    "Tras esta comprobación, podemos decir que existe un edificio que contiene dos alquileres de un mismo propietario, ya que el número de agrupaciones realizadas en función de latitud, longitud y propietario es igual a 48893 y el número total de alquileres es 48895.\n",
    "\n",
    "Asimismo, también hay que decir que existen 23 alquileres que se encuentran en el mismo edificio. El calculo se ha hecho de la misma forma, pero la agrupación ha cambiado, en este caso se ha agrupado únicamente la latitud y longitud.\n",
    "\n",
    "Comprobaremos la existencia de datos duplicados, y confirmamos que no hay ningún registro duplicado."
   ]
  },
  {
   "cell_type": "code",
   "execution_count": 7,
   "metadata": {},
   "outputs": [
    {
     "name": "stdout",
     "output_type": "stream",
     "text": [
      "Registros no duplicados:  48895\n"
     ]
    }
   ],
   "source": [
    "print(\"Registros no duplicados: \", len(df_airbnb_ordenado.duplicated(subset = None, keep ='last')))"
   ]
  },
  {
   "cell_type": "markdown",
   "metadata": {},
   "source": [
    "### Datos incompletos\n",
    "\n",
    "Lo siguiente que haremos será estudiar todos los valores incompletos/vacíos y tratarlos. Para ello buscaremos todos los valores 'null' y/o 'NaN' y, si es posible, los sustituiremos o eliminaremos, según más convenga al sistema."
   ]
  },
  {
   "cell_type": "code",
   "execution_count": 8,
   "metadata": {},
   "outputs": [
    {
     "name": "stdout",
     "output_type": "stream",
     "text": [
      "name                    16\n",
      "host_name               21\n",
      "last_review          10052\n",
      "reviews_per_month    10052\n",
      "dtype: int64\n"
     ]
    }
   ],
   "source": [
    "columnas_null=df_airbnb_ordenado.columns[df_airbnb_ordenado.isnull().any()]\n",
    "\n",
    "#Número de valores null por cada atributo\n",
    "print(df_airbnb_ordenado[columnas_null].isnull().sum())\n",
    "\n",
    "#print(df_airbnb_ordenado[df_airbnb_ordenado.isnull().any(axis=1)][columnas_null].head())\n",
    "#Observamos que 16 son nombres son null, 21 de nombres de propietario y 10052 para ultima reseña y reseña por mes. \n",
    "#Concluimos diciendo que aunque estén vacíos no influyen negativament en el estudio de nuestra práctica. "
   ]
  },
  {
   "cell_type": "markdown",
   "metadata": {},
   "source": [
    "Comprobamos que existen diferentes valores 'null' y NaN en nuestro dataframe. Asimismo, dada la magnitud de nuestro dataset, suponemos que 16 y 21 valores nulos para el name y host_name respectivamente no influyen demasiado en nuestro sistema. \n",
    "\n",
    "En el caso de las reseñas, podemos ver que hay 10052 registros sin ninguna reseña. Que no exista ningún valor para el atributo last_review, quiere decir que no se ha hecho ninguna reseña hasta el momento, por lo que supondremos que el número de reseñas por mes será cero:"
   ]
  },
  {
   "cell_type": "code",
   "execution_count": 9,
   "metadata": {},
   "outputs": [],
   "source": [
    "df_ordenado_limpio = df_airbnb_ordenado.fillna({'reviews_per_month':0})"
   ]
  },
  {
   "cell_type": "markdown",
   "metadata": {},
   "source": [
    "### Reducción de dimensionalidad\n",
    "\n",
    "Además, eliminaremos las columnas de 'name', 'host_id' y 'host_name' por ser irrelevantes para nuestro sistema y no unívocos. También ordenaremos el dataframe por barrio y reiniciaremos el orden de índices."
   ]
  },
  {
   "cell_type": "code",
   "execution_count": 10,
   "metadata": {},
   "outputs": [],
   "source": [
    "#Borrado de atributos\n",
    "df_ordenado_limpio = df_airbnb_ordenado.drop(['name', 'host_id', 'host_name'], axis = 1)\n",
    "\n",
    "#Ordenado\n",
    "df_ordenado_limpio = df_ordenado_limpio.sort_values( by=\"neighbourhood_group\")\n",
    "\n",
    "#Reseteo del índex\n",
    "df_ordenado_limpio = df_ordenado_limpio.reset_index()"
   ]
  },
  {
   "cell_type": "markdown",
   "metadata": {},
   "source": [
    "### Dato anómalos\n",
    "\n",
    "Para comprobar y eliminar los datos anómalos o erróneos, estableceremos la regla de que si hay más reseñas por mes que días del mes (31), eliminaremos dichos registros. Esto tiene lógica, ya que es imposible que un alquiler tenga más de 31 reseñas por mes dado que como mínimo, la estancia en el apartamento o habitación es de 1 noche."
   ]
  },
  {
   "cell_type": "code",
   "execution_count": 11,
   "metadata": {},
   "outputs": [],
   "source": [
    "#Guardamos los valores anómalos por seguridad\n",
    "dato_anomalo = df_ordenado_limpio[df_ordenado_limpio['reviews_per_month'] > 31]\n",
    "\n",
    "#Guardamos los valores no anómalos \n",
    "df_ordenado_limpio = df_ordenado_limpio[df_ordenado_limpio['reviews_per_month'] < 31]"
   ]
  },
  {
   "cell_type": "markdown",
   "metadata": {},
   "source": [
    "# Transformación de Datos\n",
    "\n",
    "### Intervalos de reseña\n",
    "\n",
    "Para obtener los intervalos de reseña y clasificarlas en 'Baja', 'Media' y 'Alta', se llevará a cabo la discretización, usando el método de intervalos con misma frecuencia. De esta forma, tendremos que hallar los diferentes terciles y según nuestro número de intervalos (3) realizar los calculos.\n",
    "\n",
    "Todo esto es necesario para posteriormente, medir el grado de reseñas por mes."
   ]
  },
  {
   "cell_type": "code",
   "execution_count": 12,
   "metadata": {},
   "outputs": [
    {
     "name": "stdout",
     "output_type": "stream",
     "text": [
      "Intervalos de reseña son: [0, 0.3), [0.3, 1.46), [1.46, 27.95] \n"
     ]
    }
   ],
   "source": [
    "total_porcentaje = 1\n",
    "numero_intervalos = 3\n",
    "\n",
    "primer_tercil = total_porcentaje / numero_intervalos\n",
    "segundo_tercil = 2*(total_porcentaje / numero_intervalos)\n",
    "\n",
    "#Calculo de terciles\n",
    "valor_primer_tercil = df_ordenado_limpio['reviews_per_month'].quantile(primer_tercil)\n",
    "valor_segundo_tercil = df_ordenado_limpio['reviews_per_month'].quantile(segundo_tercil)\n",
    "\n",
    "#Valor máximo de reseñas\n",
    "valor_maximo_reseña = df_ordenado_limpio['reviews_per_month'].max()\n",
    "\n",
    "print(\"Intervalos de reseña son: [{}, {}), [{}, {}), [{}, {}] \".format(0, valor_primer_tercil, \n",
    "                                                                                         valor_primer_tercil, valor_segundo_tercil, \n",
    "                                                                                         valor_segundo_tercil, valor_maximo_reseña))"
   ]
  },
  {
   "cell_type": "markdown",
   "metadata": {},
   "source": [
    "### Intervalos de Disponibilidad\n",
    "\n",
    "Para obtener los intervalos de disponibilidad y clasificarla en 'Poco disponible', 'Disponible normalmente' y 'Altamente disponible', se llevará a cabo la discretización, usando el método de intervalos con la misma amplitud. De esta forma, sólo tendremos que dividir el total de días entre nuestro intervalo (3)."
   ]
  },
  {
   "cell_type": "code",
   "execution_count": 13,
   "metadata": {},
   "outputs": [
    {
     "name": "stdout",
     "output_type": "stream",
     "text": [
      "Intervalos de disponibilidad: (0.0,121.66666666666667), (120.66666666666667, 242.33333333333334), (242.33333333333334, 365) \n"
     ]
    }
   ],
   "source": [
    "#Asignamos valores maximos, minimos e intervalos\n",
    "valor_maxdisp = df_ordenado_limpio['availability_365'].max()\n",
    "valor_mindisp = df_ordenado_limpio['availability_365'].min()\n",
    "intervalos = 3\n",
    "\n",
    "#Calculo\n",
    "distancia_intervalodisp = (valor_maxdisp-valor_mindisp)/intervalos\n",
    "\n",
    "print(\"Intervalos de disponibilidad: ({},{}), ({}, {}), ({}, {}) \".format(round(float(valor_mindisp), 3), valor_mindisp+distancia_intervalodisp, \n",
    "                                                                          valor_mindisp+ distancia_intervalodisp-1, distancia_intervalodisp-1+distancia_intervalodisp, \n",
    "                                                                           distancia_intervalodisp-1+distancia_intervalodisp, valor_maxdisp))"
   ]
  },
  {
   "cell_type": "markdown",
   "metadata": {},
   "source": [
    "### Creación de atributos\n",
    "\n",
    "Creamos los nuevos atributos y asignamos los valores en función de los rangos calculados anteriormente, tanto para la disponibilidad y las reseñas por mes. \n",
    "\n",
    "Además, creamos el atributo 'calidad_apartamento' el cual, como su nombre indica, es la calidad que tiene el apartamento según las reglas predefinidas en la documentación."
   ]
  },
  {
   "cell_type": "code",
   "execution_count": 14,
   "metadata": {},
   "outputs": [
    {
     "data": {
      "text/html": [
       "<div>\n",
       "<style scoped>\n",
       "    .dataframe tbody tr th:only-of-type {\n",
       "        vertical-align: middle;\n",
       "    }\n",
       "\n",
       "    .dataframe tbody tr th {\n",
       "        vertical-align: top;\n",
       "    }\n",
       "\n",
       "    .dataframe thead th {\n",
       "        text-align: right;\n",
       "    }\n",
       "</style>\n",
       "<table border=\"1\" class=\"dataframe\">\n",
       "  <thead>\n",
       "    <tr style=\"text-align: right;\">\n",
       "      <th></th>\n",
       "      <th>index</th>\n",
       "      <th>id</th>\n",
       "      <th>neighbourhood_group</th>\n",
       "      <th>neighbourhood</th>\n",
       "      <th>latitude</th>\n",
       "      <th>longitude</th>\n",
       "      <th>room_type</th>\n",
       "      <th>price</th>\n",
       "      <th>minimum_nights</th>\n",
       "      <th>number_of_reviews</th>\n",
       "      <th>last_review</th>\n",
       "      <th>reviews_per_month</th>\n",
       "      <th>calculated_host_listings_count</th>\n",
       "      <th>availability_365</th>\n",
       "      <th>col_review_cat</th>\n",
       "      <th>col_disponibilidad_cat</th>\n",
       "      <th>calidad_apartamento</th>\n",
       "    </tr>\n",
       "  </thead>\n",
       "  <tbody>\n",
       "    <tr>\n",
       "      <th>0</th>\n",
       "      <td>7704</td>\n",
       "      <td>5824543</td>\n",
       "      <td>Bronx</td>\n",
       "      <td>Longwood</td>\n",
       "      <td>40.82209</td>\n",
       "      <td>-73.90086</td>\n",
       "      <td>Private room</td>\n",
       "      <td>80</td>\n",
       "      <td>1</td>\n",
       "      <td>2</td>\n",
       "      <td>2019-04-30</td>\n",
       "      <td>0.32</td>\n",
       "      <td>1</td>\n",
       "      <td>255</td>\n",
       "      <td>Media</td>\n",
       "      <td>Altamente disponible</td>\n",
       "      <td>Malo</td>\n",
       "    </tr>\n",
       "    <tr>\n",
       "      <th>2</th>\n",
       "      <td>32797</td>\n",
       "      <td>25833266</td>\n",
       "      <td>Bronx</td>\n",
       "      <td>Claremont Village</td>\n",
       "      <td>40.84346</td>\n",
       "      <td>-73.91151</td>\n",
       "      <td>Private room</td>\n",
       "      <td>35</td>\n",
       "      <td>1</td>\n",
       "      <td>49</td>\n",
       "      <td>2019-01-23</td>\n",
       "      <td>3.84</td>\n",
       "      <td>1</td>\n",
       "      <td>168</td>\n",
       "      <td>Alta</td>\n",
       "      <td>Disponible normalmente</td>\n",
       "      <td>Bueno</td>\n",
       "    </tr>\n",
       "    <tr>\n",
       "      <th>3</th>\n",
       "      <td>24924</td>\n",
       "      <td>19974905</td>\n",
       "      <td>Bronx</td>\n",
       "      <td>Parkchester</td>\n",
       "      <td>40.83805</td>\n",
       "      <td>-73.85867</td>\n",
       "      <td>Shared room</td>\n",
       "      <td>26</td>\n",
       "      <td>1</td>\n",
       "      <td>18</td>\n",
       "      <td>2019-04-23</td>\n",
       "      <td>0.78</td>\n",
       "      <td>2</td>\n",
       "      <td>342</td>\n",
       "      <td>Media</td>\n",
       "      <td>Altamente disponible</td>\n",
       "      <td>Malo</td>\n",
       "    </tr>\n",
       "    <tr>\n",
       "      <th>4</th>\n",
       "      <td>32784</td>\n",
       "      <td>25816034</td>\n",
       "      <td>Bronx</td>\n",
       "      <td>Van Nest</td>\n",
       "      <td>40.84778</td>\n",
       "      <td>-73.86146</td>\n",
       "      <td>Entire home/apt</td>\n",
       "      <td>150</td>\n",
       "      <td>1</td>\n",
       "      <td>29</td>\n",
       "      <td>2019-06-03</td>\n",
       "      <td>2.23</td>\n",
       "      <td>3</td>\n",
       "      <td>24</td>\n",
       "      <td>Alta</td>\n",
       "      <td>Poco disponible</td>\n",
       "      <td>Muy bueno</td>\n",
       "    </tr>\n",
       "    <tr>\n",
       "      <th>5</th>\n",
       "      <td>32781</td>\n",
       "      <td>25815620</td>\n",
       "      <td>Bronx</td>\n",
       "      <td>Van Nest</td>\n",
       "      <td>40.84787</td>\n",
       "      <td>-73.86177</td>\n",
       "      <td>Entire home/apt</td>\n",
       "      <td>107</td>\n",
       "      <td>1</td>\n",
       "      <td>47</td>\n",
       "      <td>2019-06-23</td>\n",
       "      <td>3.63</td>\n",
       "      <td>3</td>\n",
       "      <td>8</td>\n",
       "      <td>Alta</td>\n",
       "      <td>Poco disponible</td>\n",
       "      <td>Muy bueno</td>\n",
       "    </tr>\n",
       "  </tbody>\n",
       "</table>\n",
       "</div>"
      ],
      "text/plain": [
       "   index        id neighbourhood_group      neighbourhood  latitude  \\\n",
       "0   7704   5824543               Bronx           Longwood  40.82209   \n",
       "2  32797  25833266               Bronx  Claremont Village  40.84346   \n",
       "3  24924  19974905               Bronx        Parkchester  40.83805   \n",
       "4  32784  25816034               Bronx           Van Nest  40.84778   \n",
       "5  32781  25815620               Bronx           Van Nest  40.84787   \n",
       "\n",
       "   longitude        room_type  price  minimum_nights  number_of_reviews  \\\n",
       "0  -73.90086     Private room     80               1                  2   \n",
       "2  -73.91151     Private room     35               1                 49   \n",
       "3  -73.85867      Shared room     26               1                 18   \n",
       "4  -73.86146  Entire home/apt    150               1                 29   \n",
       "5  -73.86177  Entire home/apt    107               1                 47   \n",
       "\n",
       "  last_review  reviews_per_month  calculated_host_listings_count  \\\n",
       "0  2019-04-30               0.32                               1   \n",
       "2  2019-01-23               3.84                               1   \n",
       "3  2019-04-23               0.78                               2   \n",
       "4  2019-06-03               2.23                               3   \n",
       "5  2019-06-23               3.63                               3   \n",
       "\n",
       "   availability_365 col_review_cat  col_disponibilidad_cat calidad_apartamento  \n",
       "0               255          Media    Altamente disponible                Malo  \n",
       "2               168           Alta  Disponible normalmente               Bueno  \n",
       "3               342          Media    Altamente disponible                Malo  \n",
       "4                24           Alta         Poco disponible           Muy bueno  \n",
       "5                 8           Alta         Poco disponible           Muy bueno  "
      ]
     },
     "execution_count": 14,
     "metadata": {},
     "output_type": "execute_result"
    }
   ],
   "source": [
    "#Variable relativa a reseñas por mes\n",
    "df_ordenado_limpio['col_review_cat']= 'Media'\n",
    "df_ordenado_limpio.loc[df_ordenado_limpio['reviews_per_month'] < valor_primer_tercil, 'col_review_cat'] ='Baja'\n",
    "df_ordenado_limpio.loc[df_ordenado_limpio['reviews_per_month'] >= valor_segundo_tercil, 'col_review_cat'] ='Alta'\n",
    "\n",
    "#Variable relativa a disponibilidad\n",
    "df_ordenado_limpio['col_disponibilidad_cat']= 'Disponible normalmente'\n",
    "df_ordenado_limpio.loc[df_ordenado_limpio['availability_365'] < distancia_intervalodisp, 'col_disponibilidad_cat'] ='Poco disponible'\n",
    "df_ordenado_limpio.loc[df_ordenado_limpio['availability_365'] >= 2* distancia_intervalodisp, 'col_disponibilidad_cat'] ='Altamente disponible'\n",
    "\n",
    "#Creación de calidad_apartamento y asignación de valores\n",
    "df_ordenado_limpio['calidad_apartamento'] = 'Bueno'\n",
    "df_ordenado_limpio.loc[(df_ordenado_limpio['col_review_cat'] == 'Alta') & (df_ordenado_limpio['col_disponibilidad_cat'] == 'Poco disponible'), 'calidad_apartamento'] = 'Muy bueno'\n",
    "df_ordenado_limpio.loc[(df_ordenado_limpio['col_review_cat'] == 'Baja') & (df_ordenado_limpio['col_disponibilidad_cat'] == 'Disponible normalmente'), 'calidad_apartamento'] = 'Regular'\n",
    "df_ordenado_limpio.loc[(df_ordenado_limpio['col_review_cat'] == 'Media') & (df_ordenado_limpio['col_disponibilidad_cat'] == 'Disponible normalmente'), 'calidad_apartamento'] = 'Regular'\n",
    "df_ordenado_limpio.loc[(df_ordenado_limpio['col_review_cat'] == 'Alta') & (df_ordenado_limpio['col_disponibilidad_cat'] == 'Disponible normalmente'), 'calidad_apartamento'] = 'Bueno'\n",
    "df_ordenado_limpio.loc[(df_ordenado_limpio['col_review_cat'] == 'Baja') & (df_ordenado_limpio['col_disponibilidad_cat'] == 'Altamente disponible'), 'calidad_apartamento'] = 'Malo'\n",
    "df_ordenado_limpio.loc[(df_ordenado_limpio['col_review_cat'] == 'Media') & (df_ordenado_limpio['col_disponibilidad_cat'] == 'Altamente disponible'), 'calidad_apartamento'] = 'Malo'\n",
    "df_ordenado_limpio.loc[(df_ordenado_limpio['col_review_cat'] == 'Alta') & (df_ordenado_limpio['col_disponibilidad_cat'] == 'Altamente disponible'), 'calidad_apartamento'] = 'Muy malo'\n",
    "\n",
    "df_ordenado_limpio.head()"
   ]
  },
  {
   "cell_type": "markdown",
   "metadata": {},
   "source": [
    "# Obtención de los 5 barrios más populares\n",
    "\n",
    "Se buscarán los 5 barrios más populares en función de la media de disponibilidad que tengan todos los apartamentos que lo forman. Se ha empleado este criterio ya que un apartamento puede tener buena calidad pero no ser popular, por ello se tendrá en cuenta el número de veces que se reserva."
   ]
  },
  {
   "cell_type": "code",
   "execution_count": 15,
   "metadata": {
    "scrolled": false
   },
   "outputs": [
    {
     "data": {
      "text/plain": [
       "<matplotlib.axes._subplots.AxesSubplot at 0x28f9ef00b70>"
      ]
     },
     "execution_count": 15,
     "metadata": {},
     "output_type": "execute_result"
    },
    {
     "data": {
      "image/png": "[encoded data removed]",
      "text/plain": [
       "<Figure size 1080x504 with 1 Axes>"
      ]
     },
     "metadata": {
      "needs_background": "light"
     },
     "output_type": "display_data"
    }
   ],
   "source": [
    "#Representamos un bar plot para ver las diferencias en disponibilidad de cada barrio\n",
    "df_ordenado_limpio.groupby(['neighbourhood']).mean()['availability_365'].sort_values().head(20).plot.bar(figsize=(15,7), title='Disponibilidad de los barrios', fontsize=13, rot = 90)"
   ]
  },
  {
   "cell_type": "markdown",
   "metadata": {},
   "source": [
    "Como se puede observar en la gráfica de barras de arriba (\"Disponibilidad de los barrios\"), los 5 barrios con menor disponibilidad y por lo tanto, con mayor afluencia de clientes, son:\n",
    "\n",
    "    - Bay Terrace, Staten Island\n",
    "    - Navy Yard\n",
    "    - Prince's Bay\n",
    "    - Downtown Brooklyn\n",
    "    - Morningside Heights\n",
    "    \n",
    "Asimismo, se han representado los 20 barrios más populares, y se puede observar que Williamsburg ocupa la posición 19º. No está entre los 5 más populares pero si contamos que hay más de 200 barrios, estar en el TOP20 no está nada mal. Por ello y porque estamos estudianto ese barrio en concreto, lo incluiremos en el diagrama de burbujas que se representará en los siguientes pasos."
   ]
  },
  {
   "cell_type": "markdown",
   "metadata": {},
   "source": [
    "### Diagrama de Burbujas\n",
    "\n",
    "Tras obtener los barrios más populares y ver la buena posición que ocupa Williamsburg, se procederá a la creación del diagrama de burbujas para tener una visión más detalla de estos 6 barrios analizados. Hay que mencionar, que en el diagrama de burbujas que se creará, los tamaños de las burbujas indicarán la cantidad de alquileres y, por lo tanto, se tendrá un diagrama de burbujas de 3 componentes."
   ]
  },
  {
   "cell_type": "code",
   "execution_count": 16,
   "metadata": {},
   "outputs": [
    {
     "data": {
      "image/png": "[encoded data removed]",
      "text/plain": [
       "<Figure size 432x288 with 1 Axes>"
      ]
     },
     "metadata": {
      "needs_background": "light"
     },
     "output_type": "display_data"
    }
   ],
   "source": [
    "#Crearemos un nuevo dataframe con todos los apartamentos pertenecientes a esos barrios\n",
    "#Copia del dataframe\n",
    "df_barrios_populares = df_ordenado_limpio.copy()\n",
    "\n",
    "#Nos quedamos sólo con los barrios populares\n",
    "df_barrios_populares = df_barrios_populares[(df_barrios_populares.neighbourhood == 'Bay Terrace, Staten Island') | \n",
    "                    (df_barrios_populares.neighbourhood == 'Navy Yard') |\n",
    "                    (df_barrios_populares.neighbourhood == \"Prince's Bay\") | \n",
    "                    (df_barrios_populares.neighbourhood == 'Downtown Brooklyn') |\n",
    "                    (df_barrios_populares.neighbourhood == 'Morningside Heights') | \n",
    "                    (df_barrios_populares.neighbourhood == 'Williamsburg')]\n",
    "\n",
    "#Agregamos una columna que almacene la posición del barrio\n",
    "df_barrios_populares['n_pos'] = 0\n",
    "df_barrios_populares.loc[df_barrios_populares.neighbourhood == 'Bay Terrace, Staten Island','n_pos'] = 1\n",
    "df_barrios_populares.loc[df_barrios_populares.neighbourhood == 'Navy Yard','n_pos'] = 2\n",
    "df_barrios_populares.loc[df_barrios_populares.neighbourhood == \"Prince's Bay\",'n_pos'] = 3\n",
    "df_barrios_populares.loc[df_barrios_populares.neighbourhood == 'Downtown Brooklyn','n_pos'] = 4\n",
    "df_barrios_populares.loc[df_barrios_populares.neighbourhood == 'Morningside Heights','n_pos'] = 5\n",
    "df_barrios_populares.loc[df_barrios_populares.neighbourhood == 'Williamsburg','n_pos'] = 19\n",
    "\n",
    "#Agrupamos lo apartamento por barrio y calidad, contando cuantos apartamentos se encuentran en dichos grupos\n",
    "df_barrios_populares_burbuja = df_barrios_populares.copy()\n",
    "df_barrios_populares_burbuja=df_barrios_populares_burbuja.groupby(['neighbourhood','calidad_apartamento']).count()\n",
    "df_barrios_populares_burbuja.drop(df_barrios_populares_burbuja.columns.difference(['availability_365','n_pos']),1,inplace=True)\n",
    "df_barrios_populares_burbuja['apt_count']=df_barrios_populares.groupby(['neighbourhood','calidad_apartamento']).count()['availability_365']\n",
    "df_barrios_populares_burbuja.reset_index(level=[0,1],inplace=True)\n",
    "\n",
    "#Daremos valores numéricos a las categorías de calidad, esto con el fin de organizar el eje y de “muy malo” a “muy bueno”\n",
    "df_barrios_populares_burbuja['calidad_num'] = 4\n",
    "df_barrios_populares_burbuja.loc[df_barrios_populares_burbuja['calidad_apartamento'] == 'Muy bueno','calidad_num'] = 5 \n",
    "df_barrios_populares_burbuja.loc[df_barrios_populares_burbuja['calidad_apartamento'] == 'Regular','calidad_num'] = 3\n",
    "df_barrios_populares_burbuja.loc[df_barrios_populares_burbuja['calidad_apartamento'] == 'Malo','calidad_num'] = 2\n",
    "df_barrios_populares_burbuja.loc[df_barrios_populares_burbuja['calidad_apartamento'] == 'Muy malo','calidad_num'] = 1\n",
    "\n",
    "#Ordenamos por la posición de los barrios\n",
    "df_barrios_populares_burbuja.sort_values(by=['n_pos','calidad_num'],inplace=True)\n",
    "\n",
    "#area= apartamentos en el grupo\n",
    "fig, ax = plt.subplots()\n",
    "size=df_barrios_populares_burbuja['apt_count'].tolist()\n",
    "fig=plt.scatter(df_barrios_populares_burbuja.neighbourhood.tolist(),df_barrios_populares_burbuja.calidad_num.tolist(),s=size,alpha=0.3)\n",
    "fig=plt.xticks(rotation=90)\n",
    "\n",
    "#renombramos las etiquetas del eje y, para pasar de los valores numéricos de nuevo a los categóricos\n",
    "labels = ['','','Muy malo','','Malo','','Regular','','Bueno','','Muy bueno']\n",
    "plt.yticks(np.arange(0, 6, step=0.5))\n",
    "ax.set_yticklabels(labels)\n",
    "plt.show()"
   ]
  },
  {
   "cell_type": "markdown",
   "metadata": {},
   "source": [
    "En el diagrama de burbujas (\"Distribución Barrios Populares\"), se puede observar algo muy interesante si lo contrastamos con el diagrama de barras anterior. \n",
    "\n",
    "Lo primero que podemos observar es que, lo más habitual en estos barrios es encontrarse con apartamentos buenos y muy buenos. Por ello podríamos deducir que la popularidad de los barrios depende mucho de la calidad de los mismos y que, cuanta más calidad tengan más populares se volverán y más gente irá. Esto parece algo trivial pero desde luego no lo es.\n",
    "\n",
    "Y es que, los tres primeros barrios (Bay Terrace, Navy Yand, Prince's Bay), sólo apartamentos de Muy buena y buena calidad, pero algo que también llama la atención es su escaso número de apartamentos. Podríamos deducir que los pocos apartamentos que hay en el barrio son bastante buenos y, por lo tanto, ocupan una muy buena posición en el ranking de barrios populares.\n",
    "\n",
    "Por otra parte, fijándonos en Williamsburg, podemos observar que tiene apartamentos de todo tipo, con mayor número de buenos alquileres pero gran cantidad también en el resto de calidades. Aún es pronto para mostrar las conclusiones finales, pero esto podría deberse a que es un barrio en alza y que está popularizándose, por lo que no todos sus apartamentos son especialmente populares, pero si que es cierto que los buenos apartamentos están en alza. Asimismo, se puede observar que es el barrio con mayor número de alquileres en su conjunto, siendo mayoría los alquileres 'Bueno' y 'Muy Bueno'."
   ]
  },
  {
   "cell_type": "markdown",
   "metadata": {},
   "source": [
    "# Diferencias de precio"
   ]
  },
  {
   "cell_type": "markdown",
   "metadata": {},
   "source": [
    "A continuación, se estudiará la diferecia de precio del alquiler de una habitación o un apartamento entre los diferentes barrios populares.\n",
    "\n",
    "Para ello, nos apoyaremos en el uso de los diagramas de cajas."
   ]
  },
  {
   "cell_type": "code",
   "execution_count": 17,
   "metadata": {},
   "outputs": [
    {
     "data": {
      "text/html": [
       "<div>\n",
       "<style scoped>\n",
       "    .dataframe tbody tr th:only-of-type {\n",
       "        vertical-align: middle;\n",
       "    }\n",
       "\n",
       "    .dataframe tbody tr th {\n",
       "        vertical-align: top;\n",
       "    }\n",
       "\n",
       "    .dataframe thead th {\n",
       "        text-align: right;\n",
       "    }\n",
       "</style>\n",
       "<table border=\"1\" class=\"dataframe\">\n",
       "  <thead>\n",
       "    <tr style=\"text-align: right;\">\n",
       "      <th></th>\n",
       "      <th>neighbourhood</th>\n",
       "      <th>room_type</th>\n",
       "      <th>price</th>\n",
       "    </tr>\n",
       "  </thead>\n",
       "  <tbody>\n",
       "    <tr>\n",
       "      <th>1119</th>\n",
       "      <td>Williamsburg</td>\n",
       "      <td>Entire home/apt</td>\n",
       "      <td>180</td>\n",
       "    </tr>\n",
       "    <tr>\n",
       "      <th>1131</th>\n",
       "      <td>Williamsburg</td>\n",
       "      <td>Private room</td>\n",
       "      <td>55</td>\n",
       "    </tr>\n",
       "    <tr>\n",
       "      <th>1145</th>\n",
       "      <td>Williamsburg</td>\n",
       "      <td>Entire home/apt</td>\n",
       "      <td>175</td>\n",
       "    </tr>\n",
       "    <tr>\n",
       "      <th>1146</th>\n",
       "      <td>Williamsburg</td>\n",
       "      <td>Entire home/apt</td>\n",
       "      <td>800</td>\n",
       "    </tr>\n",
       "    <tr>\n",
       "      <th>1147</th>\n",
       "      <td>Williamsburg</td>\n",
       "      <td>Private room</td>\n",
       "      <td>66</td>\n",
       "    </tr>\n",
       "  </tbody>\n",
       "</table>\n",
       "</div>"
      ],
      "text/plain": [
       "     neighbourhood        room_type  price\n",
       "1119  Williamsburg  Entire home/apt    180\n",
       "1131  Williamsburg     Private room     55\n",
       "1145  Williamsburg  Entire home/apt    175\n",
       "1146  Williamsburg  Entire home/apt    800\n",
       "1147  Williamsburg     Private room     66"
      ]
     },
     "execution_count": 17,
     "metadata": {},
     "output_type": "execute_result"
    }
   ],
   "source": [
    "#Creacion del nuevo dataframe\n",
    "df_barrios_populares_precio = df_barrios_populares.copy()\n",
    "\n",
    "#Eliminamos todas las columnas irrelevantes\n",
    "df_barrios_populares_precio.drop(df_barrios_populares_precio.columns.difference(['neighbourhood','room_type','price']), 1, inplace=True)\n",
    "df_barrios_populares_precio.head()"
   ]
  },
  {
   "cell_type": "markdown",
   "metadata": {},
   "source": [
    "Con el nuevo dataframe, dividiremos en dos nuestro problema: por una parte mostraremos los diagramas de caja de los precios de las habitaciones por cada barrio, y por otra parte, haremos lo mismo para los apartamentos. De esta forma, se podrá tener una vision amplia de las diferencias de precios entre los diferentes barrios."
   ]
  },
  {
   "cell_type": "markdown",
   "metadata": {},
   "source": [
    "### Habitaciones individuales\n",
    "\n",
    "Procedemos con la creación del diagrama de cajas para las habitaciones individuales en los diferetes barrios populares."
   ]
  },
  {
   "cell_type": "code",
   "execution_count": 18,
   "metadata": {
    "scrolled": false
   },
   "outputs": [
    {
     "data": {
      "text/plain": [
       "<matplotlib.axes._subplots.AxesSubplot at 0x28f9f848da0>"
      ]
     },
     "execution_count": 18,
     "metadata": {},
     "output_type": "execute_result"
    },
    {
     "data": {
      "image/png": "[encoded data removed]",
      "text/plain": [
       "<Figure size 1080x504 with 1 Axes>"
      ]
     },
     "metadata": {
      "needs_background": "light"
     },
     "output_type": "display_data"
    }
   ],
   "source": [
    "df_barrios_populares_precio[\n",
    "    (df_barrios_populares_precio.room_type=='Private room')].boxplot(by='neighbourhood',column='price', rot=90, fontsize=13, figsize=(15,7))"
   ]
  },
  {
   "cell_type": "markdown",
   "metadata": {},
   "source": [
    "### Apartamentos\n",
    "\n",
    "Procedemos con la creación del diagrama de cajas para los apartamentos en los diferentes barrios populares."
   ]
  },
  {
   "cell_type": "code",
   "execution_count": 19,
   "metadata": {},
   "outputs": [
    {
     "data": {
      "text/plain": [
       "<matplotlib.axes._subplots.AxesSubplot at 0x28f9eab42b0>"
      ]
     },
     "execution_count": 19,
     "metadata": {},
     "output_type": "execute_result"
    },
    {
     "data": {
      "image/png": "[encoded data removed]",
      "text/plain": [
       "<Figure size 1080x504 with 1 Axes>"
      ]
     },
     "metadata": {
      "needs_background": "light"
     },
     "output_type": "display_data"
    }
   ],
   "source": [
    "df_barrios_populares_precio[\n",
    "    (df_barrios_populares_precio.room_type=='Entire home/apt')].boxplot(by='neighbourhood',column='price', rot=90, fontsize=13, figsize=(15,7))"
   ]
  },
  {
   "cell_type": "markdown",
   "metadata": {},
   "source": [
    "Una vez reprensetandos los diagramas, podemos observar diferentes cosas. \n",
    "\n",
    "Lo primero de todo, y algo que llama la atención es la inexistencia de habitaciones individuales en los barrios de Bay Terrace y Prince's Bay. Sabiendo que son dos bahías costeras, podemos llegar a la conclusión de que tiene sentido que tan sólo se alquilen apartamentos de buena calidad, ya que estarían bien enfocadas hacia el turismo vacacional o la gente que trabaje en el muelle/puerto.\n",
    "\n",
    "Otra cosa que llama la atención enormemente es la gran cantidad de valores atípicos, indicando la gran cantidad de alquileres que están mucho más caros de lo normal. Se dan sobre todo en dos barrios: Morningside Heights y Williansburg. \n",
    "\n",
    "En el primer barrio, Morningside Heights, uno de los motivos que podrían influir en la subida, podría ser que un campues de la Universidad de Columbia se encuentra en ese barrio por lo que, los caseros podrían aprovecharlo.\n",
    "\n",
    "El segundo barrio, Williansburg, los datos atípicos son muchos por lo que se podría pensar que ya no son tan atípicos como se pensaba. Con esto podemos deducir que muchos caseros se han dado cuenta de que el barrio está popularizándose rápidamente y por ello, están subiendo los precios enormemente, tanto de las habitaciones como de los apartamentos. De hecho, observando el diagrama, podemos observar como los precios considerados 'normales' de los apartamentos son un poco más elevados que en el resto de barrios, aunque esto no pasa con las habitaciones.\n",
    "\n",
    "Otro cosa que destacar en el barrio, es un valor atípico en el diagrama de habitaciones, donde parece ser que una habitación llega a los 1000 dolares."
   ]
  },
  {
   "cell_type": "markdown",
   "metadata": {},
   "source": [
    "# Tendencia a dejar reseñas"
   ]
  },
  {
   "cell_type": "markdown",
   "metadata": {},
   "source": [
    "A continuación, veremos como ha evolucionado la tendencia a dejar reseñas en la app durante los últimos años. Para ello, como siempre, modificaremos el dataframe para poder modelarlo correctamente."
   ]
  },
  {
   "cell_type": "code",
   "execution_count": 20,
   "metadata": {},
   "outputs": [
    {
     "data": {
      "text/html": [
       "<div>\n",
       "<style scoped>\n",
       "    .dataframe tbody tr th:only-of-type {\n",
       "        vertical-align: middle;\n",
       "    }\n",
       "\n",
       "    .dataframe tbody tr th {\n",
       "        vertical-align: top;\n",
       "    }\n",
       "\n",
       "    .dataframe thead th {\n",
       "        text-align: right;\n",
       "    }\n",
       "</style>\n",
       "<table border=\"1\" class=\"dataframe\">\n",
       "  <thead>\n",
       "    <tr style=\"text-align: right;\">\n",
       "      <th></th>\n",
       "      <th>last_review</th>\n",
       "    </tr>\n",
       "  </thead>\n",
       "  <tbody>\n",
       "    <tr>\n",
       "      <th>19781</th>\n",
       "      <td>2011-03-28</td>\n",
       "    </tr>\n",
       "    <tr>\n",
       "      <th>21136</th>\n",
       "      <td>2011-04-25</td>\n",
       "    </tr>\n",
       "    <tr>\n",
       "      <th>19804</th>\n",
       "      <td>2011-05-12</td>\n",
       "    </tr>\n",
       "    <tr>\n",
       "      <th>20963</th>\n",
       "      <td>2011-09-18</td>\n",
       "    </tr>\n",
       "    <tr>\n",
       "      <th>43211</th>\n",
       "      <td>2011-09-19</td>\n",
       "    </tr>\n",
       "  </tbody>\n",
       "</table>\n",
       "</div>"
      ],
      "text/plain": [
       "      last_review\n",
       "19781  2011-03-28\n",
       "21136  2011-04-25\n",
       "19804  2011-05-12\n",
       "20963  2011-09-18\n",
       "43211  2011-09-19"
      ]
     },
     "execution_count": 20,
     "metadata": {},
     "output_type": "execute_result"
    }
   ],
   "source": [
    "#Creacion del nuevo dataframe\n",
    "df_comentarios = df_ordenado_limpio.copy()\n",
    "\n",
    "#Eliminamos todas las columnas irrelevantes\n",
    "df_comentarios.drop(df_comentarios.columns.difference(['last_review']), 1, inplace=True)\n",
    "df_comentarios.sort_values(by='last_review').head()"
   ]
  },
  {
   "cell_type": "code",
   "execution_count": 21,
   "metadata": {
    "scrolled": false
   },
   "outputs": [
    {
     "data": {
      "text/plain": [
       "<matplotlib.axes._subplots.AxesSubplot at 0x28f9e5db828>"
      ]
     },
     "execution_count": 21,
     "metadata": {},
     "output_type": "execute_result"
    },
    {
     "data": {
      "image/png": "[encoded data removed]",
      "text/plain": [
       "<Figure size 1080x504 with 1 Axes>"
      ]
     },
     "metadata": {
      "needs_background": "light"
     },
     "output_type": "display_data"
    }
   ],
   "source": [
    "#Convertimos el atributo 'last_review' en un datetime para poder usarlo más facilmente.\n",
    "df_comentarios['last_review'] = pd.to_datetime(df_comentarios['last_review'], format='%Y-%m-%d')\n",
    "\n",
    "#Representamos graficamente agrupando por año\n",
    "df_comentarios.groupby(df_comentarios.last_review.dt.year).count().plot(grid=False, color='blue', figsize=(15,7))"
   ]
  },
  {
   "cell_type": "markdown",
   "metadata": {},
   "source": [
    "Como se puede observar y confirmando la hipótesis, la tendencia a dejar reseñas ha aumentando enormemente desde hace un par de años. Asimismo, se ve un claro repunte y aumento exponencial a partir del año 2018.\n",
    "\n",
    "Además, cabe destacar que el aumento inicial comenzó en el año 2014, aproximadamente cuando se empezó a generalizar el uso del smartphone."
   ]
  },
  {
   "cell_type": "markdown",
   "metadata": {},
   "source": [
    "### Curiosidad\n",
    "\n",
    "A modo de simple curiosidad, vamos a ver en que meses se han dado mayor número de reseñas, para comprobar si la época del año influye y si es así, cuánto."
   ]
  },
  {
   "cell_type": "code",
   "execution_count": 22,
   "metadata": {},
   "outputs": [
    {
     "data": {
      "text/plain": [
       "<matplotlib.axes._subplots.AxesSubplot at 0x28f9e69bc88>"
      ]
     },
     "execution_count": 22,
     "metadata": {},
     "output_type": "execute_result"
    },
    {
     "data": {
      "image/png": "[encoded data removed]",
      "text/plain": [
       "<Figure size 1080x504 with 1 Axes>"
      ]
     },
     "metadata": {
      "needs_background": "light"
     },
     "output_type": "display_data"
    }
   ],
   "source": [
    "#Representamos graficamente agrupando por mes\n",
    "df_comentarios.groupby(df_comentarios.last_review.dt.month).count().plot(grid=False, color='blue', figsize=(15,7))"
   ]
  },
  {
   "cell_type": "markdown",
   "metadata": {},
   "source": [
    "El resultado es bastante interesante, ya que muestra que en los meses de verano las reseñas suelen aumentar bastante más con respecto al resto del año, llegando a multiplicar el número de reservas. Seguramente debido a que en esas épocas el número de turistas y reservas aumenta considerablemente. El segundo pico proviene de enero, a justo después de las Navidades."
   ]
  }
 ],
 "metadata": {
  "kernelspec": {
   "display_name": "Python 3",
   "language": "python",
   "name": "python3"
  },
  "language_info": {
   "codemirror_mode": {
    "name": "ipython",
    "version": 3
   },
   "file_extension": ".py",
   "mimetype": "text/x-python",
   "name": "python",
   "nbconvert_exporter": "python",
   "pygments_lexer": "ipython3",
   "version": "3.7.3"
  }
 },
 "nbformat": 4,
 "nbformat_minor": 2
}
