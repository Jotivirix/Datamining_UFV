{
 "cells": [
  {
   "cell_type": "markdown",
   "metadata": {},
   "source": [
    "Laboratorio 3\n",
    "\n",
    "Práctica 3\n",
    "\n",
    "Autores: Raúl Jiménez Juárez \n",
    "         Beatriz Magán Pinto \n",
    "         David Alonso Rodríguez Lepina \n",
    "         Andrés Felipe Sánchez Patarroyo \n",
    "         \n",
    "Asignatura: Aprendizaje estadístico & Data Mining    \n",
    "\n",
    "Fecha: 31 de octubre de 2019\n",
    "\n",
    "Objetivo:\n",
    "Un desguace de Madrid quiere automatizar la entrada de coches para ser más óptimo a la hora de despiezarlos y separar las distintas partes de los coches que reciben. Para ello han decidido crear un clasificador basado en las diferentes características de los coches y la probabilidad que pertenezca a una clase de coche u otra."
   ]
  },
  {
   "cell_type": "markdown",
   "metadata": {},
   "source": [
    "# Importamos las librerías necesarias"
   ]
  },
  {
   "cell_type": "code",
   "execution_count": 10,
   "metadata": {},
   "outputs": [],
   "source": [
    "import numpy as np \n",
    "import pandas as pd\n",
    "import random\n",
    "from sklearn import preprocessing\n",
    "from sklearn.naive_bayes import GaussianNB\n",
    "from sklearn.model_selection import train_test_split\n",
    "from sklearn import metrics\n",
    "from sklearn.metrics import confusion_matrix\n",
    "import matplotlib.pyplot as plt\n",
    "import seaborn as sns"
   ]
  },
  {
   "cell_type": "markdown",
   "metadata": {},
   "source": [
    "# Selección del clasficador\n",
    "El clasificador seleccionado para la realización del ejercicio ha sido NAive Bayes. El motivo de emplear este algoritmo se debe a que solicitaun clasificador basado en la <b>probabilidad</b> de que el coche pertenezca a una clase u otra\n"
   ]
  },
  {
   "cell_type": "markdown",
   "metadata": {},
   "source": [
    "## Dataset de autos:\n",
    "El dataset de autos contiene las siguientes columnas:\n",
    "<ul>\n",
    "    <li><b>Buying price:</b> precio de compra</li>\n",
    "    <li><b>Maintenance price: </b>precio de mantenimiento</li>\n",
    "    <li><b>Doors: </b>numero de puertas del vehiculo</li>\n",
    "    <li><b>Persons: </b>capacidad (en numero de personas)</li>\n",
    "    <li><b>Luggage boot: </b>espacio del portaequipajes</li>\n",
    "    <li><b>Safety: </b>seguridad estimada del vehiculo</li>\n",
    "    <li><font color=\"red\"><b>class:</b> clase a la que pertenece el vehiculo</font></li>\n",
    "</ul>"
   ]
  },
  {
   "cell_type": "code",
   "execution_count": 2,
   "metadata": {},
   "outputs": [
    {
     "data": {
      "text/html": [
       "<div>\n",
       "<style scoped>\n",
       "    .dataframe tbody tr th:only-of-type {\n",
       "        vertical-align: middle;\n",
       "    }\n",
       "\n",
       "    .dataframe tbody tr th {\n",
       "        vertical-align: top;\n",
       "    }\n",
       "\n",
       "    .dataframe thead th {\n",
       "        text-align: right;\n",
       "    }\n",
       "</style>\n",
       "<table border=\"1\" class=\"dataframe\">\n",
       "  <thead>\n",
       "    <tr style=\"text-align: right;\">\n",
       "      <th></th>\n",
       "      <th>buying_p</th>\n",
       "      <th>maint_p</th>\n",
       "      <th>doors</th>\n",
       "      <th>persons</th>\n",
       "      <th>lug_boot</th>\n",
       "      <th>safety</th>\n",
       "      <th>class</th>\n",
       "    </tr>\n",
       "  </thead>\n",
       "  <tbody>\n",
       "    <tr>\n",
       "      <th>count</th>\n",
       "      <td>1728</td>\n",
       "      <td>1728</td>\n",
       "      <td>1728</td>\n",
       "      <td>1728</td>\n",
       "      <td>1728</td>\n",
       "      <td>1728</td>\n",
       "      <td>1728</td>\n",
       "    </tr>\n",
       "    <tr>\n",
       "      <th>unique</th>\n",
       "      <td>4</td>\n",
       "      <td>4</td>\n",
       "      <td>4</td>\n",
       "      <td>3</td>\n",
       "      <td>3</td>\n",
       "      <td>3</td>\n",
       "      <td>4</td>\n",
       "    </tr>\n",
       "    <tr>\n",
       "      <th>top</th>\n",
       "      <td>vhigh</td>\n",
       "      <td>vhigh</td>\n",
       "      <td>5more</td>\n",
       "      <td>more</td>\n",
       "      <td>small</td>\n",
       "      <td>high</td>\n",
       "      <td>unacc</td>\n",
       "    </tr>\n",
       "    <tr>\n",
       "      <th>freq</th>\n",
       "      <td>432</td>\n",
       "      <td>432</td>\n",
       "      <td>432</td>\n",
       "      <td>576</td>\n",
       "      <td>576</td>\n",
       "      <td>576</td>\n",
       "      <td>1210</td>\n",
       "    </tr>\n",
       "  </tbody>\n",
       "</table>\n",
       "</div>"
      ],
      "text/plain": [
       "       buying_p maint_p  doors persons lug_boot safety  class\n",
       "count      1728    1728   1728    1728     1728   1728   1728\n",
       "unique        4       4      4       3        3      3      4\n",
       "top       vhigh   vhigh  5more    more    small   high  unacc\n",
       "freq        432     432    432     576      576    576   1210"
      ]
     },
     "execution_count": 2,
     "metadata": {},
     "output_type": "execute_result"
    }
   ],
   "source": [
    "df_cars = pd.read_csv('RecursosLab3/cars.csv', names=['buying_p', 'maint_p','doors','persons','lug_boot','safety','class'])\n",
    "pd.options.display.max_columns = None\n",
    "df_cars.describe()"
   ]
  },
  {
   "cell_type": "markdown",
   "metadata": {},
   "source": [
    "### segun el documento cars.info, los valores para cada columna son los siguientes: <br>\n",
    "\n",
    "<table>\n",
    "    <tr>\n",
    "        <th>Columna</th>\n",
    "        <th>Valores posibles</th>\n",
    "        <th>Total de valores</th>\n",
    "    </tr>\n",
    "    <tr>\n",
    "        <td>buying</td>       \n",
    "        <td>v-high, high, med, low</td>\n",
    "        <td>4</td>\n",
    "    </tr>\n",
    "    <tr>\n",
    "        <td>maint</td>\n",
    "        <td>v-high, high, med, low</td>\n",
    "        <td>4</td>\n",
    "    </tr>\n",
    "    <tr>\n",
    "        <td>doors</td>\n",
    "        <td>2, 3, 4, 5-more</td>\n",
    "        <td>4</td>\n",
    "    </tr>\n",
    "    <tr>\n",
    "        <td>persons</td>\n",
    "        <td>2, 4, more</td>\n",
    "        <td>3</td>\n",
    "    </tr>\n",
    "    <tr>\n",
    "        <td>lug_boot</td>\n",
    "        <td>small, med, big</td>\n",
    "        <td>3</td>\n",
    "    </tr>\n",
    "    <tr>\n",
    "        <td>safety</td>\n",
    "        <td>low, med, high</td>\n",
    "        <td>3</td>\n",
    "    </tr> \n",
    "    <tr>\n",
    "        <td><b>class</b></td>\n",
    "        <td><b>unacc, acc, good, v-good</b></td>\n",
    "        <td><b>4</b></td>\n",
    "    </tr> \n",
    "   </table>\n",
    "   <br>\n",
    "   <br>\n",
    "   Los cuales corresponden a la cantidad de atributos unicos de cada columna segun la descripción del dataframe, adicionalemente, evidenciamos que no se encuentran campos vacios, por lo que para este caso no es necesaria la limpieza de datos "
   ]
  },
  {
   "cell_type": "code",
   "execution_count": 46,
   "metadata": {},
   "outputs": [
    {
     "data": {
      "text/plain": [
       "<matplotlib.axes._subplots.AxesSubplot at 0x1dfc820fa20>"
      ]
     },
     "execution_count": 46,
     "metadata": {},
     "output_type": "execute_result"
    },
    {
     "data": {
      "image/png": "[encoded data removed]",
      "text/plain": [
       "<Figure size 432x288 with 1 Axes>"
      ]
     },
     "metadata": {},
     "output_type": "display_data"
    }
   ],
   "source": [
    "df_cars.groupby('class').count()[['doors']].rename(columns={'doors':'count'}).plot.pie(y='count',autopct='%1.1f%%')"
   ]
  },
  {
   "cell_type": "markdown",
   "metadata": {},
   "source": [
    "Podemos ver como las clases tienen una distribución anormal (dos de ellas tienen menos del 5% del total de coches, mientras que otra agrupa al 70% de ellos)"
   ]
  },
  {
   "cell_type": "markdown",
   "metadata": {},
   "source": [
    "## Preprocesamiento de datos\n",
    "se pasa de datos categoricos a numericos y se divide el dataset para poder realizar entrenamiento y validación"
   ]
  },
  {
   "cell_type": "code",
   "execution_count": 3,
   "metadata": {},
   "outputs": [],
   "source": [
    "#2º Realizamos el preprocesamiento necesario para poder entrenar el clasificador\n",
    "le = preprocessing.LabelEncoder()\n",
    "df_cars_norm=pd.DataFrame()\n",
    "atributos=[]\n",
    "#transformación de variables categoricas a numericas (se exige para utilizar los metodos de Naive Bayes)\n",
    "for i in df_cars.columns:\n",
    "    df_cars_norm[i]=le.fit_transform(df_cars[i])\n",
    "    #guardamos los atributos categoricos\n",
    "    atributos.append(list(le.classes_))\n",
    "#Separación de los datos de entrenamiento y de prueba (90% entrenamiento, 10% prueba)\n",
    "X_train, X_test, y_train, y_test = train_test_split(df_cars_norm[df_cars.columns.difference(['class'])], df_cars_norm[['class']], test_size=0.1,random_state=10)\n"
   ]
  },
  {
   "cell_type": "code",
   "execution_count": 4,
   "metadata": {},
   "outputs": [
    {
     "name": "stdout",
     "output_type": "stream",
     "text": [
      "cantidad de datos de entrenamiento: 1555\tcantidad de datos de prueba: 173\n"
     ]
    }
   ],
   "source": [
    "print('cantidad de datos de entrenamiento: {}\\tcantidad de datos de prueba: {}'.format(len(X_train),len(X_test)))"
   ]
  },
  {
   "cell_type": "markdown",
   "metadata": {},
   "source": [
    "## Entrenamiento del clasificador\n",
    "se utilizaron el 90% de los datos disponibles en el dataset para su entrenamiento"
   ]
  },
  {
   "cell_type": "code",
   "execution_count": 5,
   "metadata": {},
   "outputs": [
    {
     "name": "stdout",
     "output_type": "stream",
     "text": [
      "Error: 0.2890173410404624\n"
     ]
    }
   ],
   "source": [
    "#Se crea el clasificador Bayesiano\n",
    "gnb = GaussianNB()\n",
    "\n",
    "#Se entrena el modelo con los atributos y clases de entrenamiento\n",
    "gnb.fit(X_train,y_train['class'])\n",
    "\n",
    "#A partir del modelo previemente entrenado, se predicen las clases de los elementos de entrenamiento\n",
    "y_pred = gnb.predict(X_test)\n",
    "#se comparan los resultados de la predicción con las clases etiquetadas y se calcula el error\n",
    "print(\"Error:\",(1-metrics.accuracy_score(y_test, y_pred)))"
   ]
  },
  {
   "cell_type": "markdown",
   "metadata": {},
   "source": [
    "## Error encontrado\n",
    "<b>Para la configuración realizada del modelo y los elementos de prueba, se encontro un error cercano al 30% tal como puede observarse en la celda de arriba</b>"
   ]
  },
  {
   "cell_type": "markdown",
   "metadata": {},
   "source": [
    "## Analisis de casos particulares\n",
    "se revisarán 5 coches y sus predicciones realizadas por el clasificador"
   ]
  },
  {
   "cell_type": "code",
   "execution_count": 6,
   "metadata": {},
   "outputs": [],
   "source": [
    "#metodo para graficar un pie chart con los porcentajes para cada \n",
    "#posible clase dado un elemento a predecir, asi como la clase predicha y su clase real (etiqueta)\n",
    "def print_prob(a,val,ind):\n",
    "    probs=gnb.predict_proba(a)[0]\n",
    "    sns.set()\n",
    "    plt.pie(probs,labels=atributos[-1], autopct='%1.1f%%')\n",
    "    plt.title('predicción para el coche '+str(ind))\n",
    "    plt.show()\n",
    "    pred=atributos[-1][gnb.predict(a)[0]]\n",
    "    print('predicción: {}, valor real: {}'.format(pred,val))"
   ]
  },
  {
   "cell_type": "code",
   "execution_count": 19,
   "metadata": {},
   "outputs": [],
   "source": [
    "def mostrar_confusionMatriz(y_validacion, y_predicho):\n",
    "    print(\"\\nPrecisión obtenida: \", metrics.accuracy_score(y_validacion, y_predicho))\n",
    "    confunsionMatriz = confusion_matrix(y_validacion, y_predicho)\n",
    "    plt.figure(figsize=(6, 6))\n",
    "    fig, ax = plt.subplots()\n",
    "    fig.canvas.draw()\n",
    "    sns.heatmap(confunsionMatriz, annot=True, fmt=\"d\");\n",
    "    ax.set_xticklabels(atributos[-1])\n",
    "    ax.set_yticklabels(atributos[-1])\n",
    "    plt.title(\"Matriz de confusión\")\n",
    "    plt.ylabel('Clase verdadera')\n",
    "    plt.xlabel('Clase predicha')\n",
    "    plt.show()"
   ]
  },
  {
   "cell_type": "code",
   "execution_count": 13,
   "metadata": {
    "scrolled": false
   },
   "outputs": [
    {
     "data": {
      "text/html": [
       "<div>\n",
       "<style scoped>\n",
       "    .dataframe tbody tr th:only-of-type {\n",
       "        vertical-align: middle;\n",
       "    }\n",
       "\n",
       "    .dataframe tbody tr th {\n",
       "        vertical-align: top;\n",
       "    }\n",
       "\n",
       "    .dataframe thead th {\n",
       "        text-align: right;\n",
       "    }\n",
       "</style>\n",
       "<table border=\"1\" class=\"dataframe\">\n",
       "  <thead>\n",
       "    <tr style=\"text-align: right;\">\n",
       "      <th></th>\n",
       "      <th>buying_p</th>\n",
       "      <th>doors</th>\n",
       "      <th>lug_boot</th>\n",
       "      <th>maint_p</th>\n",
       "      <th>persons</th>\n",
       "      <th>safety</th>\n",
       "    </tr>\n",
       "  </thead>\n",
       "  <tbody>\n",
       "    <tr>\n",
       "      <th>562</th>\n",
       "      <td>high</td>\n",
       "      <td>2</td>\n",
       "      <td>med</td>\n",
       "      <td>high</td>\n",
       "      <td>more</td>\n",
       "      <td>med</td>\n",
       "    </tr>\n",
       "  </tbody>\n",
       "</table>\n",
       "</div>"
      ],
      "text/plain": [
       "    buying_p doors lug_boot maint_p persons safety\n",
       "562     high     2      med    high    more    med"
      ]
     },
     "metadata": {},
     "output_type": "display_data"
    },
    {
     "data": {
      "image/png": "[encoded data removed]",
      "text/plain": [
       "<Figure size 432x288 with 1 Axes>"
      ]
     },
     "metadata": {},
     "output_type": "display_data"
    },
    {
     "name": "stdout",
     "output_type": "stream",
     "text": [
      "predicción: unacc, valor real: unacc\n"
     ]
    },
    {
     "data": {
      "text/html": [
       "<div>\n",
       "<style scoped>\n",
       "    .dataframe tbody tr th:only-of-type {\n",
       "        vertical-align: middle;\n",
       "    }\n",
       "\n",
       "    .dataframe tbody tr th {\n",
       "        vertical-align: top;\n",
       "    }\n",
       "\n",
       "    .dataframe thead th {\n",
       "        text-align: right;\n",
       "    }\n",
       "</style>\n",
       "<table border=\"1\" class=\"dataframe\">\n",
       "  <thead>\n",
       "    <tr style=\"text-align: right;\">\n",
       "      <th></th>\n",
       "      <th>buying_p</th>\n",
       "      <th>doors</th>\n",
       "      <th>lug_boot</th>\n",
       "      <th>maint_p</th>\n",
       "      <th>persons</th>\n",
       "      <th>safety</th>\n",
       "    </tr>\n",
       "  </thead>\n",
       "  <tbody>\n",
       "    <tr>\n",
       "      <th>720</th>\n",
       "      <td>high</td>\n",
       "      <td>4</td>\n",
       "      <td>small</td>\n",
       "      <td>med</td>\n",
       "      <td>more</td>\n",
       "      <td>low</td>\n",
       "    </tr>\n",
       "  </tbody>\n",
       "</table>\n",
       "</div>"
      ],
      "text/plain": [
       "    buying_p doors lug_boot maint_p persons safety\n",
       "720     high     4    small     med    more    low"
      ]
     },
     "metadata": {},
     "output_type": "display_data"
    },
    {
     "data": {
      "image/png": "[encoded data removed]",
      "text/plain": [
       "<Figure size 432x288 with 1 Axes>"
      ]
     },
     "metadata": {},
     "output_type": "display_data"
    },
    {
     "name": "stdout",
     "output_type": "stream",
     "text": [
      "predicción: unacc, valor real: unacc\n"
     ]
    },
    {
     "data": {
      "text/html": [
       "<div>\n",
       "<style scoped>\n",
       "    .dataframe tbody tr th:only-of-type {\n",
       "        vertical-align: middle;\n",
       "    }\n",
       "\n",
       "    .dataframe tbody tr th {\n",
       "        vertical-align: top;\n",
       "    }\n",
       "\n",
       "    .dataframe thead th {\n",
       "        text-align: right;\n",
       "    }\n",
       "</style>\n",
       "<table border=\"1\" class=\"dataframe\">\n",
       "  <thead>\n",
       "    <tr style=\"text-align: right;\">\n",
       "      <th></th>\n",
       "      <th>buying_p</th>\n",
       "      <th>doors</th>\n",
       "      <th>lug_boot</th>\n",
       "      <th>maint_p</th>\n",
       "      <th>persons</th>\n",
       "      <th>safety</th>\n",
       "    </tr>\n",
       "  </thead>\n",
       "  <tbody>\n",
       "    <tr>\n",
       "      <th>427</th>\n",
       "      <td>vhigh</td>\n",
       "      <td>5more</td>\n",
       "      <td>med</td>\n",
       "      <td>low</td>\n",
       "      <td>more</td>\n",
       "      <td>med</td>\n",
       "    </tr>\n",
       "  </tbody>\n",
       "</table>\n",
       "</div>"
      ],
      "text/plain": [
       "    buying_p  doors lug_boot maint_p persons safety\n",
       "427    vhigh  5more      med     low    more    med"
      ]
     },
     "metadata": {},
     "output_type": "display_data"
    },
    {
     "data": {
      "image/png": "[encoded data removed]",
      "text/plain": [
       "<Figure size 432x288 with 1 Axes>"
      ]
     },
     "metadata": {},
     "output_type": "display_data"
    },
    {
     "name": "stdout",
     "output_type": "stream",
     "text": [
      "predicción: unacc, valor real: acc\n"
     ]
    },
    {
     "data": {
      "text/html": [
       "<div>\n",
       "<style scoped>\n",
       "    .dataframe tbody tr th:only-of-type {\n",
       "        vertical-align: middle;\n",
       "    }\n",
       "\n",
       "    .dataframe tbody tr th {\n",
       "        vertical-align: top;\n",
       "    }\n",
       "\n",
       "    .dataframe thead th {\n",
       "        text-align: right;\n",
       "    }\n",
       "</style>\n",
       "<table border=\"1\" class=\"dataframe\">\n",
       "  <thead>\n",
       "    <tr style=\"text-align: right;\">\n",
       "      <th></th>\n",
       "      <th>buying_p</th>\n",
       "      <th>doors</th>\n",
       "      <th>lug_boot</th>\n",
       "      <th>maint_p</th>\n",
       "      <th>persons</th>\n",
       "      <th>safety</th>\n",
       "    </tr>\n",
       "  </thead>\n",
       "  <tbody>\n",
       "    <tr>\n",
       "      <th>230</th>\n",
       "      <td>vhigh</td>\n",
       "      <td>2</td>\n",
       "      <td>med</td>\n",
       "      <td>med</td>\n",
       "      <td>4</td>\n",
       "      <td>high</td>\n",
       "    </tr>\n",
       "  </tbody>\n",
       "</table>\n",
       "</div>"
      ],
      "text/plain": [
       "    buying_p doors lug_boot maint_p persons safety\n",
       "230    vhigh     2      med     med       4   high"
      ]
     },
     "metadata": {},
     "output_type": "display_data"
    },
    {
     "data": {
      "image/png": "[encoded data removed]",
      "text/plain": [
       "<Figure size 432x288 with 1 Axes>"
      ]
     },
     "metadata": {},
     "output_type": "display_data"
    },
    {
     "name": "stdout",
     "output_type": "stream",
     "text": [
      "predicción: vgood, valor real: acc\n"
     ]
    },
    {
     "data": {
      "text/html": [
       "<div>\n",
       "<style scoped>\n",
       "    .dataframe tbody tr th:only-of-type {\n",
       "        vertical-align: middle;\n",
       "    }\n",
       "\n",
       "    .dataframe tbody tr th {\n",
       "        vertical-align: top;\n",
       "    }\n",
       "\n",
       "    .dataframe thead th {\n",
       "        text-align: right;\n",
       "    }\n",
       "</style>\n",
       "<table border=\"1\" class=\"dataframe\">\n",
       "  <thead>\n",
       "    <tr style=\"text-align: right;\">\n",
       "      <th></th>\n",
       "      <th>buying_p</th>\n",
       "      <th>doors</th>\n",
       "      <th>lug_boot</th>\n",
       "      <th>maint_p</th>\n",
       "      <th>persons</th>\n",
       "      <th>safety</th>\n",
       "    </tr>\n",
       "  </thead>\n",
       "  <tbody>\n",
       "    <tr>\n",
       "      <th>267</th>\n",
       "      <td>vhigh</td>\n",
       "      <td>3</td>\n",
       "      <td>big</td>\n",
       "      <td>med</td>\n",
       "      <td>more</td>\n",
       "      <td>low</td>\n",
       "    </tr>\n",
       "  </tbody>\n",
       "</table>\n",
       "</div>"
      ],
      "text/plain": [
       "    buying_p doors lug_boot maint_p persons safety\n",
       "267    vhigh     3      big     med    more    low"
      ]
     },
     "metadata": {},
     "output_type": "display_data"
    },
    {
     "data": {
      "image/png": "[encoded data removed]",
      "text/plain": [
       "<Figure size 432x288 with 1 Axes>"
      ]
     },
     "metadata": {},
     "output_type": "display_data"
    },
    {
     "name": "stdout",
     "output_type": "stream",
     "text": [
      "predicción: unacc, valor real: unacc\n"
     ]
    }
   ],
   "source": [
    "#Usamos el clasificador para saber a qué clase corresponden al menos 5 coches que no hayamos usado para entrenar el modelo. \n",
    "random.seed(45)\n",
    "#se seleccionan 5 coches de forma aleatoria (utilizando una semilla, para poder analizar los mismos datos)\n",
    "random_cars=random.choices(list(X_test.index), k=5)\n",
    "for i in random_cars:\n",
    "    display(df_cars.loc[[i]][df_cars.columns.difference(['class'])])\n",
    "    val=df_cars.loc[[i]]['class'].values[0]\n",
    "    a=X_test.loc[[i]].values\n",
    "    print_prob(a,val,i)"
   ]
  },
  {
   "cell_type": "markdown",
   "metadata": {},
   "source": [
    "Se puede observar que de los 5 casos acerto 3 todos ellos con la clas \"unacceptable\" la cual es la clase con mas apariciones en el dataset (cerca del 70% de los coches clasifican dentro de esta categoria) sin embargo los dos coches mal clasificados pertenecen a clases con menos apariciones, por lo que podriamos decir que a pesar de tener un error del 30%, clasifica mucho peor las clases que menos apariciones tuvieron en el set de entrenamiento (datos desbalanceados). "
   ]
  },
  {
   "cell_type": "markdown",
   "metadata": {},
   "source": [
    "## matriz de confusión\n",
    "Para revisar que tan bien clasifica cada una de las clases, vamos a representar los resultados mediante una matriz de confusión"
   ]
  },
  {
   "cell_type": "code",
   "execution_count": 40,
   "metadata": {
    "scrolled": false
   },
   "outputs": [
    {
     "data": {
      "text/html": [
       "<div>\n",
       "<style scoped>\n",
       "    .dataframe tbody tr th:only-of-type {\n",
       "        vertical-align: middle;\n",
       "    }\n",
       "\n",
       "    .dataframe tbody tr th {\n",
       "        vertical-align: top;\n",
       "    }\n",
       "\n",
       "    .dataframe thead th {\n",
       "        text-align: right;\n",
       "    }\n",
       "</style>\n",
       "<table border=\"1\" class=\"dataframe\">\n",
       "  <thead>\n",
       "    <tr style=\"text-align: right;\">\n",
       "      <th></th>\n",
       "      <th>conteo</th>\n",
       "    </tr>\n",
       "    <tr>\n",
       "      <th>clase</th>\n",
       "      <th></th>\n",
       "    </tr>\n",
       "  </thead>\n",
       "  <tbody>\n",
       "    <tr>\n",
       "      <th>acc</th>\n",
       "      <td>24</td>\n",
       "    </tr>\n",
       "    <tr>\n",
       "      <th>good</th>\n",
       "      <td>8</td>\n",
       "    </tr>\n",
       "    <tr>\n",
       "      <th>unacc</th>\n",
       "      <td>133</td>\n",
       "    </tr>\n",
       "    <tr>\n",
       "      <th>vgood</th>\n",
       "      <td>8</td>\n",
       "    </tr>\n",
       "  </tbody>\n",
       "</table>\n",
       "</div>"
      ],
      "text/plain": [
       "       conteo\n",
       "clase        \n",
       "acc        24\n",
       "good        8\n",
       "unacc     133\n",
       "vgood       8"
      ]
     },
     "metadata": {},
     "output_type": "display_data"
    },
    {
     "name": "stdout",
     "output_type": "stream",
     "text": [
      "\n",
      "Precisión obtenida:  0.7109826589595376\n"
     ]
    },
    {
     "data": {
      "text/plain": [
       "<Figure size 432x432 with 0 Axes>"
      ]
     },
     "metadata": {},
     "output_type": "display_data"
    },
    {
     "data": {
      "image/png": "[encoded data removed]",
      "text/plain": [
       "<Figure size 432x288 with 2 Axes>"
      ]
     },
     "metadata": {},
     "output_type": "display_data"
    }
   ],
   "source": [
    "y_test['conteo']=0\n",
    "y_test['clase']=np.array(atributos[-1])[np.array(list(y_test['class']))]\n",
    "display(y_test.groupby('clase').count()[['conteo']])\n",
    "y_test.drop(columns=['conteo','clase'], inplace=True)\n",
    "mostrar_confusionMatriz(y_test, y_pred)"
   ]
  },
  {
   "cell_type": "markdown",
   "metadata": {},
   "source": [
    "podemos ver como de los 24 vehiculos \"acceptable\" solo clasifica bien 7 de ellos y para la clase \"good\" no clasifica correctamente ninguno de los 8 coches, para las clases \"unacc\" y \"very good\" se tiene una cantidad de predicciones correctas aceptable (para vgood acierta todas las veces la clasificación), se considera que esto sucede ya que las clases tienen un <b>orden</b> (unacc, acc, good, vgood) y al ser unacc y good los extremos, es muy probable que las caracteristicas de los coches que caen en estas categorias sean opuestos, mientras que acc y good, al estar en el medio de la clasificación pueden compartir bastantes similitudes, esto sumado al hecho de que la cantidad de coches que entran en estas categorias es bastante inferior al de la clase dominante (<b>unacc</b>). Una posible solución a este problema es el incluir mas registros con cohes de las otras categorias (principalmente acc y good), de tal forma que este balanceada la cantidad de coches en cada una."
   ]
  },
  {
   "cell_type": "code",
   "execution_count": null,
   "metadata": {},
   "outputs": [],
   "source": []
  }
 ],
 "metadata": {
  "kernelspec": {
   "display_name": "Python 3",
   "language": "python",
   "name": "python3"
  },
  "language_info": {
   "codemirror_mode": {
    "name": "ipython",
    "version": 3
   },
   "file_extension": ".py",
   "mimetype": "text/x-python",
   "name": "python",
   "nbconvert_exporter": "python",
   "pygments_lexer": "ipython3",
   "version": "3.6.8"
  }
 },
 "nbformat": 4,
 "nbformat_minor": 2
}
