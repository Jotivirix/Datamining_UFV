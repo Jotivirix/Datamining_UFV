{
 "cells": [
  {
   "cell_type": "markdown",
   "metadata": {},
   "source": [
    "Laboratorio 3\n",
    "\n",
    "Práctica 3\n",
    "\n",
    "Autores\n",
    "Raúl Jiménez Juárez\n",
    "\n",
    "Beatriz Magán Pinto \n",
    "\n",
    "David Alonso Rodríguez Lepina \n",
    "\n",
    "Andrés Felipe Sánchez Patarroyo \n",
    "         \n",
    "Asignatura: Aprendizaje estadístico & Data Mining    \n",
    "\n",
    "Fecha: 31 de octubre de 2019\n",
    "\n",
    "Objetivo:\n",
    "El etiquetado de imágenes es una tarea ardua. Es por ello y también debido a sus aplicaciones prácticas que los científicos llevan un tiempo intentando mejorar los métodos para clasificarlas automáticamente. En la aduana del aeropuerto de Madrid se intenta luchar contra el tráfico de animales exóticos. Para ello se va a crear un clasificador que realizando una foto a un animal (en este caso monos) pueda decidir si pertenece a una especie en peligro de extinción o no. Dicho clasificador funcionará mediante un set de entrenamiento donde se buscará un plano que divida las diferentes clases dispuesta en un espacio n-dimensional dependiendo de sus características. "
   ]
  },
  {
   "cell_type": "markdown",
   "metadata": {},
   "source": [
    "# Importamos las librerías necesarias"
   ]
  },
  {
   "cell_type": "code",
   "execution_count": 1,
   "metadata": {},
   "outputs": [
    {
     "name": "stdout",
     "output_type": "stream",
     "text": [
      "Once deleted, variables cannot be recovered. Proceed (y/[n])? y\n"
     ]
    }
   ],
   "source": [
    "%reset\n",
    "import numpy as np \n",
    "import pandas as pd\n",
    "import sklearn\n",
    "import matplotlib as mp\n",
    "from sklearn import svm\n",
    "from scipy import misc\n",
    "import os\n",
    "import matplotlib.pyplot as plt\n",
    "import matplotlib.image as mpimg\n",
    "from PIL import Image\n",
    "from sklearn.metrics import accuracy_score\n",
    "from sklearn.preprocessing import StandardScaler\n",
    "from sklearn.decomposition import PCA\n",
    "from skimage.color import rgb2grey\n",
    "from skimage.feature import hog\n",
    "from sklearn.svm import SVC\n",
    "from sklearn.model_selection import train_test_split"
   ]
  },
  {
   "cell_type": "markdown",
   "metadata": {},
   "source": [
    "## 1º Selección de clasificador que más se adapte a nuestro problema de entre los vistos en clase. \n",
    " \n",
    "Usamos scikit-learn\n",
    "\n",
    "Utilizamos el clasificador support vector machines para separar el hiperplano de puntos en dos categorías: peligroso o no peligroso, y así obtener si el asteroide en cuestión es peligroso o no para la tierra.\n",
    "\n",
    "La motivación para elegir support vector machines en nuestro problema son las siguientes:\n",
    "    - Efectivo en espacio de grandes dimensiones, esto es, en nuestro problema tenemos muchos atributos que estudiar para clasificar el asteroide.\n",
    "    - Usa un subconjunto de puntos de entrenamiento en la función de decisión, llamado support vector, que mejora la eficiencia en cuanto a memoria. \n",
    "    - Versátil: diferentes funciones kernel pueden ser elegidas para la función de decisión.\n"
   ]
  },
  {
   "cell_type": "code",
   "execution_count": 2,
   "metadata": {},
   "outputs": [],
   "source": [
    "#Definimos un método para identificar los elementos únicos de una lista. \n",
    "def unique(list1): \n",
    "    unique_list = [] \n",
    "    for x in list1: \n",
    "        #Comprueba si el elemento está en la lista de únicos o no. \n",
    "        if x not in unique_list: \n",
    "            unique_list.append(x) \n",
    "    return unique_list #evuelve la lista de elementos únicos"
   ]
  },
  {
   "cell_type": "markdown",
   "metadata": {},
   "source": [
    "# 1º Cargamos y preprocesamos los datos"
   ]
  },
  {
   "cell_type": "code",
   "execution_count": null,
   "metadata": {},
   "outputs": [],
   "source": [
    "#Definimos el directorio donde se almacenan las imágenes que vamos a preprocesar y posteriormente, a clasificar. \n",
    "#Hemos decidido usar el conjunto de validación para que el entrenamiento no se demorase demasiado. \n",
    "path = 'Recursos_Lab_3/monos/validation/'\n",
    "\n",
    "#Creamos una lista para guardar las carpetas, el dataframe de entrenamiento y las etiquetas. \n",
    "#En nuestro proyecto, cada carpeta se va a corresponder con un tipo de mono, y por tanto, una etiqueta. \n",
    "\n",
    "#Definimos una lista que guarde las etiquetas de los monos generadas durante el entrenamiento. \n",
    "etiquetas_monos_entrenamiento = list()\n",
    "#Definimos una lista que guarda en una sola dimension (flat) las imágenes de los monos. \n",
    "flat_features_monkey = list()\n",
    "# r=root, d=directorios, f = ficheros\n",
    "for r, d, f in os.walk(path):\n",
    "    for folder in d:\n",
    "        for r, d, f in os.walk(path + folder):\n",
    "            for file in f:\n",
    "                if '.jpg' in file:\n",
    "                    #Si el archivo es una imagen con extensión .jpg, lo guardamos en la carpeta. \n",
    "                    etiquetas_monos_entrenamiento.append(folder)\n",
    "                    imagen = Image.open(path + \"/\" + folder + \"/\" + file)\n",
    "                    #Redimensionamos las imágenes para que todas tengan un tamaño de 256x256 con el objetivo de evitar problemas en el procesamiento de las mismas\n",
    "                    imagen = np.array(imagen.resize((256, 256)))\n",
    "                    #Redimensionamos las imágenes con el objetivo de guardarlo en una única dimension. filas*columnas*3componentes cada uno\n",
    "                    array_imagen = np.array(imagen).reshape((len(imagen)*len(imagen[0])*3))\n",
    "                    flat_features_monkey.append(array_imagen)"
   ]
  },
  {
   "cell_type": "code",
   "execution_count": null,
   "metadata": {},
   "outputs": [],
   "source": [
    "#Guardamos los items unicos de etiquetas \n",
    "unique_etiquetas = unique(etiquetas_monos_entrenamiento)\n",
    "#Creamos un diccionario que guarde las etiquetas de las especies (n0...n9) y sus valores numéricos (0...9) para que el tratamiento\n",
    "#sea más sencillo. \n",
    "etiquetas_mono = {\"Especie\": unique_etiquetas, \n",
    "                     \"Value\"    : np.arange(0, len(unique_etiquetas))}\n",
    "\n",
    "#Guardamos en una lista las etiquetas obtenidas. \n",
    "etiquetas_n0_n9 = list()\n",
    "for i in range(len(etiquetas_mono[\"Value\"])):\n",
    "    for j in range(len(etiquetas_monos_entrenamiento)):\n",
    "        if etiquetas_mono[\"Especie\"][i] == etiquetas_monos_entrenamiento[j]:\n",
    "            etiquetas_n0_n9.append(i)"
   ]
  },
  {
   "cell_type": "code",
   "execution_count": null,
   "metadata": {
    "scrolled": true
   },
   "outputs": [],
   "source": [
    "#Guardamos la lista previamente creada de las características del mono en un array. \n",
    "flat_features_monkey = np.array(flat_features_monkey)\n",
    "print('El tamaño de la matriz de características es : ', flat_features_monkey.shape)\n",
    "\n",
    "#Definición de Standard Scaler\n",
    "ss = StandardScaler()\n",
    "#Ejecutamos el StandardScaler sobre nuestro array flat_features_monkey con el objetivo de normalizar. \n",
    "monkeys_stand = ss.fit_transform(flat_features_monkey)"
   ]
  },
  {
   "cell_type": "code",
   "execution_count": null,
   "metadata": {},
   "outputs": [],
   "source": [
    "#Hacemos un split de los datos\n",
    "X =monkeys_stand\n",
    "y = np.array(etiquetas_n0_n9)\n",
    "X_train, X_test, y_train, y_test = train_test_split(X,\n",
    "                                                    y,\n",
    "                                                    test_size=.2, #20% de los datos es para test.\n",
    "                                                    random_state=1234123)"
   ]
  },
  {
   "cell_type": "markdown",
   "metadata": {},
   "source": [
    "## 2º Creamos un clasificador que permita saber qué especie de mono es a partir de una imagen. \n"
   ]
  },
  {
   "cell_type": "code",
   "execution_count": null,
   "metadata": {
    "scrolled": true
   },
   "outputs": [],
   "source": [
    "#Realizamos al menos 2 configuraciones y dibujamos una tabla donde se muestre la precisión con la que clasifican. \n",
    "\n",
    "#Lineal\n",
    "#Definición del clasificador de support vector machine.\n",
    "linear_svm = SVC(kernel='linear', probability=True, random_state=42)\n",
    "# fit model\n",
    "linear_svm.fit(X_train, y_train)\n",
    "\n",
    "#RBF: Kernel de la función radial basis.\n",
    "rbf_svm = SVC(kernel='rbf', probability=True, random_state=42)\n",
    "# fit model\n",
    "rbf_svm.fit(X_train, y_train)\n",
    "\n",
    "#Realizamos la predicción.\n",
    "y_pred = linear_svm.predict(X_test[:len(X_test)-6])\n",
    "\n",
    "#Calculamos la precisión de cada uno de los modelos. \n",
    "accuracy = accuracy_score(y_test[:len(y_test)- 6], y_pred)\n",
    "print('Model lineal accuracy is: ', accuracy)\n",
    "\n",
    "y_pred = rbf_svm.predict(X_test[:len(X_test)-6])\n",
    "# calculate accuracy\n",
    "accuracy = accuracy_score(y_test[:len(y_test)- 6], y_pred)\n",
    "print('Model rbf accuracy is: ', accuracy)"
   ]
  },
  {
   "cell_type": "markdown",
   "metadata": {},
   "source": [
    "### El modelo que mejor clasifica  es, por tanto, el modelo lineal porque tiene un accuracy superior al modelo rbf"
   ]
  },
  {
   "cell_type": "markdown",
   "metadata": {},
   "source": [
    "# 3º Elegimos 5 imágenes de diferentes especies que no hayamos usado ni para entrenar el modelo, ni para evaluarlo. \n"
   ]
  },
  {
   "cell_type": "code",
   "execution_count": null,
   "metadata": {},
   "outputs": [],
   "source": [
    "#Clasificamos las 5 imágenes usando el modelo que mejor clasifique de entre los del punto anterior. \n",
    "cinco_imagenes = X_test[len(X_test)-6:]\n",
    "cinco_etiquetas = y_test[len(X_test)-6:]\n",
    "y_pred_final = linear_svm.predict(cinco_imagenes)\n",
    "\n",
    "#Calculamos la precisión\n",
    "accuracy = accuracy_score(cinco_etiquetas, y_pred_final)\n",
    "print(\"Accuracy de las 5 imagenes de evaluación es: \", accuracy)\n",
    "\n",
    "#El error con el que ha funcionado el clasificador es: \n",
    "error = 1 - accuracy\n",
    "print(\"El error con el que ha funcionado el clasificador es: \", error)"
   ]
  }
 ],
 "metadata": {
  "kernelspec": {
   "display_name": "Python 3",
   "language": "python",
   "name": "python3"
  },
  "language_info": {
   "codemirror_mode": {
    "name": "ipython",
    "version": 3
   },
   "file_extension": ".py",
   "mimetype": "text/x-python",
   "name": "python",
   "nbconvert_exporter": "python",
   "pygments_lexer": "ipython3",
   "version": "3.6.8"
  }
 },
 "nbformat": 4,
 "nbformat_minor": 2
}
