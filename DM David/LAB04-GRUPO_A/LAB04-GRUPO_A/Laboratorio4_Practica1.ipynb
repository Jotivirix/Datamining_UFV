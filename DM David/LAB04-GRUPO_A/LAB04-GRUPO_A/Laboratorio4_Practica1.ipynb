{
 "cells": [
  {
   "cell_type": "markdown",
   "metadata": {},
   "source": [
    "Laboratorio 4\n",
    "\n",
    "Práctica 1\n",
    "\n",
    "Autores: Raúl Jiménez Juárez \n",
    "         Beatriz Magán Pinto\n",
    "         David Alonso Rodríguez Lepina \n",
    "         Andrés Felipe Sánchez Patarroyo\n",
    "         \n",
    "Asignatura: Aprendizaje estadístico & Data Mining\n",
    "\n",
    "Fecha: 23 de noviembre de 2019\n",
    "\n",
    "Objetivo: Una tienda online de venta de cerveza quiere hacer un estudio de mercado. En el país donde opera hay problemas con los envíos debido a su extensión, se quiere implementar un sistema que pueda predecir varios parámetros. Algunos de ellos pueden influir en el consumo y por lo tanto en las ganancias y el stock del almacén. \n",
    "\n",
    "Para cada uno de los siguientes casos: calcula y establece que tipo de relación hay entre las variables, dibuja un diagrama de dispersión con los casos en el que también se incluya el modelo obtenido y por último haz una predicción con varios datos."
   ]
  },
  {
   "cell_type": "code",
   "execution_count": 1,
   "metadata": {},
   "outputs": [],
   "source": [
    "import pandas as pd\n",
    "from sklearn import linear_model\n",
    "from sklearn.metrics import mean_squared_error, r2_score\n",
    "import numpy as np \n",
    "from sklearn.model_selection import train_test_split\n",
    "import matplotlib.pyplot as plt\n",
    "%matplotlib inline"
   ]
  },
  {
   "cell_type": "markdown",
   "metadata": {},
   "source": [
    "## Cargamos y preprocesamos los datos"
   ]
  },
  {
   "cell_type": "code",
   "execution_count": 2,
   "metadata": {},
   "outputs": [
    {
     "name": "stderr",
     "output_type": "stream",
     "text": [
      "C:\\Users\\Raul\\Anaconda3\\envs\\keras-gpu\\lib\\site-packages\\pandas\\core\\indexing.py:190: SettingWithCopyWarning: \n",
      "A value is trying to be set on a copy of a slice from a DataFrame\n",
      "\n",
      "See the caveats in the documentation: http://pandas.pydata.org/pandas-docs/stable/indexing.html#indexing-view-versus-copy\n",
      "  self._setitem_with_indexer(indexer, value)\n"
     ]
    }
   ],
   "source": [
    "#Cargamos el csv con los datos Consumo_cerveza.csv y lo guardamos en la variable df_consumo_cerva\n",
    "df_consumo_cerveza = pd.read_csv(\"Consumo_cerveza.csv\")\n",
    "\n",
    "#Eliminamos las filas con campos sin información. \n",
    "df_consumo_cerveza = df_consumo_cerveza.dropna()\n",
    "\n",
    "#Reemplazamos la coma por el punto en las columnas del dataframe con el objetivo de facilitar el tratamiento y procesamiento\n",
    "#de los datos. \n",
    "for i in range(len(df_consumo_cerveza)):\n",
    "    df_consumo_cerveza[\"Temperatura Media (C)\"].loc[i] = str(df_consumo_cerveza[\"Temperatura Media (C)\"].loc[i]).replace(\",\", \".\")\n",
    "    df_consumo_cerveza[\"Temperatura Minima (C)\"].loc[i] = str(df_consumo_cerveza[\"Temperatura Minima (C)\"].loc[i]).replace(\",\", \".\")\n",
    "    df_consumo_cerveza[\"Temperatura Maxima (C)\"].loc[i] = str(df_consumo_cerveza[\"Temperatura Maxima (C)\"].loc[i]).replace(\",\", \".\")\n",
    "    df_consumo_cerveza[\"Precipitaciones (mm)\"].loc[i] = str(df_consumo_cerveza[\"Precipitaciones (mm)\"].loc[i]).replace(\",\", \".\")"
   ]
  },
  {
   "cell_type": "code",
   "execution_count": 3,
   "metadata": {},
   "outputs": [
    {
     "data": {
      "text/html": [
       "<div>\n",
       "<style scoped>\n",
       "    .dataframe tbody tr th:only-of-type {\n",
       "        vertical-align: middle;\n",
       "    }\n",
       "\n",
       "    .dataframe tbody tr th {\n",
       "        vertical-align: top;\n",
       "    }\n",
       "\n",
       "    .dataframe thead th {\n",
       "        text-align: right;\n",
       "    }\n",
       "</style>\n",
       "<table border=\"1\" class=\"dataframe\">\n",
       "  <thead>\n",
       "    <tr style=\"text-align: right;\">\n",
       "      <th></th>\n",
       "      <th>Data</th>\n",
       "      <th>Temperatura Media (C)</th>\n",
       "      <th>Temperatura Minima (C)</th>\n",
       "      <th>Temperatura Maxima (C)</th>\n",
       "      <th>Precipitaciones (mm)</th>\n",
       "      <th>Fin de Semana</th>\n",
       "      <th>Consumo de cerveza (litros)</th>\n",
       "    </tr>\n",
       "  </thead>\n",
       "  <tbody>\n",
       "    <tr>\n",
       "      <th>0</th>\n",
       "      <td>2015-01-01</td>\n",
       "      <td>27.3</td>\n",
       "      <td>23.9</td>\n",
       "      <td>32.5</td>\n",
       "      <td>0</td>\n",
       "      <td>0.0</td>\n",
       "      <td>25.461</td>\n",
       "    </tr>\n",
       "    <tr>\n",
       "      <th>1</th>\n",
       "      <td>2015-01-02</td>\n",
       "      <td>27.02</td>\n",
       "      <td>24.5</td>\n",
       "      <td>33.5</td>\n",
       "      <td>0</td>\n",
       "      <td>0.0</td>\n",
       "      <td>28.972</td>\n",
       "    </tr>\n",
       "    <tr>\n",
       "      <th>2</th>\n",
       "      <td>2015-01-03</td>\n",
       "      <td>24.82</td>\n",
       "      <td>22.4</td>\n",
       "      <td>29.9</td>\n",
       "      <td>0</td>\n",
       "      <td>1.0</td>\n",
       "      <td>30.814</td>\n",
       "    </tr>\n",
       "    <tr>\n",
       "      <th>3</th>\n",
       "      <td>2015-01-04</td>\n",
       "      <td>23.98</td>\n",
       "      <td>21.5</td>\n",
       "      <td>28.6</td>\n",
       "      <td>1.2</td>\n",
       "      <td>1.0</td>\n",
       "      <td>29.799</td>\n",
       "    </tr>\n",
       "    <tr>\n",
       "      <th>4</th>\n",
       "      <td>2015-01-05</td>\n",
       "      <td>23.82</td>\n",
       "      <td>21</td>\n",
       "      <td>28.3</td>\n",
       "      <td>0</td>\n",
       "      <td>0.0</td>\n",
       "      <td>28.900</td>\n",
       "    </tr>\n",
       "  </tbody>\n",
       "</table>\n",
       "</div>"
      ],
      "text/plain": [
       "         Data Temperatura Media (C) Temperatura Minima (C)  \\\n",
       "0  2015-01-01                  27.3                   23.9   \n",
       "1  2015-01-02                 27.02                   24.5   \n",
       "2  2015-01-03                 24.82                   22.4   \n",
       "3  2015-01-04                 23.98                   21.5   \n",
       "4  2015-01-05                 23.82                     21   \n",
       "\n",
       "  Temperatura Maxima (C) Precipitaciones (mm)  Fin de Semana  \\\n",
       "0                   32.5                    0            0.0   \n",
       "1                   33.5                    0            0.0   \n",
       "2                   29.9                    0            1.0   \n",
       "3                   28.6                  1.2            1.0   \n",
       "4                   28.3                    0            0.0   \n",
       "\n",
       "   Consumo de cerveza (litros)  \n",
       "0                       25.461  \n",
       "1                       28.972  \n",
       "2                       30.814  \n",
       "3                       29.799  \n",
       "4                       28.900  "
      ]
     },
     "execution_count": 3,
     "metadata": {},
     "output_type": "execute_result"
    }
   ],
   "source": [
    "df_consumo_cerveza.head()"
   ]
  },
  {
   "cell_type": "markdown",
   "metadata": {},
   "source": [
    "## Vamos a aplicar el algoritmo de regresión lineal simple. "
   ]
  },
  {
   "cell_type": "markdown",
   "metadata": {},
   "source": [
    "El objetivo de la regresión lineal simple es obtener estimaciones razonables de Y para distintos valores de X a partir de una muestra de n pares de valores. \n",
    "Evaluaremos las variables de temperatura mínima, máxima, precipitaciones y número de fines de semana. \n",
    "En nuestro problema, la variableY es el número de litros de cerveza consumidos y la variableX, la temperatura mínima, máxima, precipitaciones y número de fines de semana. Cada uno de estos elementos, los vamos a explicar en el desarrollo siguiente. "
   ]
  },
  {
   "cell_type": "code",
   "execution_count": 4,
   "metadata": {},
   "outputs": [],
   "source": [
    "#1º: La temperatura que hace durante el día está relacionada con el consumo de cerveza. \n",
    "#Utiliza el archivo Consumo_cerveza.csv para poder calcular cuantos litros se consumen. \n",
    "#Primero según la temperatura mínima del día. \n",
    "\n",
    "#Guardamos en la variableX los datos relativos a la columna sobre la temperatura mínima y hacemos un reshape para transformar \n",
    "#cada elemento en un array. \n",
    "variableX = np.array(df_consumo_cerveza[\"Temperatura Minima (C)\"]).reshape(-1, 1).astype(np.float)\n",
    "#Guardamos en la variableY el consumo de cerveza en litros como tipo float.\n",
    "variableY = df_consumo_cerveza[\"Consumo de cerveza (litros)\"].values.astype(np.float)\n",
    "                     \n",
    "#Definimos el conjunto de entrenamiento y validación. El 20% de nuestros datos son para validación. \n",
    "variableX_train, variableX_test, variableY_train, variableY_test  = train_test_split(variableX, variableY, test_size = 0.2, random_state = 42)\n",
    "\n",
    "#Instanciamos el modelo de regresión lineal. \n",
    "modelo_regresion = linear_model.LinearRegression()\n",
    "#Entrenamos el modelo con el conjunto de datos de entrenamiento. \n",
    "modelo_fitTmin = modelo_regresion.fit(variableX_train, variableY_train)"
   ]
  },
  {
   "cell_type": "code",
   "execution_count": 5,
   "metadata": {},
   "outputs": [
    {
     "name": "stdout",
     "output_type": "stream",
     "text": [
      "Coeficiente tras realizar la regresión según la variable de temperatura mínima: \n",
      " [0.5877326]\n",
      "Término independiente: \n",
      " 14.995073783511465\n",
      "Error cuadrático medio: \n",
      " 19.900808193345092\n",
      "Porcentaje de varianza: \n",
      " 0.10191171425626366\n"
     ]
    },
    {
     "data": {
      "image/png": "[encoded data removed]",
      "text/plain": [
       "<Figure size 432x288 with 1 Axes>"
      ]
     },
     "metadata": {
      "needs_background": "light"
     },
     "output_type": "display_data"
    }
   ],
   "source": [
    "#Predicción con varios datos.\n",
    "prediccion_variableY_Tmin = modelo_regresion.predict(variableX_test)  \n",
    "print(\"Coeficiente tras realizar la regresión según la variable de temperatura mínima: \\n\", modelo_regresion.coef_)                     \n",
    "print(\"Término independiente: \\n\", modelo_regresion.intercept_)                    \n",
    "print(\"Error cuadrático medio: \\n\", mean_squared_error(variableY_test, prediccion_variableY_Tmin))    \n",
    "print(\"Porcentaje de varianza: \\n\", r2_score(variableY_test, prediccion_variableY_Tmin))\n",
    "\n",
    "#Diagrama de dispersión con los casos en el que también se incluya el modelo obtenido \n",
    "plt.scatter(variableX_test.reshape(1, len(variableX_test))[0], variableY_test, color = 'red')\n",
    "plt.scatter(variableX_test.reshape(1, len(variableX_test))[0], prediccion_variableY_Tmin, color = 'green')\n",
    "\n",
    "valores_X_recta = np.arange(10, 30)\n",
    "valores_Y_recta = valores_X_recta * modelo_regresion.coef_ + modelo_regresion.intercept_\n",
    "plt.scatter(valores_X_recta, valores_Y_recta, color = 'blue')\n",
    "\n",
    "plt.show()"
   ]
  },
  {
   "cell_type": "markdown",
   "metadata": {},
   "source": [
    "### La recta de regresión obtenida a través de los valores del coeficiente y término independiente es: \n",
    "\n",
    "                                            Y = β0X + β1 \n",
    "\n",
    "                                        Y = 0.587X + 14.995\n",
    "\n",
    "Para obtener la relación entre las variables, usamos los valores obtenidos relativos a: coeficiente y término independiente para obtener la ecuación de la recta de regresión. \n",
    "Tipo de relación entre las variables: puesto que el valor del coeficiente de regresión es 0.587 y está más cerca de 1, podemos decir que la relación entre las variables es lineal positiva, esto significa que al aumentar una variable, aumenta la otra.  \n",
    "                               \n",
    "                                       "
   ]
  },
  {
   "cell_type": "code",
   "execution_count": 6,
   "metadata": {},
   "outputs": [],
   "source": [
    "#Después según la temperatura máxima. ¿Que diferencias hay entre los modelos?\n",
    "variableX = np.array(df_consumo_cerveza[\"Temperatura Maxima (C)\"]).reshape(-1, 1)\n",
    "variableY = df_consumo_cerveza[\"Consumo de cerveza (litros)\"].values\n",
    "                     \n",
    "variableX_train, variableX_test, variableY_train, variableY_test  = train_test_split(variableX, variableY, test_size = 0.2, random_state = 42)\n",
    "\n",
    "modelo_regresion = linear_model.LinearRegression()\n",
    "modelo_fitTmax = modelo_regresion.fit(variableX_train, variableY_train)"
   ]
  },
  {
   "cell_type": "code",
   "execution_count": 7,
   "metadata": {},
   "outputs": [
    {
     "name": "stdout",
     "output_type": "stream",
     "text": [
      "\n",
      "Coeficiente tras realizar la regresión según la variable de temperatura máxima: \n",
      " [0.63376681]\n",
      "Término independiente: \n",
      " 8.402384357021003\n",
      "Error cuadrático medio: \n",
      " 13.752758552219206\n",
      "Porcentaje de varianza: \n",
      " 0.37936232376028123\n"
     ]
    }
   ],
   "source": [
    "#Tipo de relación entre las variables.\n",
    "\n",
    "#Diagrama de dispersión con los casos en el que también se incluya el modelo obtenido \n",
    "\n",
    "#Predicción con varios datos.\n",
    "prediccion_variableY_Tmax = modelo_regresion.predict(variableX_test)  \n",
    "print(\"\\nCoeficiente tras realizar la regresión según la variable de temperatura máxima: \\n\", modelo_regresion.coef_)                     \n",
    "print(\"Término independiente: \\n\", modelo_regresion.intercept_)                    \n",
    "print(\"Error cuadrático medio: \\n\", mean_squared_error(variableY_test, prediccion_variableY_Tmax))    \n",
    "print(\"Porcentaje de varianza: \\n\", r2_score(variableY_test, prediccion_variableY_Tmax))"
   ]
  },
  {
   "cell_type": "markdown",
   "metadata": {},
   "source": [
    "### La recta de regresión obtenida a través de los valores del coeficiente y término independiente es: \n",
    "\n",
    "                                            Y = β0X + β1 \n",
    "\n",
    "                                        Y = 0.633X + 8.402\n",
    "\n",
    "Para obtener la relación entre las variables, usamos los valores obtenidos relativos a: coeficiente y término independiente para obtener la ecuación de la recta de regresión. \n",
    "Tipo de relación entre las variables: puesto que el valor del coeficiente de regresión es 0.633 y está más cerca de 1, podemos decir que la relación entre las variables es lineal positiva, esto significa que al aumentar una variable, aumenta la otra.  \n",
    "                 "
   ]
  },
  {
   "cell_type": "code",
   "execution_count": 8,
   "metadata": {},
   "outputs": [
    {
     "name": "stdout",
     "output_type": "stream",
     "text": [
      "Coeficiente tras realizar la regresión según la variable de precipitaciones: \n",
      " [-0.06379283]\n",
      "Término independiente: \n",
      " 25.50236705573209\n",
      "Error cuadrático medio: \n",
      " 22.2602018988775\n",
      "Porcentaje de varianza: \n",
      " -0.0045635518640712025\n"
     ]
    },
    {
     "data": {
      "image/png": "[encoded data removed]",
      "text/plain": [
       "<Figure size 432x288 with 1 Axes>"
      ]
     },
     "metadata": {
      "needs_background": "light"
     },
     "output_type": "display_data"
    }
   ],
   "source": [
    "#2º: Se puede estimar que los días de lluvia también afectan en el consumo de cerveza. \n",
    "#Utiliza el mismo archivo para poder calcular el consumo con respecto a las precipitaciones.\n",
    "variableX = np.array(df_consumo_cerveza[\"Precipitaciones (mm)\"]).reshape(-1, 1).astype(np.float)\n",
    "variableY = df_consumo_cerveza[\"Consumo de cerveza (litros)\"].values.astype(np.float)\n",
    "                     \n",
    "variableX_train, variableX_test, variableY_train, variableY_test  = train_test_split(variableX, variableY, test_size = 0.2, random_state = 42)\n",
    "\n",
    "modelo_regresion = linear_model.LinearRegression()\n",
    "modelo_fitPrecipitaciones = modelo_regresion.fit(variableX_train, variableY_train)\n",
    "\n",
    "#Predicción con varios datos.\n",
    "prediccion_variableY_Precipitaciones = modelo_regresion.predict(variableX_test)  \n",
    "print(\"Coeficiente tras realizar la regresión según la variable de precipitaciones: \\n\", modelo_regresion.coef_)                     \n",
    "print(\"Término independiente: \\n\", modelo_regresion.intercept_)                    \n",
    "print(\"Error cuadrático medio: \\n\", mean_squared_error(variableY_test, prediccion_variableY_Precipitaciones))    \n",
    "print(\"Porcentaje de varianza: \\n\", r2_score(variableY_test, prediccion_variableY_Precipitaciones))\n",
    "\n",
    "#Diagrama de dispersión con los casos en el que también se incluya el modelo obtenido \n",
    "plt.scatter(variableX_test.reshape(1, len(variableX_test))[0], variableY_test, color = 'red')\n",
    "plt.scatter(variableX_test.reshape(1, len(variableX_test))[0], prediccion_variableY_Precipitaciones, color = 'green')\n",
    "\n",
    "valores_X_recta = np.arange(10, 20)\n",
    "valores_Y_recta = valores_X_recta * modelo_regresion.coef_ + modelo_regresion.intercept_\n",
    "plt.scatter(valores_X_recta, valores_Y_recta, color = 'blue')\n",
    "\n",
    "plt.show()"
   ]
  },
  {
   "cell_type": "markdown",
   "metadata": {},
   "source": [
    "### La recta de regresión obtenida a través de los valores del coeficiente y término independiente es: \n",
    "\n",
    "                                            Y = β0X + β1 \n",
    "\n",
    "                                        Y = -0.0637X + 25.5023\n",
    "\n",
    "Para obtener la relación entre las variables, usamos los valores obtenidos relativos a: coeficiente y término independiente para obtener la ecuación de la recta de regresión. \n",
    "Tipo de relación entre las variables: puesto que el valor del coeficiente de regresión es -0.0637 y está más cerca de 0, podemos decir que la relación entre las variables es: correlación nula. Por tanto, no podemos afirmar que cuanta mayor precipitación, mayor consumo de cerveza ni cuanto menor precipitación, menor consumo de cerveza. "
   ]
  },
  {
   "cell_type": "code",
   "execution_count": 9,
   "metadata": {},
   "outputs": [
    {
     "name": "stderr",
     "output_type": "stream",
     "text": [
      "C:\\Users\\Raul\\Anaconda3\\envs\\keras-gpu\\lib\\site-packages\\ipykernel_launcher.py:9: SettingWithCopyWarning: \n",
      "A value is trying to be set on a copy of a slice from a DataFrame.\n",
      "Try using .loc[row_indexer,col_indexer] = value instead\n",
      "\n",
      "See the caveats in the documentation: http://pandas.pydata.org/pandas-docs/stable/indexing.html#indexing-view-versus-copy\n",
      "  if __name__ == '__main__':\n"
     ]
    }
   ],
   "source": [
    "#3º: Por último, se cree que los fines de semana se consume más cerveza. \n",
    "#Estima como sería este en relación con el número de fines de semana que hay en un mes. \n",
    "#Haz la transformación necesaria. \n",
    "\n",
    "#Comprobamos que la columna de Fin de semana vale 1. Esto quiere decir que el día se encuadra\n",
    "#dentro del fin de semana. En caso contrario sería un 0.\n",
    "df_consumo_cerveza_meses = df_consumo_cerveza[df_consumo_cerveza[\"Fin de Semana\"] == 1]\n",
    "#Convertimos los valores de la columna Data en formato año y  mes gracias a la función to_datetime y strftime\n",
    "df_consumo_cerveza_meses[\"Data\"] = pd.to_datetime(df_consumo_cerveza_meses[\"Data\"]).apply(lambda x: x.strftime('%Y-%m'))\n",
    "#Guardamos los valores que sean distintos\n",
    "fechas_meses = df_consumo_cerveza_meses[\"Data\"].unique()\n",
    "count_fines_semana = list()\n",
    "consumo_meses = list()\n",
    "#Realizamos un count del número de fines de semana para cada mes.\n",
    "for i in range(len(fechas_meses)):\n",
    "    count_fines_semana.append(len(df_consumo_cerveza_meses[df_consumo_cerveza_meses[\"Data\"] == fechas_meses[i]][\"Consumo de cerveza (litros)\"]))\n",
    "    consumo_meses.append(\n",
    "        df_consumo_cerveza_meses[df_consumo_cerveza_meses[\"Data\"] == fechas_meses[i]][\"Consumo de cerveza (litros)\"].sum())\n",
    "\n",
    "#Convertimos la lista de fines de semana en un array.\n",
    "count_fines_semana = np.array(count_fines_semana)\n",
    "\n",
    "\n"
   ]
  },
  {
   "cell_type": "code",
   "execution_count": 10,
   "metadata": {},
   "outputs": [
    {
     "name": "stdout",
     "output_type": "stream",
     "text": [
      "Coeficiente tras realizar la regresión según la variable de precipitaciones: \n",
      " [4.65117812]\n",
      "Término independiente: \n",
      " 23.9625324074074\n",
      "Error cuadrático medio: \n",
      " 15.297300517757524\n",
      "Porcentaje de varianza: \n",
      " 0.30965987586907284\n"
     ]
    },
    {
     "data": {
      "image/png": "[encoded data removed]",
      "text/plain": [
       "<Figure size 432x288 with 1 Axes>"
      ]
     },
     "metadata": {
      "needs_background": "light"
     },
     "output_type": "display_data"
    }
   ],
   "source": [
    "#Realizamos el mismo procedimiento que previamente. \n",
    "variableX = np.array(df_consumo_cerveza[\"Fin de Semana\"]).reshape(-1, 1).astype(np.float)\n",
    "variableY = df_consumo_cerveza[\"Consumo de cerveza (litros)\"].values.astype(np.float)\n",
    "        \n",
    "variableX_train, variableX_test, variableY_train, variableY_test  = train_test_split(variableX, variableY, test_size = 0.2, random_state = 42)\n",
    "\n",
    "modelo_regresion = linear_model.LinearRegression()\n",
    "modelo_fitPrecipitaciones = modelo_regresion.fit(variableX_train, variableY_train)\n",
    "\n",
    "#Predicción con varios datos.\n",
    "prediccion_variableY_num_finessemana = modelo_regresion.predict(variableX_test)  \n",
    "print(\"Coeficiente tras realizar la regresión según la variable de precipitaciones: \\n\", modelo_regresion.coef_)                     \n",
    "print(\"Término independiente: \\n\", modelo_regresion.intercept_)                    \n",
    "print(\"Error cuadrático medio: \\n\", mean_squared_error(variableY_test, prediccion_variableY_num_finessemana))    \n",
    "print(\"Porcentaje de varianza: \\n\", r2_score(variableY_test, prediccion_variableY_num_finessemana))\n",
    "\n",
    "\n",
    "#Creaamos la gráfica de dispersión de los datos. \n",
    "plt.scatter(variableX_test.reshape(1, len(variableX_test))[0], variableY_test, color = 'red')\n",
    "plt.scatter(variableX_test.reshape(1, len(variableX_test))[0], prediccion_variableY_num_finessemana, color = 'green')\n",
    "\n",
    "#Definimos los valores de la recta. \n",
    "valores_X_recta = np.arange(2, 6)\n",
    "valores_Y_recta = valores_X_recta * modelo_regresion.coef_ + modelo_regresion.intercept_\n",
    "plt.scatter(valores_X_recta, valores_Y_recta, color = 'blue')\n",
    "\n",
    "#Dibujamos la gráfica.\n",
    "plt.show()"
   ]
  },
  {
   "cell_type": "markdown",
   "metadata": {},
   "source": [
    "## 4º: Explica cómo funcionaría el posible sistema creado con los parámetros descritos arriba. \n",
    "\n",
    "El sistema creado con los parámetros descritos arriba funcionaría evaluando el consumo de cerveza según la climatología de la ciudad y del tiempo libre (fin de semana). Así, se tendría en cuenta si hace calor, frio, llueve o si influye que no sea día laborable.  \n",
    "Sirve para la predicción de los valores de una variable, a través del modelo de regresión lineal. Este modelo indica el grado de influencia de la variable que deseamos conocer con respecto al valor resultado de la ecuación. "
   ]
  }
 ],
 "metadata": {
  "kernelspec": {
   "display_name": "Python 3",
   "language": "python",
   "name": "python3"
  },
  "language_info": {
   "codemirror_mode": {
    "name": "ipython",
    "version": 3
   },
   "file_extension": ".py",
   "mimetype": "text/x-python",
   "name": "python",
   "nbconvert_exporter": "python",
   "pygments_lexer": "ipython3",
   "version": "3.6.8"
  }
 },
 "nbformat": 4,
 "nbformat_minor": 2
}
