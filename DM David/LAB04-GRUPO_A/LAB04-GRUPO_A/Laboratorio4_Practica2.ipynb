{
 "cells": [
  {
   "cell_type": "markdown",
   "metadata": {},
   "source": [
    "Laboratorio 4\n",
    "\n",
    "Práctica 2\n",
    "\n",
    "Autores: Raúl Jiménez Juárez \n",
    "         Beatriz Magán Pinto \n",
    "         David Alonso Rodríguez Lepina \n",
    "         Andrés Felipe Sánchez Patarroyo\n",
    "         \n",
    "Asignatura: Aprendizaje estadístico & Data Mining\n",
    "\n",
    "Fecha: 23 de noviembre de 2019\n",
    "\n",
    "Objetivo: La misma empresa quiere encontrar una manera optima de ordenar las cervezas para que los clientes puedan hacer unas búsquedas más eficientes en la tienda online. Para ello dispone de un set de datos de cervezas. Aplica un algoritmo de manera que se obtengan dichos grupos."
   ]
  },
  {
   "cell_type": "code",
   "execution_count": 37,
   "metadata": {},
   "outputs": [],
   "source": [
    "import pandas as pd\n",
    "from sklearn.cluster import KMeans\n",
    "import numpy as np\n",
    "from sklearn.model_selection import train_test_split\n",
    "from matplotlib import pyplot as plt"
   ]
  },
  {
   "cell_type": "markdown",
   "metadata": {},
   "source": [
    "## Cargamos y preprocesamos los datos"
   ]
  },
  {
   "cell_type": "code",
   "execution_count": 2,
   "metadata": {},
   "outputs": [
    {
     "name": "stdout",
     "output_type": "stream",
     "text": [
      "   index  beer/ABV  beer/beerId  beer/brewerId                  beer/name  \\\n",
      "0  40163       5.0        46634          14338                   Chiostro   \n",
      "1   8135      11.0         3003            395   Bearded Pat's Barleywine   \n",
      "2  10529       4.7          961            365       Naughty Nellie's Ale   \n",
      "3  44610       4.4          429              1            Pilsner Urquell   \n",
      "4  37062       4.4         4904           1417  Black Sheep Ale (Special)   \n",
      "\n",
      "                beer/style  review/appearance  review/aroma  review/overall  \\\n",
      "0     Herbed / Spiced Beer                4.0           4.0             4.0   \n",
      "1      American Barleywine                4.0           3.5             3.5   \n",
      "2  American Pale Ale (APA)                3.5           4.0             3.5   \n",
      "3           Czech Pilsener                3.0           3.0             2.5   \n",
      "4         English Pale Ale                4.0           3.0             3.0   \n",
      "\n",
      "   review/palate  review/taste  \n",
      "0            4.0           4.0  \n",
      "1            3.5           3.0  \n",
      "2            3.5           3.5  \n",
      "3            3.0           3.0  \n",
      "4            3.5           2.5  \n"
     ]
    }
   ],
   "source": [
    "#Cargamos el csv con los datos Consumo_cerveza.csv y lo guardamos en la variable df_consumo_cerva\n",
    "df_cervezas = pd.read_excel(\"cervezas.xlsx\")\n",
    "\n",
    "#Eliminamos las filas con campos sin información. \n",
    "df_cervezas = df_cervezas.dropna()\n",
    "print(df_cervezas.head())"
   ]
  },
  {
   "cell_type": "markdown",
   "metadata": {},
   "source": [
    "### Usamos el algoritmo de k-means porque: \n",
    "Sirve para clústering particional. Cada clúster está asociado con un centroide (valor de la media del clúster). Cada punto es asignado al clúster más cercano al centroide. El número de clústers “K” debe ser especificado. \n",
    "El número de clústeres será el número de tipos de cerveza que obtendremos con el método unique() aplicado a la columna del dataframe relativa al tipo de cerveza. "
   ]
  },
  {
   "cell_type": "code",
   "execution_count": 3,
   "metadata": {},
   "outputs": [],
   "source": [
    "#1º: Realiza todo el preprocesamiento que sea necesario para adaptar las variables que no sean unívocas del dataset \n",
    "#y poder usar el algoritmo adecuado.\n",
    "df_cervezas = df_cervezas.drop(columns = [\"index\", \"beer/beerId\", \"beer/brewerId\"])"
   ]
  },
  {
   "cell_type": "code",
   "execution_count": 35,
   "metadata": {
    "scrolled": true
   },
   "outputs": [
    {
     "name": "stdout",
     "output_type": "stream",
     "text": [
      "El número de clústeres en nuestro algoritmo, es decir, tipos de cerveza es: \n",
      " 95\n",
      "Las etiquetas del algoritmo k-means es: \n",
      "  [0 0 0 ... 0 0 0]\n",
      "El número de centroides es: \n",
      " 1\n",
      "Los centroides son: \n",
      " [[7.4037248  3.90005333 3.87324    3.88944    3.85486667 3.92244   ]]\n",
      "Las etiquetas del algoritmo k-means es: \n",
      "  [0 0 0 ... 0 0 0]\n",
      "El número de centroides es: \n",
      " 1\n",
      "Los centroides son: \n",
      " [[7.4037248  3.90005333 3.87324    3.88944    3.85486667 3.92244   ]]\n",
      "Las etiquetas del algoritmo k-means es: \n",
      "  [0 0 0 ... 0 0 0]\n",
      "El número de centroides es: \n",
      " 1\n",
      "Los centroides son: \n",
      " [[7.4037248  3.90005333 3.87324    3.88944    3.85486667 3.92244   ]]\n",
      "Las etiquetas del algoritmo k-means es: \n",
      "  [0 0 0 ... 0 0 0]\n",
      "El número de centroides es: \n",
      " 1\n",
      "Los centroides son: \n",
      " [[7.4037248  3.90005333 3.87324    3.88944    3.85486667 3.92244   ]]\n",
      "Las etiquetas del algoritmo k-means es: \n",
      "  [0 0 0 ... 0 0 0]\n",
      "El número de centroides es: \n",
      " 1\n",
      "Los centroides son: \n",
      " [[7.4037248  3.90005333 3.87324    3.88944    3.85486667 3.92244   ]]\n",
      "Las etiquetas del algoritmo k-means es: \n",
      "  [0 0 0 ... 0 0 0]\n",
      "El número de centroides es: \n",
      " 1\n",
      "Los centroides son: \n",
      " [[7.4037248  3.90005333 3.87324    3.88944    3.85486667 3.92244   ]]\n",
      "Las etiquetas del algoritmo k-means es: \n",
      "  [0 0 0 ... 0 0 0]\n",
      "El número de centroides es: \n",
      " 1\n",
      "Los centroides son: \n",
      " [[7.4037248  3.90005333 3.87324    3.88944    3.85486667 3.92244   ]]\n",
      "Las etiquetas del algoritmo k-means es: \n",
      "  [0 0 0 ... 0 0 0]\n",
      "El número de centroides es: \n",
      " 1\n",
      "Los centroides son: \n",
      " [[7.4037248  3.90005333 3.87324    3.88944    3.85486667 3.92244   ]]\n",
      "Las etiquetas del algoritmo k-means es: \n",
      "  [0 0 0 ... 0 0 0]\n",
      "El número de centroides es: \n",
      " 1\n",
      "Los centroides son: \n",
      " [[7.4037248  3.90005333 3.87324    3.88944    3.85486667 3.92244   ]]\n",
      "Las etiquetas del algoritmo k-means es: \n",
      "  [0 0 0 ... 0 0 0]\n",
      "El número de centroides es: \n",
      " 1\n",
      "Los centroides son: \n",
      " [[7.4037248  3.90005333 3.87324    3.88944    3.85486667 3.92244   ]]\n",
      "Las etiquetas del algoritmo k-means es: \n",
      "  [0 1 0 ... 0 1 1]\n",
      "El número de centroides es: \n",
      " 2\n",
      "Los centroides son: \n",
      " [[5.73574484 3.7685696  3.66925813 3.77148785 3.66695545 3.7183439 ]\n",
      " [9.75329565 4.08526559 4.1605755  4.05559124 4.11956452 4.20993641]]\n",
      "Las etiquetas del algoritmo k-means es: \n",
      "  [0 1 0 ... 0 1 1]\n",
      "El número de centroides es: \n",
      " 2\n",
      "Los centroides son: \n",
      " [[5.73574484 3.7685696  3.66925813 3.77148785 3.66695545 3.7183439 ]\n",
      " [9.75329565 4.08526559 4.1605755  4.05559124 4.11956452 4.20993641]]\n",
      "Las etiquetas del algoritmo k-means es: \n",
      "  [0 1 0 ... 0 1 1]\n",
      "El número de centroides es: \n",
      " 2\n",
      "Los centroides son: \n",
      " [[5.73574484 3.7685696  3.66925813 3.77148785 3.66695545 3.7183439 ]\n",
      " [9.75329565 4.08526559 4.1605755  4.05559124 4.11956452 4.20993641]]\n",
      "Las etiquetas del algoritmo k-means es: \n",
      "  [0 1 0 ... 0 1 1]\n",
      "El número de centroides es: \n",
      " 2\n",
      "Los centroides son: \n",
      " [[5.73574484 3.7685696  3.66925813 3.77148785 3.66695545 3.7183439 ]\n",
      " [9.75329565 4.08526559 4.1605755  4.05559124 4.11956452 4.20993641]]\n",
      "Las etiquetas del algoritmo k-means es: \n",
      "  [0 1 0 ... 0 1 1]\n",
      "El número de centroides es: \n",
      " 2\n",
      "Los centroides son: \n",
      " [[5.73574484 3.7685696  3.66925813 3.77148785 3.66695545 3.7183439 ]\n",
      " [9.75329565 4.08526559 4.1605755  4.05559124 4.11956452 4.20993641]]\n",
      "Las etiquetas del algoritmo k-means es: \n",
      "  [0 1 0 ... 0 1 1]\n",
      "El número de centroides es: \n",
      " 2\n",
      "Los centroides son: \n",
      " [[5.73574484 3.7685696  3.66925813 3.77148785 3.66695545 3.7183439 ]\n",
      " [9.75329565 4.08526559 4.1605755  4.05559124 4.11956452 4.20993641]]\n",
      "Las etiquetas del algoritmo k-means es: \n",
      "  [0 1 0 ... 0 1 1]\n",
      "El número de centroides es: \n",
      " 2\n",
      "Los centroides son: \n",
      " [[5.73574484 3.7685696  3.66925813 3.77148785 3.66695545 3.7183439 ]\n",
      " [9.75329565 4.08526559 4.1605755  4.05559124 4.11956452 4.20993641]]\n",
      "Las etiquetas del algoritmo k-means es: \n",
      "  [0 1 0 ... 0 1 1]\n",
      "El número de centroides es: \n",
      " 2\n",
      "Los centroides son: \n",
      " [[5.73574484 3.7685696  3.66925813 3.77148785 3.66695545 3.7183439 ]\n",
      " [9.75329565 4.08526559 4.1605755  4.05559124 4.11956452 4.20993641]]\n",
      "Las etiquetas del algoritmo k-means es: \n",
      "  [0 1 0 ... 0 1 1]\n",
      "El número de centroides es: \n",
      " 2\n",
      "Los centroides son: \n",
      " [[5.73574484 3.7685696  3.66925813 3.77148785 3.66695545 3.7183439 ]\n",
      " [9.75329565 4.08526559 4.1605755  4.05559124 4.11956452 4.20993641]]\n",
      "Las etiquetas del algoritmo k-means es: \n",
      "  [0 1 0 ... 0 1 1]\n",
      "El número de centroides es: \n",
      " 2\n",
      "Los centroides son: \n",
      " [[5.73574484 3.7685696  3.66925813 3.77148785 3.66695545 3.7183439 ]\n",
      " [9.75329565 4.08526559 4.1605755  4.05559124 4.11956452 4.20993641]]\n",
      "Las etiquetas del algoritmo k-means es: \n",
      "  [1 0 1 ... 1 0 2]\n",
      "El número de centroides es: \n",
      " 3\n",
      "Los centroides son: \n",
      " [[10.41258427  4.07785581  4.16844569  4.04241573  4.13469101  4.21324906]\n",
      " [ 5.15049474  3.6067359   3.4460551   3.58131401  3.47223424  3.48579259]\n",
      " [ 7.3349174   4.06743091  4.08711595  4.09313725  4.03373475  4.15006948]]\n",
      "Las etiquetas del algoritmo k-means es: \n",
      "  [0 1 0 ... 0 1 2]\n",
      "El número de centroides es: \n",
      " 3\n",
      "Los centroides son: \n",
      " [[ 5.14941966  3.60643136  3.44600837  3.58134835  3.47192147  3.48563592]\n",
      " [10.41258427  4.07785581  4.16844569  4.04241573  4.13469101  4.21324906]\n",
      " [ 7.33404442  4.06732994  4.08657257  4.09262687  4.03354928  4.14962209]]\n",
      "Las etiquetas del algoritmo k-means es: \n",
      "  [0 1 0 ... 0 1 2]\n",
      "El número de centroides es: \n",
      " 3\n",
      "Los centroides son: \n",
      " [[ 5.14941966  3.60643136  3.44600837  3.58134835  3.47192147  3.48563592]\n",
      " [10.41258427  4.07785581  4.16844569  4.04241573  4.13469101  4.21324906]\n",
      " [ 7.33404442  4.06732994  4.08657257  4.09262687  4.03354928  4.14962209]]\n",
      "Las etiquetas del algoritmo k-means es: \n",
      "  [0 1 0 ... 0 1 2]\n",
      "El número de centroides es: \n",
      " 3\n",
      "Los centroides son: \n",
      " [[ 5.14941966  3.60643136  3.44600837  3.58134835  3.47192147  3.48563592]\n",
      " [10.41258427  4.07785581  4.16844569  4.04241573  4.13469101  4.21324906]\n",
      " [ 7.33404442  4.06732994  4.08657257  4.09262687  4.03354928  4.14962209]]\n",
      "Las etiquetas del algoritmo k-means es: \n",
      "  [0 1 0 ... 0 1 2]\n",
      "El número de centroides es: \n",
      " 3\n",
      "Los centroides son: \n",
      " [[ 5.14941966  3.60643136  3.44600837  3.58134835  3.47192147  3.48563592]\n",
      " [10.41258427  4.07785581  4.16844569  4.04241573  4.13469101  4.21324906]\n",
      " [ 7.33404442  4.06732994  4.08657257  4.09262687  4.03354928  4.14962209]]\n",
      "Las etiquetas del algoritmo k-means es: \n",
      "  [0 1 0 ... 0 1 2]\n",
      "El número de centroides es: \n",
      " 3\n",
      "Los centroides son: \n",
      " [[ 5.14941966  3.60643136  3.44600837  3.58134835  3.47192147  3.48563592]\n",
      " [10.41258427  4.07785581  4.16844569  4.04241573  4.13469101  4.21324906]\n",
      " [ 7.33404442  4.06732994  4.08657257  4.09262687  4.03354928  4.14962209]]\n",
      "Las etiquetas del algoritmo k-means es: \n",
      "  [0 1 0 ... 0 1 2]\n",
      "El número de centroides es: \n",
      " 3\n",
      "Los centroides son: \n",
      " [[ 5.14941966  3.60643136  3.44600837  3.58134835  3.47192147  3.48563592]\n",
      " [10.41258427  4.07785581  4.16844569  4.04241573  4.13469101  4.21324906]\n",
      " [ 7.33404442  4.06732994  4.08657257  4.09262687  4.03354928  4.14962209]]\n",
      "Las etiquetas del algoritmo k-means es: \n",
      "  [0 1 0 ... 0 1 2]\n",
      "El número de centroides es: \n",
      " 3\n",
      "Los centroides son: \n",
      " [[ 5.14941966  3.60643136  3.44600837  3.58134835  3.47192147  3.48563592]\n",
      " [10.41258427  4.07785581  4.16844569  4.04241573  4.13469101  4.21324906]\n",
      " [ 7.33404442  4.06732994  4.08657257  4.09262687  4.03354928  4.14962209]]\n",
      "Las etiquetas del algoritmo k-means es: \n",
      "  [0 1 0 ... 0 1 2]\n",
      "El número de centroides es: \n",
      " 3\n",
      "Los centroides son: \n",
      " [[ 5.14941966  3.60643136  3.44600837  3.58134835  3.47192147  3.48563592]\n",
      " [10.41258427  4.07785581  4.16844569  4.04241573  4.13469101  4.21324906]\n",
      " [ 7.33404442  4.06732994  4.08657257  4.09262687  4.03354928  4.14962209]]\n",
      "Las etiquetas del algoritmo k-means es: \n",
      "  [0 1 0 ... 0 1 2]\n",
      "El número de centroides es: \n",
      " 3\n",
      "Los centroides son: \n",
      " [[ 5.14941966  3.60643136  3.44600837  3.58134835  3.47192147  3.48563592]\n",
      " [10.41258427  4.07785581  4.16844569  4.04241573  4.13469101  4.21324906]\n",
      " [ 7.33404442  4.06732994  4.08657257  4.09262687  4.03354928  4.14962209]]\n",
      "Las etiquetas del algoritmo k-means es: \n",
      "  [0 3 2 ... 0 3 1]\n",
      "El número de centroides es: \n",
      " 4\n",
      "Los centroides son: \n",
      " [[ 5.94340072  3.9899615   3.9784791   4.10647002  3.96850935  4.07140402]\n",
      " [ 8.76011056  4.0138975   4.04861542  3.98238272  4.00557967  4.08953296]\n",
      " [ 5.12615939  3.29686811  3.01088075  3.06697544  3.02793707  2.97059256]\n",
      " [11.04763008  4.16141732  4.28037672  4.12683341  4.24278215  4.33773352]]\n"
     ]
    },
    {
     "name": "stdout",
     "output_type": "stream",
     "text": [
      "Las etiquetas del algoritmo k-means es: \n",
      "  [3 0 1 ... 3 0 2]\n",
      "El número de centroides es: \n",
      " 4\n",
      "Los centroides son: \n",
      " [[11.05286402  4.16446756  4.28306427  4.13016144  4.24518783  4.34034461]\n",
      " [ 5.12031458  3.31146379  3.03082046  3.09324075  3.04895848  2.99433187]\n",
      " [ 8.76488935  4.0122491   4.04729799  3.98018528  4.00447761  4.0882141 ]\n",
      " [ 5.96053269  3.99527509  3.98621028  4.11248775  3.9752205   4.07972841]]\n",
      "Las etiquetas del algoritmo k-means es: \n",
      "  [3 0 1 ... 3 0 2]\n",
      "El número de centroides es: \n",
      " 4\n",
      "Los centroides son: \n",
      " [[11.05286402  4.16446756  4.28306427  4.13016144  4.24518783  4.34034461]\n",
      " [ 5.12031458  3.31146379  3.03082046  3.09324075  3.04895848  2.99433187]\n",
      " [ 8.76488935  4.0122491   4.04729799  3.98018528  4.00447761  4.0882141 ]\n",
      " [ 5.96053269  3.99527509  3.98621028  4.11248775  3.9752205   4.07972841]]\n",
      "Las etiquetas del algoritmo k-means es: \n",
      "  [3 0 1 ... 3 0 2]\n",
      "El número de centroides es: \n",
      " 4\n",
      "Los centroides son: \n",
      " [[11.05286402  4.16446756  4.28306427  4.13016144  4.24518783  4.34034461]\n",
      " [ 5.12031458  3.31146379  3.03082046  3.09324075  3.04895848  2.99433187]\n",
      " [ 8.76488935  4.0122491   4.04729799  3.98018528  4.00447761  4.0882141 ]\n",
      " [ 5.96053269  3.99527509  3.98621028  4.11248775  3.9752205   4.07972841]]\n",
      "Las etiquetas del algoritmo k-means es: \n",
      "  [3 0 1 ... 3 0 2]\n",
      "El número de centroides es: \n",
      " 4\n",
      "Los centroides son: \n",
      " [[11.05286402  4.16446756  4.28306427  4.13016144  4.24518783  4.34034461]\n",
      " [ 5.12031458  3.31146379  3.03082046  3.09324075  3.04895848  2.99433187]\n",
      " [ 8.76488935  4.0122491   4.04729799  3.98018528  4.00447761  4.0882141 ]\n",
      " [ 5.96053269  3.99527509  3.98621028  4.11248775  3.9752205   4.07972841]]\n",
      "Las etiquetas del algoritmo k-means es: \n",
      "  [3 0 1 ... 3 0 2]\n",
      "El número de centroides es: \n",
      " 4\n",
      "Los centroides son: \n",
      " [[11.05286402  4.16446756  4.28306427  4.13016144  4.24518783  4.34034461]\n",
      " [ 5.12031458  3.31146379  3.03082046  3.09324075  3.04895848  2.99433187]\n",
      " [ 8.76488935  4.0122491   4.04729799  3.98018528  4.00447761  4.0882141 ]\n",
      " [ 5.96053269  3.99527509  3.98621028  4.11248775  3.9752205   4.07972841]]\n",
      "Las etiquetas del algoritmo k-means es: \n",
      "  [3 0 1 ... 3 0 2]\n",
      "El número de centroides es: \n",
      " 4\n",
      "Los centroides son: \n",
      " [[11.05286402  4.16446756  4.28306427  4.13016144  4.24518783  4.34034461]\n",
      " [ 5.12031458  3.31146379  3.03082046  3.09324075  3.04895848  2.99433187]\n",
      " [ 8.76488935  4.0122491   4.04729799  3.98018528  4.00447761  4.0882141 ]\n",
      " [ 5.96053269  3.99527509  3.98621028  4.11248775  3.9752205   4.07972841]]\n",
      "Las etiquetas del algoritmo k-means es: \n",
      "  [3 0 1 ... 3 0 2]\n",
      "El número de centroides es: \n",
      " 4\n",
      "Los centroides son: \n",
      " [[11.05286402  4.16446756  4.28306427  4.13016144  4.24518783  4.34034461]\n",
      " [ 5.12031458  3.31146379  3.03082046  3.09324075  3.04895848  2.99433187]\n",
      " [ 8.76488935  4.0122491   4.04729799  3.98018528  4.00447761  4.0882141 ]\n",
      " [ 5.96053269  3.99527509  3.98621028  4.11248775  3.9752205   4.07972841]]\n",
      "Las etiquetas del algoritmo k-means es: \n",
      "  [3 0 1 ... 3 0 2]\n",
      "El número de centroides es: \n",
      " 4\n",
      "Los centroides son: \n",
      " [[11.05286402  4.16446756  4.28306427  4.13016144  4.24518783  4.34034461]\n",
      " [ 5.12031458  3.31146379  3.03082046  3.09324075  3.04895848  2.99433187]\n",
      " [ 8.76488935  4.0122491   4.04729799  3.98018528  4.00447761  4.0882141 ]\n",
      " [ 5.96053269  3.99527509  3.98621028  4.11248775  3.9752205   4.07972841]]\n",
      "Las etiquetas del algoritmo k-means es: \n",
      "  [3 0 1 ... 3 0 2]\n",
      "El número de centroides es: \n",
      " 4\n",
      "Los centroides son: \n",
      " [[11.05286402  4.16446756  4.28306427  4.13016144  4.24518783  4.34034461]\n",
      " [ 5.12031458  3.31146379  3.03082046  3.09324075  3.04895848  2.99433187]\n",
      " [ 8.76488935  4.0122491   4.04729799  3.98018528  4.00447761  4.0882141 ]\n",
      " [ 5.96053269  3.99527509  3.98621028  4.11248775  3.9752205   4.07972841]]\n",
      "Las etiquetas del algoritmo k-means es: \n",
      "  [1 0 1 ... 1 0 3]\n",
      "El número de centroides es: \n",
      " 5\n",
      "Los centroides son: \n",
      " [[11.08606177  4.16842695  4.28948632  4.13378141  4.25084013  4.34797568]\n",
      " [ 4.98534529  3.80295485  3.72017486  3.94621514  3.76532758  3.82995795]\n",
      " [ 5.37683998  3.10537607  2.74406865  2.66582534  2.72223624  2.60954064]\n",
      " [ 8.85983448  4.02756879  4.07142089  3.99763543  4.02842863  4.11172614]\n",
      " [ 6.65776735  4.02994748  4.03100905  4.0907364   3.98977539  4.10314002]]\n",
      "Las etiquetas del algoritmo k-means es: \n",
      "  [1 0 1 ... 1 0 3]\n",
      "El número de centroides es: \n",
      " 5\n",
      "Los centroides son: \n",
      " [[11.08954553  4.16966436  4.29099085  4.13545849  4.25252931  4.34904448]\n",
      " [ 4.98621804  3.80475927  3.7226342   3.94858882  3.76768124  3.83309353]\n",
      " [ 5.37520211  3.10720562  2.7467989   2.66947025  2.7250816   2.6123525 ]\n",
      " [ 8.86347639  4.02714592  4.0707618   3.99688841  4.02784335  4.11169528]\n",
      " [ 6.6611718   4.02937885  4.03049804  4.08992725  3.98908786  4.10207051]]\n",
      "Las etiquetas del algoritmo k-means es: \n",
      "  [1 0 1 ... 1 0 3]\n",
      "El número de centroides es: \n",
      " 5\n",
      "Los centroides son: \n",
      " [[11.08954553  4.16966436  4.29099085  4.13545849  4.25252931  4.34904448]\n",
      " [ 4.98621804  3.80475927  3.7226342   3.94858882  3.76768124  3.83309353]\n",
      " [ 5.37520211  3.10720562  2.7467989   2.66947025  2.7250816   2.6123525 ]\n",
      " [ 8.86347639  4.02714592  4.0707618   3.99688841  4.02784335  4.11169528]\n",
      " [ 6.6611718   4.02937885  4.03049804  4.08992725  3.98908786  4.10207051]]\n",
      "Las etiquetas del algoritmo k-means es: \n",
      "  [1 0 1 ... 1 0 3]\n",
      "El número de centroides es: \n",
      " 5\n",
      "Los centroides son: \n",
      " [[11.08954553  4.16966436  4.29099085  4.13545849  4.25252931  4.34904448]\n",
      " [ 4.98621804  3.80475927  3.7226342   3.94858882  3.76768124  3.83309353]\n",
      " [ 5.37520211  3.10720562  2.7467989   2.66947025  2.7250816   2.6123525 ]\n",
      " [ 8.86347639  4.02714592  4.0707618   3.99688841  4.02784335  4.11169528]\n",
      " [ 6.6611718   4.02937885  4.03049804  4.08992725  3.98908786  4.10207051]]\n",
      "Las etiquetas del algoritmo k-means es: \n",
      "  [1 0 1 ... 1 0 3]\n",
      "El número de centroides es: \n",
      " 5\n",
      "Los centroides son: \n",
      " [[11.08954553  4.16966436  4.29099085  4.13545849  4.25252931  4.34904448]\n",
      " [ 4.98621804  3.80475927  3.7226342   3.94858882  3.76768124  3.83309353]\n",
      " [ 5.37520211  3.10720562  2.7467989   2.66947025  2.7250816   2.6123525 ]\n",
      " [ 8.86347639  4.02714592  4.0707618   3.99688841  4.02784335  4.11169528]\n",
      " [ 6.6611718   4.02937885  4.03049804  4.08992725  3.98908786  4.10207051]]\n",
      "Las etiquetas del algoritmo k-means es: \n",
      "  [1 0 1 ... 1 0 3]\n",
      "El número de centroides es: \n",
      " 5\n",
      "Los centroides son: \n",
      " [[11.08954553  4.16966436  4.29099085  4.13545849  4.25252931  4.34904448]\n",
      " [ 4.98621804  3.80475927  3.7226342   3.94858882  3.76768124  3.83309353]\n",
      " [ 5.37520211  3.10720562  2.7467989   2.66947025  2.7250816   2.6123525 ]\n",
      " [ 8.86347639  4.02714592  4.0707618   3.99688841  4.02784335  4.11169528]\n",
      " [ 6.6611718   4.02937885  4.03049804  4.08992725  3.98908786  4.10207051]]\n",
      "Las etiquetas del algoritmo k-means es: \n",
      "  [1 0 1 ... 1 0 3]\n",
      "El número de centroides es: \n",
      " 5\n",
      "Los centroides son: \n",
      " [[11.08954553  4.16966436  4.29099085  4.13545849  4.25252931  4.34904448]\n",
      " [ 4.98621804  3.80475927  3.7226342   3.94858882  3.76768124  3.83309353]\n",
      " [ 5.37520211  3.10720562  2.7467989   2.66947025  2.7250816   2.6123525 ]\n",
      " [ 8.86347639  4.02714592  4.0707618   3.99688841  4.02784335  4.11169528]\n",
      " [ 6.6611718   4.02937885  4.03049804  4.08992725  3.98908786  4.10207051]]\n",
      "Las etiquetas del algoritmo k-means es: \n",
      "  [1 0 1 ... 1 0 3]\n",
      "El número de centroides es: \n",
      " 5\n",
      "Los centroides son: \n",
      " [[11.08954553  4.16966436  4.29099085  4.13545849  4.25252931  4.34904448]\n",
      " [ 4.98621804  3.80475927  3.7226342   3.94858882  3.76768124  3.83309353]\n",
      " [ 5.37520211  3.10720562  2.7467989   2.66947025  2.7250816   2.6123525 ]\n",
      " [ 8.86347639  4.02714592  4.0707618   3.99688841  4.02784335  4.11169528]\n",
      " [ 6.6611718   4.02937885  4.03049804  4.08992725  3.98908786  4.10207051]]\n",
      "Las etiquetas del algoritmo k-means es: \n",
      "  [1 0 1 ... 1 0 3]\n",
      "El número de centroides es: \n",
      " 5\n",
      "Los centroides son: \n",
      " [[11.08954553  4.16966436  4.29099085  4.13545849  4.25252931  4.34904448]\n",
      " [ 4.98621804  3.80475927  3.7226342   3.94858882  3.76768124  3.83309353]\n",
      " [ 5.37520211  3.10720562  2.7467989   2.66947025  2.7250816   2.6123525 ]\n",
      " [ 8.86347639  4.02714592  4.0707618   3.99688841  4.02784335  4.11169528]\n",
      " [ 6.6611718   4.02937885  4.03049804  4.08992725  3.98908786  4.10207051]]\n",
      "Las etiquetas del algoritmo k-means es: \n",
      "  [1 0 1 ... 1 0 3]\n",
      "El número de centroides es: \n",
      " 5\n",
      "Los centroides son: \n",
      " [[11.08954553  4.16966436  4.29099085  4.13545849  4.25252931  4.34904448]\n",
      " [ 4.98621804  3.80475927  3.7226342   3.94858882  3.76768124  3.83309353]\n",
      " [ 5.37520211  3.10720562  2.7467989   2.66947025  2.7250816   2.6123525 ]\n",
      " [ 8.86347639  4.02714592  4.0707618   3.99688841  4.02784335  4.11169528]\n",
      " [ 6.6611718   4.02937885  4.03049804  4.08992725  3.98908786  4.10207051]]\n",
      "La predicción de nuestro modelo es: \n",
      " [1 1 2 ... 3 0 2]\n"
     ]
    }
   ],
   "source": [
    "#2º: Utiliza varias configuraciones teniendo en cuenta el número de grupos que se creará y cambiando cómo se mide la \n",
    "#distancia entre individuos. Crea una tabla donde se incluya toda la información y el número necesario de iteraciones \n",
    "#para llegar a dicha solución. Se considera la mejor solución aquella que necesite menos iteraciones. \n",
    "\n",
    "numero_clusteres = len(df_cervezas[\"beer/style\"].unique())\n",
    "print(\"El número de clústeres en nuestro algoritmo, es decir, tipos de cerveza es: \\n\", numero_clusteres)\n",
    "\n",
    "datos_variableX = df_cervezas.drop(columns = [\"beer/name\", \"beer/style\"])\n",
    "#Realizamos un split para tener un conjunto de datos para la prediccion (test)\n",
    "datos_variableX_train, datos_variableX_test = train_test_split(datos_variableX, test_size=0.2, random_state=42)\n",
    "\n",
    "clusters = 5\n",
    "tabla_configuraciones = pd.DataFrame({\"k\": [],\n",
    "                                     \"MaxIters\": [],\n",
    "                                     \"Resultado distancia\": [],\n",
    "                                     \"Algoritmo\" : []})\n",
    "while clusters <= 95:\n",
    "    iteraciones = 10\n",
    "    while iteraciones <= 1000:\n",
    "        \n",
    "        modelo_kmeans = KMeans(n_clusters= clusters , random_state=0, max_iter=iteraciones, algorithm = \"full\").fit(datos_variableX)\n",
    "        resultado = pd.DataFrame({\"k\": [clusters],\n",
    "                                  \"MaxIters\": [iteraciones],\n",
    "                                  \"Resultado distancia\": [modelo_kmeans.inertia_],\n",
    "                                  \"Algoritmo\": [\"full\"]})\n",
    "        \n",
    "        tabla_configuraciones = tabla_configuraciones.append(resultado)\n",
    "        tabla_configuraciones =  tabla_configuraciones.reset_index(drop=True)\n",
    "        \n",
    "        modelo_kmeans = KMeans(n_clusters= clusters , random_state=0, max_iter=iteraciones, algorithm = \"elkan\").fit(datos_variableX)\n",
    "        resultado = pd.DataFrame({\"k\": [clusters],\n",
    "                                  \"MaxIters\": [iteraciones],\n",
    "                                  \"Resultado distancia\": [modelo_kmeans.inertia_],\n",
    "                                  \"Algoritmo\": [\"elkan\"]})\n",
    "        \n",
    "        tabla_configuraciones = tabla_configuraciones.append(resultado)\n",
    "        tabla_configuraciones =  tabla_configuraciones.reset_index(drop=True)\n",
    "        print(\"Las etiquetas del algoritmo k-means es: \\n \", modelo_kmeans.labels_)\n",
    "        print(\"El número de centroides es: \\n\", len(modelo_kmeans.cluster_centers_))\n",
    "        print(\"Los centroides son: \\n\", modelo_kmeans.cluster_centers_)\n",
    "        iteraciones += 100\n",
    "        \n",
    "    clusters += 10\n",
    "\n",
    "#Realizamos la predicción con el conjunto de datos de validación. \n",
    "prediccion_modelo = modelo_kmeans.predict(datos_variableX_test)\n",
    "print(\"La predicción de nuestro modelo es: \\n\", prediccion_modelo)"
   ]
  },
  {
   "cell_type": "markdown",
   "metadata": {},
   "source": [
    "#### Interpretación de los arrays obtenidos (etiquetas de k-means y centroides): \n",
    "Si definimos que el número de clústeres son el número de tipos de cerveza (95), obtendremos 95 clústeres y 95 centroides. Los 95 centroides serán una lista de arrays en los cuales, se almacenan 6 valores diferentes de tipo float que hacen referencia a la posición del centroide de cada una de las variables que estamos estudiando (ABV, appearance, aroma, overall, palate y taste). \n",
    "\n",
    "El valor del array de la predicción para el conjunto de entrenamiento significa que el primer elemento del 20% de los datos que conforman el conjunto de validación, pertenece al clúster 20, el segundo al clúster 44 etc. "
   ]
  },
  {
   "cell_type": "code",
   "execution_count": 36,
   "metadata": {},
   "outputs": [
    {
     "name": "stdout",
     "output_type": "stream",
     "text": [
      "      k  MaxIters  Resultado distancia Algoritmo\n",
      "0   1.0      10.0        286280.785567      full\n",
      "1   1.0      10.0        286280.785567     elkan\n",
      "2   1.0     110.0        286280.785567      full\n",
      "3   1.0     110.0        286280.785567     elkan\n",
      "4   1.0     210.0        286280.785567      full\n",
      "5   1.0     210.0        286280.785567     elkan\n",
      "6   1.0     310.0        286280.785567      full\n",
      "7   1.0     310.0        286280.785567     elkan\n",
      "8   1.0     410.0        286280.785567      full\n",
      "9   1.0     410.0        286280.785567     elkan\n",
      "10  1.0     510.0        286280.785567      full\n",
      "11  1.0     510.0        286280.785567     elkan\n",
      "12  1.0     610.0        286280.785567      full\n",
      "13  1.0     610.0        286280.785567     elkan\n",
      "14  1.0     710.0        286280.785567      full\n",
      "15  1.0     710.0        286280.785567     elkan\n",
      "16  1.0     810.0        286280.785567      full\n",
      "17  1.0     810.0        286280.785567     elkan\n",
      "18  1.0     910.0        286280.785567      full\n",
      "19  1.0     910.0        286280.785567     elkan\n",
      "20  2.0      10.0        131405.166288      full\n",
      "21  2.0      10.0        131405.166288     elkan\n",
      "22  2.0     110.0        131405.166288      full\n",
      "23  2.0     110.0        131405.166288     elkan\n",
      "24  2.0     210.0        131405.166288      full\n",
      "25  2.0     210.0        131405.166288     elkan\n",
      "26  2.0     310.0        131405.166288      full\n",
      "27  2.0     310.0        131405.166288     elkan\n",
      "28  2.0     410.0        131405.166288      full\n",
      "29  2.0     410.0        131405.166288     elkan\n",
      "30  2.0     510.0        131405.166288      full\n",
      "31  2.0     510.0        131405.166288     elkan\n",
      "32  2.0     610.0        131405.166288      full\n",
      "33  2.0     610.0        131405.166288     elkan\n",
      "34  2.0     710.0        131405.166288      full\n",
      "35  2.0     710.0        131405.166288     elkan\n",
      "36  2.0     810.0        131405.166288      full\n",
      "37  2.0     810.0        131405.166288     elkan\n",
      "38  2.0     910.0        131405.166288      full\n",
      "39  2.0     910.0        131405.166288     elkan\n",
      "40  3.0      10.0        103582.533493      full\n",
      "41  3.0      10.0        103582.533493     elkan\n",
      "42  3.0     110.0        103582.497117      full\n",
      "43  3.0     110.0        103582.482812     elkan\n",
      "44  3.0     210.0        103582.497117      full\n",
      "45  3.0     210.0        103582.482812     elkan\n",
      "46  3.0     310.0        103582.497117      full\n",
      "47  3.0     310.0        103582.482812     elkan\n",
      "48  3.0     410.0        103582.497117      full\n",
      "49  3.0     410.0        103582.482812     elkan\n",
      "50  3.0     510.0        103582.497117      full\n",
      "51  3.0     510.0        103582.482812     elkan\n",
      "52  3.0     610.0        103582.497117      full\n",
      "53  3.0     610.0        103582.482812     elkan\n",
      "54  3.0     710.0        103582.497117      full\n",
      "55  3.0     710.0        103582.482812     elkan\n",
      "56  3.0     810.0        103582.497117      full\n",
      "57  3.0     810.0        103582.482812     elkan\n",
      "58  3.0     910.0        103582.497117      full\n",
      "59  3.0     910.0        103582.482812     elkan\n",
      "60  4.0      10.0         86787.851762      full\n",
      "61  4.0      10.0         86787.851762     elkan\n",
      "62  4.0     110.0         86782.919007      full\n",
      "63  4.0     110.0         86782.919007     elkan\n",
      "64  4.0     210.0         86782.919007      full\n",
      "65  4.0     210.0         86782.919007     elkan\n",
      "66  4.0     310.0         86782.919007      full\n",
      "67  4.0     310.0         86782.919007     elkan\n",
      "68  4.0     410.0         86782.919007      full\n",
      "69  4.0     410.0         86782.919007     elkan\n",
      "70  4.0     510.0         86782.919007      full\n",
      "71  4.0     510.0         86782.919007     elkan\n",
      "72  4.0     610.0         86782.919007      full\n",
      "73  4.0     610.0         86782.919007     elkan\n",
      "74  4.0     710.0         86782.919007      full\n",
      "75  4.0     710.0         86782.919007     elkan\n",
      "76  4.0     810.0         86782.919007      full\n",
      "77  4.0     810.0         86782.919007     elkan\n",
      "78  4.0     910.0         86782.919007      full\n",
      "79  4.0     910.0         86782.919007     elkan\n",
      "80  5.0      10.0         75393.719272      full\n",
      "81  5.0      10.0         75393.719272     elkan\n",
      "82  5.0     110.0         75393.168599      full\n",
      "83  5.0     110.0         75392.901660     elkan\n",
      "84  5.0     210.0         75393.168599      full\n",
      "85  5.0     210.0         75392.901660     elkan\n",
      "86  5.0     310.0         75393.168599      full\n",
      "87  5.0     310.0         75392.901660     elkan\n",
      "88  5.0     410.0         75393.168599      full\n",
      "89  5.0     410.0         75392.901660     elkan\n",
      "90  5.0     510.0         75393.168599      full\n",
      "91  5.0     510.0         75392.901660     elkan\n",
      "92  5.0     610.0         75393.168599      full\n",
      "93  5.0     610.0         75392.901660     elkan\n",
      "94  5.0     710.0         75393.168599      full\n",
      "95  5.0     710.0         75392.901660     elkan\n",
      "96  5.0     810.0         75393.168599      full\n",
      "97  5.0     810.0         75392.901660     elkan\n",
      "98  5.0     910.0         75393.168599      full\n",
      "99  5.0     910.0         75392.901660     elkan\n"
     ]
    }
   ],
   "source": [
    "pd.options.display.max_rows = 999\n",
    "print(tabla_configuraciones)\n",
    "#tabla_configuraciones.to_csv(index=False)"
   ]
  },
  {
   "cell_type": "markdown",
   "metadata": {},
   "source": [
    "## Interpretación de la tabla de configuraciones:\n",
    "Observamos que la distancia (error) se mantiene constante independientemente del número de iteraciones si se\n",
    "mantiene el número de clusters constante. Sin embargo, observamos que el menor error aparece a mayor número de \n",
    "clusteres. \n",
    "Hemos observado que a mayor número de clústeres, menor distancia al clúster más cercano. \n",
    "Esto significa que cuanto mayor número de clústeres, mejores resultados. \n",
    "Por tanto, la mejor configuración es aquella en la que las siguientes variables toman estos valores: \n",
    "\n",
    "numero_clusteres (k) = 95, \n",
    "número de iteraciones = 10"
   ]
  },
  {
   "cell_type": "code",
   "execution_count": 21,
   "metadata": {},
   "outputs": [
    {
     "name": "stdout",
     "output_type": "stream",
     "text": [
      "la puntuación del modelo es:\n",
      " -10234.47622404793\n",
      "Distancia del modelo (error cuadrático de los clústeres): \n",
      " 51611.952114991465\n"
     ]
    }
   ],
   "source": [
    "#puntuacion_modelo = modelo_kmeans.score(datos_variableX_test)\n",
    "#print(\"la puntuación del modelo es:\\n\", puntuacion_modelo)\n",
    "#print(\"Distancia del modelo (error cuadrático de los clústeres): \\n\", modelo_kmeans.inertia_ )"
   ]
  },
  {
   "cell_type": "code",
   "execution_count": 40,
   "metadata": {},
   "outputs": [
    {
     "data": {
      "image/png": "[encoded data removed]",
      "text/plain": [
       "<Figure size 432x288 with 1 Axes>"
      ]
     },
     "metadata": {
      "needs_background": "light"
     },
     "output_type": "display_data"
    },
    {
     "data": {
      "image/png": "[encoded data removed]",
      "text/plain": [
       "<Figure size 432x288 with 1 Axes>"
      ]
     },
     "metadata": {
      "needs_background": "light"
     },
     "output_type": "display_data"
    },
    {
     "data": {
      "image/png": "[encoded data removed]",
      "text/plain": [
       "<Figure size 432x288 with 1 Axes>"
      ]
     },
     "metadata": {
      "needs_background": "light"
     },
     "output_type": "display_data"
    },
    {
     "data": {
      "image/png": "[encoded data removed]",
      "text/plain": [
       "<Figure size 432x288 with 1 Axes>"
      ]
     },
     "metadata": {
      "needs_background": "light"
     },
     "output_type": "display_data"
    },
    {
     "data": {
      "image/png": "[encoded data removed]",
      "text/plain": [
       "<Figure size 432x288 with 1 Axes>"
      ]
     },
     "metadata": {
      "needs_background": "light"
     },
     "output_type": "display_data"
    },
    {
     "data": {
      "image/png": "[encoded data removed]",
      "text/plain": [
       "<Figure size 432x288 with 1 Axes>"
      ]
     },
     "metadata": {
      "needs_background": "light"
     },
     "output_type": "display_data"
    },
    {
     "data": {
      "image/png": "[encoded data removed]",
      "text/plain": [
       "<Figure size 432x288 with 1 Axes>"
      ]
     },
     "metadata": {
      "needs_background": "light"
     },
     "output_type": "display_data"
    },
    {
     "data": {
      "image/png": "[encoded data removed]",
      "text/plain": [
       "<Figure size 432x288 with 1 Axes>"
      ]
     },
     "metadata": {
      "needs_background": "light"
     },
     "output_type": "display_data"
    },
    {
     "data": {
      "image/png": "[encoded data removed]",
      "text/plain": [
       "<Figure size 432x288 with 1 Axes>"
      ]
     },
     "metadata": {
      "needs_background": "light"
     },
     "output_type": "display_data"
    }
   ],
   "source": [
    "#3º: Con la mejor configuración del punto anterior. Utiliza dos criterios para elegir el lugar inicial del punto \n",
    "#central de los grupos. Dibuja cómo se van modificando los grupos y cómo van cambiando sus centroides en cada \n",
    "#iteración. Obtén una conclusión acerca de donde deberían situarse los centroides. \n",
    "\n",
    "#La mejor configuración obtenida en el punto anterior es la siguiente: \n",
    "\n",
    "#El primer criterio para la posición inicial del centroide será posición aleatoria.\n",
    "i = 1\n",
    "while i < 10:\n",
    "    modelo1_kmeans = KMeans(n_clusters= 95 , random_state=0, max_iter=i, algorithm = \"elkan\", init = \"random\").fit(datos_variableX)\n",
    "    datos_grafica = modelo1_kmeans.transform(datos_variableX)\n",
    "    centroides = modelo1_kmeans.cluster_centers_\n",
    "    plt.scatter(datos_grafica[:][0], datos_grafica[:][1])\n",
    "    plt.scatter(centroides[:][0], centroides[:][1])\n",
    "    plt.show()\n",
    "    plt.close()\n",
    "    i+=1\n",
    "\n"
   ]
  },
  {
   "cell_type": "code",
   "execution_count": 41,
   "metadata": {},
   "outputs": [
    {
     "data": {
      "image/png": "[encoded data removed]",
      "text/plain": [
       "<Figure size 432x288 with 1 Axes>"
      ]
     },
     "metadata": {
      "needs_background": "light"
     },
     "output_type": "display_data"
    },
    {
     "data": {
      "image/png": "[encoded data removed]",
      "text/plain": [
       "<Figure size 432x288 with 1 Axes>"
      ]
     },
     "metadata": {
      "needs_background": "light"
     },
     "output_type": "display_data"
    },
    {
     "data": {
      "image/png": "[encoded data removed]",
      "text/plain": [
       "<Figure size 432x288 with 1 Axes>"
      ]
     },
     "metadata": {
      "needs_background": "light"
     },
     "output_type": "display_data"
    },
    {
     "data": {
      "image/png": "[encoded data removed]",
      "text/plain": [
       "<Figure size 432x288 with 1 Axes>"
      ]
     },
     "metadata": {
      "needs_background": "light"
     },
     "output_type": "display_data"
    },
    {
     "data": {
      "image/png": "[encoded data removed]",
      "text/plain": [
       "<Figure size 432x288 with 1 Axes>"
      ]
     },
     "metadata": {
      "needs_background": "light"
     },
     "output_type": "display_data"
    },
    {
     "data": {
      "image/png": "[encoded data removed]",
      "text/plain": [
       "<Figure size 432x288 with 1 Axes>"
      ]
     },
     "metadata": {
      "needs_background": "light"
     },
     "output_type": "display_data"
    },
    {
     "data": {
      "image/png": "[encoded data removed]",
      "text/plain": [
       "<Figure size 432x288 with 1 Axes>"
      ]
     },
     "metadata": {
      "needs_background": "light"
     },
     "output_type": "display_data"
    },
    {
     "data": {
      "image/png": "[encoded data removed]",
      "text/plain": [
       "<Figure size 432x288 with 1 Axes>"
      ]
     },
     "metadata": {
      "needs_background": "light"
     },
     "output_type": "display_data"
    },
    {
     "data": {
      "image/png": "[encoded data removed]",
      "text/plain": [
       "<Figure size 432x288 with 1 Axes>"
      ]
     },
     "metadata": {
      "needs_background": "light"
     },
     "output_type": "display_data"
    }
   ],
   "source": [
    "\n",
    "#El segundo criterio será elegir será k-means++\n",
    "i = 1\n",
    "while i < 10:\n",
    "    modelo1_kmeans = KMeans(n_clusters= 95 , random_state=0, max_iter=i, algorithm = \"elkan\", init = \"k-means++\").fit(datos_variableX)\n",
    "    datos_grafica = modelo1_kmeans.transform(datos_variableX)\n",
    "    centroides = modelo1_kmeans.cluster_centers_\n",
    "    plt.scatter(datos_grafica[:][0], datos_grafica[:][1])\n",
    "    plt.scatter(centroides[:][0], centroides[:][1])\n",
    "    plt.show()\n",
    "    plt.close()\n",
    "    i+=1\n",
    "\n",
    "\n"
   ]
  },
  {
   "cell_type": "markdown",
   "metadata": {},
   "source": [
    "### 4º: Estudia que técnicas de postprocesamiento se podrían aplicar en base al error cometido en cada clúster. \n",
    "\n",
    "-Eliminar los clústeres de posibles datos atípicos. \n",
    "\n",
    "-Dividir clústeres dudosos con alto SSE.\n",
    "\n",
    "-Mezclar clústeres cercanos con un bajo SSE.\n",
    "\n",
    "-A veces se pueden añadir estos procesos dentro del procesamiento básico de clústering."
   ]
  }
 ],
 "metadata": {
  "kernelspec": {
   "display_name": "Python 3",
   "language": "python",
   "name": "python3"
  },
  "language_info": {
   "codemirror_mode": {
    "name": "ipython",
    "version": 3
   },
   "file_extension": ".py",
   "mimetype": "text/x-python",
   "name": "python",
   "nbconvert_exporter": "python",
   "pygments_lexer": "ipython3",
   "version": "3.7.1"
  }
 },
 "nbformat": 4,
 "nbformat_minor": 2
}
