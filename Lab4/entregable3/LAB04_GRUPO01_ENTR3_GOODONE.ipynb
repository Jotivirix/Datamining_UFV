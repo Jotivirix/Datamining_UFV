{
 "cells": [
  {
   "cell_type": "markdown",
   "metadata": {},
   "source": [
    "# Laboratorio 4 - Regresión y Clustering\n",
    "\n",
    "## Paula Hípola Gómez, José Ignacio Navas Sanz y Belén Ortega Pérez\n",
    "\n",
    "## Entregable 3 - Bodega de Vino"
   ]
  },
  {
   "cell_type": "code",
   "execution_count": null,
   "metadata": {},
   "outputs": [],
   "source": [
    "%config IPCompleter.greedy=True\n",
    "%reset\n",
    "#Importamos las librerías necesarias\n",
    "#Numpy\n",
    "import numpy as np\n",
    "#Pandas\n",
    "import pandas as pd\n",
    "#Scikit-Learn\n",
    "import sklearn as sk\n",
    "#Matplotlib\n",
    "import matplotlib.pyplot as plt\n",
    "from scipy.cluster.hierarchy import centroid, fcluster\n",
    "from scipy.spatial.distance import pdist\n",
    "from scipy.cluster import hierarchy"
   ]
  },
  {
   "cell_type": "code",
   "execution_count": null,
   "metadata": {},
   "outputs": [],
   "source": [
    "#Centramos las imágenes\n",
    "from IPython.core.display import HTML\n",
    "HTML(\"\"\"\n",
    "<style>\n",
    ".output_png {\n",
    "    display: table-cell;\n",
    "    text-align: center;\n",
    "    vertical-align: middle;\n",
    "}\n",
    "</style>\n",
    "\"\"\")"
   ]
  },
  {
   "cell_type": "markdown",
   "metadata": {},
   "source": [
    "### Carga y Visualización de Datos"
   ]
  },
  {
   "cell_type": "code",
   "execution_count": null,
   "metadata": {},
   "outputs": [],
   "source": [
    "#Importamos el CSV\n",
    "dataset = pd.read_csv('vinos.csv')\n",
    "#Guardamos una copia del dataset original\n",
    "datasetOriginal = dataset\n",
    "#Mostramos los datos\n",
    "dataset"
   ]
  },
  {
   "cell_type": "markdown",
   "metadata": {},
   "source": [
    "### Limpieza de Datos"
   ]
  },
  {
   "cell_type": "code",
   "execution_count": null,
   "metadata": {},
   "outputs": [],
   "source": [
    "#Datos nulos\n",
    "nulos = pd.DataFrame(dataset.isna().sum(), columns=[\"Número de nulos\"])\n",
    "nulos"
   ]
  },
  {
   "cell_type": "markdown",
   "metadata": {},
   "source": [
    "#### No hay datos nulos por lo que podemos continuar sin problemas a la comprobación de \"missing values\""
   ]
  },
  {
   "cell_type": "code",
   "execution_count": null,
   "metadata": {},
   "outputs": [],
   "source": [
    "#Datos missing\n",
    "missing = pd.DataFrame(dataset.isnull().sum(), columns=[\"Número de missing values\"])\n",
    "missing"
   ]
  },
  {
   "cell_type": "markdown",
   "metadata": {},
   "source": [
    "#### No hay 'missing values' por lo que podemos continuar sin problemas al siguiente paso, comprobar repetidos"
   ]
  },
  {
   "cell_type": "code",
   "execution_count": null,
   "metadata": {},
   "outputs": [],
   "source": [
    "tamOrig = dataset.shape\n",
    "print('Tamaño del dataset sin eliminar datos duplicados: ', tamOrig)\n",
    "dataset = dataset.drop_duplicates()\n",
    "nuevoTam = dataset.shape\n",
    "print('Eliminando los duplicados, el dataset queda del tamaño: ', nuevoTam)\n",
    "if tamOrig == nuevoTam:\n",
    "    print('No hay datos duplicados')\n",
    "else:\n",
    "    print('Se han eliminado,', tamOrig[0] - nuevoTam[0],'datos duplicados')"
   ]
  },
  {
   "cell_type": "markdown",
   "metadata": {},
   "source": [
    "#### Ya hemos terminado el apartado de la limpieza de los datos, pasamos a preprocesarlos"
   ]
  },
  {
   "cell_type": "markdown",
   "metadata": {},
   "source": [
    "### Preprocesamiento de Datos"
   ]
  },
  {
   "cell_type": "code",
   "execution_count": null,
   "metadata": {},
   "outputs": [],
   "source": [
    "matrizC = plt.figure(figsize=(10, 10))\n",
    "\n",
    "plt.matshow(dataset.corr(), fignum = matrizC.number)\n",
    "plt.title('Matriz de Correlación', size='20', y=-0.1)\n",
    "plt.xticks(range(dataset.shape[1]), dataset.columns, fontsize=10, rotation=35)\n",
    "plt.yticks(range(dataset.shape[1]), dataset.columns, fontsize=10)\n",
    "\n",
    "leyenda = plt.colorbar()\n",
    "leyenda.ax.tick_params(labelsize=9)"
   ]
  },
  {
   "cell_type": "markdown",
   "metadata": {},
   "source": [
    "#### Para conocer mejor los datos propuestos y como se relacionan entre ellos sacamos la matriz de correlación, donde podemos observar la fuerte correlación que hay entre los \"Flavanoids\" y los \"Total_Phenols\", así como \"Proline\" con el \"Alcohol\", a diferencia de la nula correlación que presentan los \"Nonflavanoid_Phenols con los \"Flavanoids\" como \"Hue\" con \"Color Intensity\". En conclusión, esta matriz nos cuenta la relación que tienen unos compuestos químicos con otros respecto a la fabricación del vino, lo cual puede sernos de mucha ayuda para nuestro objetivo en la diferenciación de los vinos de la bodega."
   ]
  },
  {
   "cell_type": "code",
   "execution_count": null,
   "metadata": {},
   "outputs": [],
   "source": [
    "from sklearn.preprocessing import StandardScaler\n",
    "datosTransformados = StandardScaler().fit_transform(dataset)\n",
    "datosTransformados = pd.DataFrame(datosTransformados)\n",
    "datosTransformados"
   ]
  },
  {
   "cell_type": "code",
   "execution_count": null,
   "metadata": {},
   "outputs": [],
   "source": [
    "from matplotlib import pyplot as plt\n",
    "from scipy.cluster.hierarchy import dendrogram\n",
    "from sklearn.cluster import AgglomerativeClustering\n",
    "\n",
    "def plot_dendrogram(model, **kwargs):\n",
    "    # Create linkage matrix and then plot the dendrogram\n",
    "\n",
    "    # create the counts of samples under each node\n",
    "    counts = np.zeros(model.children_.shape[0])\n",
    "    n_samples = len(model.labels_)\n",
    "    for i, merge in enumerate(model.children_):\n",
    "        current_count = 0\n",
    "        for child_idx in merge:\n",
    "            if child_idx < n_samples:\n",
    "                current_count += 1  # leaf node\n",
    "            else:\n",
    "                current_count += counts[child_idx - n_samples]\n",
    "        counts[i] = current_count\n",
    "\n",
    "    linkage_matrix = np.column_stack([model.children_,model.distances_,counts]).astype(float)\n",
    "\n",
    "    # Plot the corresponding dendrogram\n",
    "    dendrogram(linkage_matrix, **kwargs)"
   ]
  },
  {
   "cell_type": "markdown",
   "metadata": {},
   "source": [
    "Los dendogramas nos ayudan en la elección más óptima de la K del modelo, ya que muestran las distintas agrupaciones por en función de la distancia entre cada nodo. Por ello, es interesante analizar los distintos dendogramas con diferentes distancias, para finalmente elegir el modelo más óptimo y poder estudiarlo correctamente."
   ]
  },
  {
   "cell_type": "markdown",
   "metadata": {},
   "source": [
    "### 1) Utiliza varias configuraciones para el modelo aplicando “single linkage” que más se adapte y teniendo en cuenta los tipos de distancias entre elementos. ¿Cuál es la k del modelo? (1,5 puntos)\n",
    "\n",
    "#### Como se nos pide que utilicemos 'single linkage' vamos a quedarnos con la configuración de este dendograma.\n",
    "\n",
    "#### Para Single, podemos utilizar las siguientes distancias - “euclidean”, “l1”, “l2”, “manhattan”, “cosine”, or “precomputed” -- La única excepcion es que si aplicamos Precomputed, necesitamos una matriz de distancias entre los elementos"
   ]
  },
  {
   "cell_type": "code",
   "execution_count": null,
   "metadata": {
    "scrolled": false
   },
   "outputs": [],
   "source": [
    "X = datosTransformados\n",
    "\n",
    "afinidades = ['euclidean','l1','l2','manhattan','precomputed']\n",
    "i = 0;\n",
    "j = 0;\n",
    "for afinidad in afinidades:\n",
    "    if afinidad == 'precomputed':\n",
    "        #Calculamos matriz de distancias\n",
    "        from scipy.spatial import distance_matrix\n",
    "        print('Calculando Matriz de Distancias...')\n",
    "        X = pd.DataFrame(distance_matrix(datosTransformados.values, datosTransformados.values),\n",
    "                         index=datosTransformados.index, columns=datosTransformados.index)\n",
    "    model = AgglomerativeClustering(affinity=afinidad, distance_threshold=0, n_clusters=None, linkage='single')\n",
    "    model = model.fit(X)\n",
    "    plt.figure(figsize=(20, 8))\n",
    "    plt.title('Dendograma Jerárquico Single Linkage - Afinidad:'+afinidad, size='16')\n",
    "    # plot the top three levels of the dendrogram\n",
    "    plot_dendrogram(model, truncate_mode='lastp', count_sort='ascending', orientation='right')\n",
    "    plt.ylabel(\"Número de elementos en cada nodo\",size='10')\n",
    "    plt.xlabel(\"Distancia entre los elementos\",size='10')\n",
    "    plt.show()"
   ]
  },
  {
   "cell_type": "markdown",
   "metadata": {},
   "source": [
    "#### A continuación se muestra otro dendograma realizado con Scipy en vez de Scikit, queríamos hacer una comprobación sobre el resultado y confirmar que no afecta la orientación ni la librería a la hora de mostrar los resultados. Una vez comprobado, procedemos a elegir en base a los dendogramas mostrados anteriormente el que se ajusta más a nuestras necesidades y hace una diferenciación más clara de Cluster."
   ]
  },
  {
   "cell_type": "code",
   "execution_count": null,
   "metadata": {},
   "outputs": [],
   "source": [
    "y = pdist(datosTransformados)\n",
    "Z = centroid(y)\n",
    "T = hierarchy.linkage(y, 'single')\n",
    "plt.figure(figsize=(16, 8))\n",
    "dn = hierarchy.dendrogram(T, truncate_mode='lastp',count_sort='ascending')"
   ]
  },
  {
   "cell_type": "markdown",
   "metadata": {},
   "source": [
    "### 2) Dibuja un dendograma con los clústeres obtenidos. Explica alguna de las relaciones interesantes que puedes encontrar. ¿Se pueden identificar claramente varios tipos de vinos? ¿qué características los definirían? (1 punto)"
   ]
  },
  {
   "cell_type": "markdown",
   "metadata": {},
   "source": [
    "### Nos vamos a quedar con Afinidad Euclidean"
   ]
  },
  {
   "cell_type": "markdown",
   "metadata": {},
   "source": [
    "#### Tras observar y estudiar los distintos dendogramas generados con las diferentes distancias, observamos que prácticamente todos son muy parecidos a excepción de los dendograma generados con la distancia Manhattan y l1, que son ligeramente más engorrosos en las agrupaciones finales, ya que apenas hay distancia entre las penútlimas y antepenúltimas agrupaciónes. \n",
    "#### Es por ello, que hemos escogido finalmente la afinidad Euclidea."
   ]
  },
  {
   "cell_type": "code",
   "execution_count": null,
   "metadata": {},
   "outputs": [],
   "source": [
    "model = AgglomerativeClustering(affinity='euclidean', distance_threshold=0, n_clusters=None, linkage='single')\n",
    "model = model.fit(datosTransformados)\n",
    "plt.figure(figsize=(16, 8))\n",
    "plt.title('Dendograma Jerárquico Single Linkage - Euclidean', size='14')\n",
    "# plot the top three levels of the dendrogram\n",
    "plot_dendrogram(model, truncate_mode='lastp',count_sort='ascending')\n",
    "plt.xlabel(\"Número de elementos en cada nodo\")\n",
    "plt.ylabel('Distancia entre los elementos')\n",
    "plt.plot([0,300], [3.2,3.2], color='black', linewidth=1)\n",
    "plt.show()"
   ]
  },
  {
   "cell_type": "markdown",
   "metadata": {},
   "source": [
    "#### De nuevo generamos el dendograma de afinidad Euclidea y en este caso le incluimos la línea de corte que nos servirá para confirmar el número óptimo de de agrupaciones. En este dendograma podemos ver, que inicialmente se dan tres grupos, diferenciados por azul, naranja y verde. Pero al realizar el corte se reduce a dos únicas agrupaciones que se muestran a continuación."
   ]
  },
  {
   "cell_type": "code",
   "execution_count": null,
   "metadata": {},
   "outputs": [],
   "source": [
    "y = pdist(datosTransformados)\n",
    "Z = centroid(y)\n",
    "T = hierarchy.linkage(y, 'single')\n",
    "plt.figure(figsize=(16, 8))\n",
    "dn = hierarchy.dendrogram(T, truncate_mode='level', p=6, count_sort='ascending')"
   ]
  },
  {
   "cell_type": "markdown",
   "metadata": {},
   "source": [
    "#### El dendograma final es una visualización compacta que nos permite la interpretación de la estructura de forma más fácil. Podemos ver que hay un par que se muestran bastante cerca, que son el (2) y el (168) , mientras que el los demás quedan separados de esta agrupación inicial pero adjuntandose a medida que la distancia aumenta, pero la distancia ha de aumentar casi un punto para que se agrupen todos estos valores, que por lo pronto parecen atípicos. \n",
    "\n",
    "#### Respecto a los datos que corresponden al grupo de la izquierda, también podemos ver que se da una agrupación inicial que corresponde con el color naranja y que de nuevo a medida que aumenta la distancia, aunque no excesivamente, se agrupan."
   ]
  },
  {
   "cell_type": "markdown",
   "metadata": {},
   "source": [
    "### Conclusiones"
   ]
  },
  {
   "cell_type": "markdown",
   "metadata": {},
   "source": [
    "#### Una vez realizado los dendogramas y elegido uno como modelo, hemos estudiado los resultados obtenidos y los diversos valores atípicos que se han dado. Los valores que quedan entre parentesis representan el número de elementos que que contiene esa \"pata\", al contrario de lo que ocurre con los valores que quedan sin parentesis que representan un único elemento, que corresponde a la posición en el dataset.\n",
    "#### Inicialmente se podían diferenciar tres vinos, que corresponden a los 3 colores representados en los primeros dendogramas pero con numerosos casos atípicos, pero a medida que ibamos aumentando la distancia esto se reducía a dos únicos tipos, este alto número de casos atípicos puede ser provocado por el tipo de uva escogido para cada vino y que no todas las cosechas son igual de buenas, depende fundamentalmente del tipo de año que ha sido, respecto a las lluvias, granizos o sequías, la acídez de la tierra, posibles plagas, así como la maduración de la uva."
   ]
  }
 ],
 "metadata": {
  "kernelspec": {
   "display_name": "Python 3",
   "language": "python",
   "name": "python3"
  },
  "language_info": {
   "codemirror_mode": {
    "name": "ipython",
    "version": 3
   },
   "file_extension": ".py",
   "mimetype": "text/x-python",
   "name": "python",
   "nbconvert_exporter": "python",
   "pygments_lexer": "ipython3",
   "version": "3.8.3"
  }
 },
 "nbformat": 4,
 "nbformat_minor": 4
}
