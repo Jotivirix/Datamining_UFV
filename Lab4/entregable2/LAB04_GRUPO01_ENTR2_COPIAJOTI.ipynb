{
 "cells": [
  {
   "cell_type": "markdown",
   "metadata": {},
   "source": [
    "# Laboratorio 4 - Regresión y Clustering\n",
    "\n",
    "## Paula Hípola Gómez, José Ignacio Navas Sanz y Belén Ortega Pérez\n",
    "\n",
    "## Entregable 2 - Características de los Inmuebles"
   ]
  },
  {
   "cell_type": "code",
   "execution_count": null,
   "metadata": {},
   "outputs": [],
   "source": [
    "%config IPCompleter.greedy=True\n",
    "%reset\n",
    "#Importamos las librerías necesarias\n",
    "#Numpy\n",
    "import numpy as np\n",
    "#Pandas\n",
    "import pandas as pd\n",
    "#Scikit-Learn\n",
    "import sklearn as sk\n",
    "#Matplotlib\n",
    "import matplotlib.pyplot as plt\n",
    "\n",
    "from sklearn.linear_model import LinearRegression\n",
    "from sklearn.model_selection import train_test_split\n",
    "from sklearn.metrics import mean_squared_error\n",
    "from scipy.stats import pearsonr\n",
    "from sklearn import metrics\n",
    "from scipy.spatial.distance import cdist\n",
    "from sklearn.cluster import KMeans\n",
    "from sklearn.preprocessing import StandardScaler\n",
    "from sklearn.preprocessing import MinMaxScaler\n",
    "from sklearn.decomposition import PCA"
   ]
  },
  {
   "cell_type": "code",
   "execution_count": null,
   "metadata": {},
   "outputs": [],
   "source": [
    "#Se utiliza para centrar imágenes\n",
    "from IPython.core.display import HTML\n",
    "HTML(\"\"\"\n",
    "<style>\n",
    ".output_png {\n",
    "    display: table-cell;\n",
    "    text-align: center;\n",
    "    vertical-align: middle;\n",
    "}\n",
    "</style>\n",
    "\"\"\")"
   ]
  },
  {
   "cell_type": "code",
   "execution_count": null,
   "metadata": {},
   "outputs": [],
   "source": [
    "#Importamos el CSV\n",
    "dataset = pd.read_csv('casas.csv')\n",
    "#Guardamos una copia del dataset original\n",
    "datasetOriginal = dataset\n",
    "#Mostramos los datos\n",
    "dataset.head()"
   ]
  },
  {
   "cell_type": "code",
   "execution_count": null,
   "metadata": {},
   "outputs": [],
   "source": [
    "dataset.describe()"
   ]
  },
  {
   "cell_type": "markdown",
   "metadata": {},
   "source": [
    "El atributo id no es útil en el estudio del precio de las casas ya que para nosotros significa el orden en el que los inmuebles se han añadido al conjunto de datos. Es por esto que procedemos a eliminarlo. Del mismo modo, el precio de las distintas casas es nuestra variable objetivo por lo que lo separamos del dataset.  Finalmente, obtendremos los 79 atributos que describen las casas de este conjunto de datos."
   ]
  },
  {
   "cell_type": "code",
   "execution_count": null,
   "metadata": {},
   "outputs": [],
   "source": [
    "#Creamos el array con el precio de cada registro.\n",
    "precioDeVenta = dataset[\"SalePrice\"].values\n",
    "#Eliminamos los atributos ID y SalePrice\n",
    "dataset = dataset.drop(columns=['Id', 'SalePrice'])\n",
    "dataset.head(10)"
   ]
  },
  {
   "cell_type": "code",
   "execution_count": null,
   "metadata": {},
   "outputs": [],
   "source": [
    "#Miramos cuántos datos duplicados hay\n",
    "numDuplicados = dataset.duplicated().sum()\n",
    "print('Hay',numDuplicados,'valores duplicados')"
   ]
  },
  {
   "cell_type": "code",
   "execution_count": null,
   "metadata": {},
   "outputs": [],
   "source": [
    "#Miramos cuántos datos nulos hay\n",
    "columnasNulas = dataset.isnull().sum()\n",
    "porcentajes = []\n",
    "valores = []\n",
    "\n",
    "#Calculamos el porcentaje de nulos\n",
    "for col in columnasNulas:\n",
    "    porcent = (col/dataset.shape[0])*100\n",
    "    porcentajes.append(porcent)\n",
    "    \n",
    "dataFrameNulos = {'Nulos': columnasNulas, 'Porcentaje': porcentajes}\n",
    "dataFrameNulos = pd.DataFrame(dataFrameNulos)\n",
    "dataFrameNulos = dataFrameNulos.loc[dataFrameNulos['Nulos'] > 0]\n",
    "dataFrameNulos"
   ]
  },
  {
   "cell_type": "markdown",
   "metadata": {},
   "source": [
    "En nuestra opinión, para calcular el precio de una casa, son importantes todos los atributos ya que cada valor que tome el inmueble en cada uno de ellos será el que diferencie el precio. Es por esto que hemos decidido cambiar el valor NaN de nuestro dataset por valores que no sean nulos para un mejor análisis del precio.\n",
    "Además, hemos detectado que hay ciertas columnas que el valor NA implica NO. No es que sea un valor desconocido, es que las casas no tienen esas propiedades."
   ]
  },
  {
   "cell_type": "code",
   "execution_count": null,
   "metadata": {},
   "outputs": [],
   "source": [
    "#En las columnas no numéricas, cambiamos los nulos por el valor 'No'\n",
    "columnasNoNumericas = dataset.dtypes[dataset.dtypes == 'object']\n",
    "columnasNoNumericas.index\n",
    "\n",
    "#Hemos detectado que hay ciertas columnas que el NA implica NO por lo que pondremos ese valor realmente, \n",
    "#no es que sea desconocido, es que no tienen esa propiedad las casas\n",
    "\n",
    "columnasNAesNo = ['Alley','BsmtQual','BsmtCond','BsmtExposure','BsmtFinType1','BsmtFinType2','FireplaceQu',\n",
    "                  'GarageType','GarageFinish','GarageQual','GarageCond','PoolQC','Fence','MiscFeature',]\n",
    "\n",
    "for col in columnasNAesNo:\n",
    "    dataset[col] = dataset[col].fillna('No')"
   ]
  },
  {
   "cell_type": "code",
   "execution_count": null,
   "metadata": {},
   "outputs": [],
   "source": [
    "dataset"
   ]
  },
  {
   "cell_type": "code",
   "execution_count": null,
   "metadata": {},
   "outputs": [],
   "source": [
    "#Actualizamos las columnas nulas\n",
    "#Volvemos a comprobar cuántos valores nulos hay\n",
    "columnasNulas = dataset.isnull().sum()\n",
    "porcentajes = []\n",
    "valores = []\n",
    "\n",
    "#Calculamos el porcentaje de nulos\n",
    "for col in columnasNulas:\n",
    "    porcent = (col/dataset.shape[0])*100\n",
    "    porcentajes.append(porcent)\n",
    "    \n",
    "dataFrameNulos = {'Nulos': columnasNulas, 'Porcentaje': porcentajes}\n",
    "dataFrameNulos = pd.DataFrame(dataFrameNulos)\n",
    "dataFrameNulos = dataFrameNulos.loc[dataFrameNulos['Nulos'] > 0]\n",
    "dataFrameNulos"
   ]
  },
  {
   "cell_type": "code",
   "execution_count": null,
   "metadata": {},
   "outputs": [],
   "source": [
    "#En las columnas no numéricas, cambiamos los nulos por el valor 'Desconocido'\n",
    "columnasNoNumericas = dataset.dtypes[dataset.dtypes == 'object']\n",
    "\n",
    "for col in columnasNoNumericas.index:\n",
    "    if(col in dataFrameNulos.index):\n",
    "        dataset[col] = dataset[col].fillna('Desconocido')"
   ]
  },
  {
   "cell_type": "code",
   "execution_count": null,
   "metadata": {},
   "outputs": [],
   "source": [
    "#Actualizamos las columnas nulas\n",
    "#Volvemos a comprobar cuántos valores nulos hay\n",
    "columnasNulas = dataset.isnull().sum()\n",
    "porcentajes = []\n",
    "valores = []\n",
    "\n",
    "#Calculamos el porcentaje de nulos\n",
    "for col in columnasNulas:\n",
    "    porcent = (col/dataset.shape[0])*100\n",
    "    porcentajes.append(porcent)\n",
    "    \n",
    "dataFrameNulos = {'Nulos': columnasNulas, 'Porcentaje': porcentajes}\n",
    "dataFrameNulos = pd.DataFrame(dataFrameNulos)\n",
    "dataFrameNulos = dataFrameNulos.loc[dataFrameNulos['Nulos'] > 0]\n",
    "dataFrameNulos"
   ]
  },
  {
   "cell_type": "markdown",
   "metadata": {},
   "source": [
    "La columna GarageYrBlt con 81 nulos es resultante de casas sin garaje. Cambiaremos el valor nulo por un 0 ya que el atributo es de tipo <i>float64</i>"
   ]
  },
  {
   "cell_type": "code",
   "execution_count": null,
   "metadata": {},
   "outputs": [],
   "source": []
  }
 ],
 "metadata": {
  "kernelspec": {
   "display_name": "Python 3",
   "language": "python",
   "name": "python3"
  },
  "language_info": {
   "codemirror_mode": {
    "name": "ipython",
    "version": 3
   },
   "file_extension": ".py",
   "mimetype": "text/x-python",
   "name": "python",
   "nbconvert_exporter": "python",
   "pygments_lexer": "ipython3",
   "version": "3.8.3"
  }
 },
 "nbformat": 4,
 "nbformat_minor": 4
}
