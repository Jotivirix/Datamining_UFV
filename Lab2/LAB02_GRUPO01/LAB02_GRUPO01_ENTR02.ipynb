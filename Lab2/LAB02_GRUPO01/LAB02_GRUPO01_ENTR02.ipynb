{
 "cells": [
  {
   "cell_type": "markdown",
   "metadata": {},
   "source": [
    "# Laboratorio 2 - Reglas de Asociación y Patrones Secuenciales\n",
    "\n",
    "## Grupo 1 - Paula Hípola Gómez, José Ignacio Navas Sanz y Belén Ortega Pérez\n",
    "\n",
    "## Entregable 2 - Patrones Secuenciales"
   ]
  },
  {
   "cell_type": "markdown",
   "metadata": {},
   "source": [
    "### Importamos las librerias con las que trabajaremos."
   ]
  },
  {
   "cell_type": "code",
   "execution_count": 1,
   "metadata": {},
   "outputs": [],
   "source": [
    "%config IPCompleter.greedy=True\n",
    "\n",
    "import numpy as np                        #Esta libreria nos permite trabajar con numericos\n",
    "import pandas as pd                       #Pandas nos permite trabajar con datasets y csv\n",
    "import matplotlib.pyplot as plt           #Las dos librerias anteriores nos permiten pintar las funciones\n",
    "from sklearn import preprocessing         #Nos sirve para normalizar los datos\n",
    "\n",
    "from gsppy.gsp import GSP                     #Librería para poder implementar Generalized Sequential Patterns\n",
    "from mlxtend.frequent_patterns import apriori #Libería relacionada con A priori"
   ]
  },
  {
   "cell_type": "markdown",
   "metadata": {},
   "source": [
    "### 1. El conjunto de datos spotify_top10.csv contiene el ranking diario de las 10 canciones más reproducidas en Spotify cada día por país. Analizando esta información se pueden extraer conclusiones sobre cómo evoluciona la popularidad de las canciones. Este estudio se puede llevar a cabo aplicando el algoritmo Generalized Sequential Patterns utilizando la implementación de éste disponible en la librería gsppy. \n",
    "#### Prueba al menos dos configuraciones de soporte diferentes. Para una de ellas, interpreta algunos de los patrones secuenciales que te resulten curiosos. "
   ]
  },
  {
   "cell_type": "markdown",
   "metadata": {},
   "source": [
    "Añadimos el dataset con el que vamos a trabajar. En este caso vamos a utilizar una colección de datos que contiene el top 10 canciones escuchadas cada día por país. "
   ]
  },
  {
   "cell_type": "code",
   "execution_count": 2,
   "metadata": {
    "scrolled": false
   },
   "outputs": [
    {
     "data": {
      "text/html": [
       "<div>\n",
       "<style scoped>\n",
       "    .dataframe tbody tr th:only-of-type {\n",
       "        vertical-align: middle;\n",
       "    }\n",
       "\n",
       "    .dataframe tbody tr th {\n",
       "        vertical-align: top;\n",
       "    }\n",
       "\n",
       "    .dataframe thead th {\n",
       "        text-align: right;\n",
       "    }\n",
       "</style>\n",
       "<table border=\"1\" class=\"dataframe\">\n",
       "  <thead>\n",
       "    <tr style=\"text-align: right;\">\n",
       "      <th></th>\n",
       "      <th>Position</th>\n",
       "      <th>Track Name</th>\n",
       "      <th>Artist</th>\n",
       "      <th>Streams</th>\n",
       "      <th>URL</th>\n",
       "      <th>Date</th>\n",
       "      <th>Region</th>\n",
       "    </tr>\n",
       "  </thead>\n",
       "  <tbody>\n",
       "    <tr>\n",
       "      <th>0</th>\n",
       "      <td>1</td>\n",
       "      <td>Reggaetón Lento (Bailemos)</td>\n",
       "      <td>CNCO</td>\n",
       "      <td>19272</td>\n",
       "      <td>https://open.spotify.com/track/3AEZUABDXNtecAO...</td>\n",
       "      <td>2017-01-01</td>\n",
       "      <td>ec</td>\n",
       "    </tr>\n",
       "    <tr>\n",
       "      <th>1</th>\n",
       "      <td>2</td>\n",
       "      <td>Chantaje</td>\n",
       "      <td>Shakira</td>\n",
       "      <td>19270</td>\n",
       "      <td>https://open.spotify.com/track/6mICuAdrwEjh6Y6...</td>\n",
       "      <td>2017-01-01</td>\n",
       "      <td>ec</td>\n",
       "    </tr>\n",
       "    <tr>\n",
       "      <th>2</th>\n",
       "      <td>3</td>\n",
       "      <td>Otra Vez (feat. J Balvin)</td>\n",
       "      <td>Zion &amp; Lennox</td>\n",
       "      <td>15761</td>\n",
       "      <td>https://open.spotify.com/track/3QwBODjSEzelZyV...</td>\n",
       "      <td>2017-01-01</td>\n",
       "      <td>ec</td>\n",
       "    </tr>\n",
       "    <tr>\n",
       "      <th>3</th>\n",
       "      <td>4</td>\n",
       "      <td>Vente Pa' Ca</td>\n",
       "      <td>Ricky Martin</td>\n",
       "      <td>14954</td>\n",
       "      <td>https://open.spotify.com/track/7DM4BPaS7uofFul...</td>\n",
       "      <td>2017-01-01</td>\n",
       "      <td>ec</td>\n",
       "    </tr>\n",
       "    <tr>\n",
       "      <th>4</th>\n",
       "      <td>5</td>\n",
       "      <td>Safari</td>\n",
       "      <td>J Balvin</td>\n",
       "      <td>14269</td>\n",
       "      <td>https://open.spotify.com/track/6rQSrBHf7HlZjtc...</td>\n",
       "      <td>2017-01-01</td>\n",
       "      <td>ec</td>\n",
       "    </tr>\n",
       "  </tbody>\n",
       "</table>\n",
       "</div>"
      ],
      "text/plain": [
       "   Position                  Track Name         Artist  Streams  \\\n",
       "0         1  Reggaetón Lento (Bailemos)           CNCO    19272   \n",
       "1         2                    Chantaje        Shakira    19270   \n",
       "2         3   Otra Vez (feat. J Balvin)  Zion & Lennox    15761   \n",
       "3         4                Vente Pa' Ca   Ricky Martin    14954   \n",
       "4         5                      Safari       J Balvin    14269   \n",
       "\n",
       "                                                 URL        Date Region  \n",
       "0  https://open.spotify.com/track/3AEZUABDXNtecAO...  2017-01-01     ec  \n",
       "1  https://open.spotify.com/track/6mICuAdrwEjh6Y6...  2017-01-01     ec  \n",
       "2  https://open.spotify.com/track/3QwBODjSEzelZyV...  2017-01-01     ec  \n",
       "3  https://open.spotify.com/track/7DM4BPaS7uofFul...  2017-01-01     ec  \n",
       "4  https://open.spotify.com/track/6rQSrBHf7HlZjtc...  2017-01-01     ec  "
      ]
     },
     "execution_count": 2,
     "metadata": {},
     "output_type": "execute_result"
    }
   ],
   "source": [
    "data = pd.read_csv('spotify_top10.csv')\n",
    "data.head()                               #Función para ver las primeras instancias del dataset"
   ]
  },
  {
   "cell_type": "markdown",
   "metadata": {},
   "source": [
    "Lo primero que debemos llevar a cabo es una limpieza del dataset. Para ello, primero averiguaremos con cuántos missing values y valores duplicados cuenta. \n",
    "\n",
    "**Datos duplicados**"
   ]
  },
  {
   "cell_type": "code",
   "execution_count": 3,
   "metadata": {},
   "outputs": [
    {
     "name": "stdout",
     "output_type": "stream",
     "text": [
      "Hay 0 datos duplicados\n"
     ]
    }
   ],
   "source": [
    "duplicates_data = data.duplicated().sum()   #Cuenta el número de datos duplicados\n",
    "print('Hay',duplicates_data,'datos duplicados')\n",
    "data.drop_duplicates(inplace = True)        #Eliminamos los datos duplicados"
   ]
  },
  {
   "cell_type": "markdown",
   "metadata": {},
   "source": [
    "**Missing values**"
   ]
  },
  {
   "cell_type": "code",
   "execution_count": 4,
   "metadata": {},
   "outputs": [
    {
     "name": "stdout",
     "output_type": "stream",
     "text": [
      "Hay 354  valores nulos\n",
      "\n",
      "Distribuido en columnas:\n",
      "Position        0\n",
      "Track Name    177\n",
      "Artist        177\n",
      "Streams         0\n",
      "URL             0\n",
      "Date            0\n",
      "Region          0\n",
      "dtype: int64\n"
     ]
    }
   ],
   "source": [
    "missing_data1 = data.isnull().sum().sum()  #Cuenta el total de missing values en el dataset\n",
    "missing_data2 = data.isnull().sum()        #Cuenta el total de missing values por atributo\n",
    "print('Hay',missing_data1,' valores nulos')\n",
    "print('\\nDistribuido en columnas:')\n",
    "print(missing_data2)"
   ]
  },
  {
   "cell_type": "markdown",
   "metadata": {},
   "source": [
    "Contamos con registros en los que el _Track Name_ y el _Artist_ son nulos. A pesar de tener estos valores vacíos, siempre tenemos una URL que nos lleva a una canción de Spotify. \n",
    "\n",
    "Hemos decidido copiar la URL de los registros con campos vacíos porque si aparecen en este conjunto de datos es porque en algún momento estubieron en la plataforma. Puede ser que hayan decidido dejar de compartir su contenido a Spotify y es por esto que no aparecen estos datos. "
   ]
  },
  {
   "cell_type": "code",
   "execution_count": 5,
   "metadata": {},
   "outputs": [
    {
     "name": "stdout",
     "output_type": "stream",
     "text": [
      "Position      0\n",
      "Track Name    0\n",
      "Artist        0\n",
      "Streams       0\n",
      "URL           0\n",
      "Date          0\n",
      "Region        0\n",
      "dtype: int64\n"
     ]
    }
   ],
   "source": [
    "#En los campos donde el Track Name es nulo, copiamos la URL.\n",
    "data.loc[(data[\"Track Name\"].isnull())&(data[\"URL\"].notnull()),\"Track Name\"] = data[\"URL\"]\n",
    "data = data.replace(np.nan, '', regex=True)\n",
    "#Volvemos a mostrar los datos nulos por atributo para demostrar que no quedan valores nulos en el nombre de la canción\n",
    "missing_data2 = data.isnull().sum()\n",
    "print(missing_data2)"
   ]
  },
  {
   "cell_type": "code",
   "execution_count": 6,
   "metadata": {},
   "outputs": [
    {
     "data": {
      "text/html": [
       "<div>\n",
       "<style scoped>\n",
       "    .dataframe tbody tr th:only-of-type {\n",
       "        vertical-align: middle;\n",
       "    }\n",
       "\n",
       "    .dataframe tbody tr th {\n",
       "        vertical-align: top;\n",
       "    }\n",
       "\n",
       "    .dataframe thead th {\n",
       "        text-align: right;\n",
       "    }\n",
       "</style>\n",
       "<table border=\"1\" class=\"dataframe\">\n",
       "  <thead>\n",
       "    <tr style=\"text-align: right;\">\n",
       "      <th></th>\n",
       "      <th>Position</th>\n",
       "      <th>Track Name</th>\n",
       "      <th>Artist</th>\n",
       "      <th>Streams</th>\n",
       "      <th>URL</th>\n",
       "      <th>Date</th>\n",
       "      <th>Region</th>\n",
       "    </tr>\n",
       "  </thead>\n",
       "  <tbody>\n",
       "    <tr>\n",
       "      <th>3094</th>\n",
       "      <td>5</td>\n",
       "      <td>https://open.spotify.com/track/1YqcGlCHNquxBhl...</td>\n",
       "      <td></td>\n",
       "      <td>16767</td>\n",
       "      <td>https://open.spotify.com/track/1YqcGlCHNquxBhl...</td>\n",
       "      <td>2017-11-09</td>\n",
       "      <td>ec</td>\n",
       "    </tr>\n",
       "    <tr>\n",
       "      <th>3104</th>\n",
       "      <td>5</td>\n",
       "      <td>https://open.spotify.com/track/1YqcGlCHNquxBhl...</td>\n",
       "      <td></td>\n",
       "      <td>19114</td>\n",
       "      <td>https://open.spotify.com/track/1YqcGlCHNquxBhl...</td>\n",
       "      <td>2017-11-10</td>\n",
       "      <td>ec</td>\n",
       "    </tr>\n",
       "    <tr>\n",
       "      <th>3115</th>\n",
       "      <td>6</td>\n",
       "      <td>https://open.spotify.com/track/1YqcGlCHNquxBhl...</td>\n",
       "      <td></td>\n",
       "      <td>21390</td>\n",
       "      <td>https://open.spotify.com/track/1YqcGlCHNquxBhl...</td>\n",
       "      <td>2017-11-11</td>\n",
       "      <td>ec</td>\n",
       "    </tr>\n",
       "    <tr>\n",
       "      <th>3125</th>\n",
       "      <td>6</td>\n",
       "      <td>https://open.spotify.com/track/1YqcGlCHNquxBhl...</td>\n",
       "      <td></td>\n",
       "      <td>19644</td>\n",
       "      <td>https://open.spotify.com/track/1YqcGlCHNquxBhl...</td>\n",
       "      <td>2017-11-12</td>\n",
       "      <td>ec</td>\n",
       "    </tr>\n",
       "    <tr>\n",
       "      <th>3136</th>\n",
       "      <td>7</td>\n",
       "      <td>https://open.spotify.com/track/1YqcGlCHNquxBhl...</td>\n",
       "      <td></td>\n",
       "      <td>16155</td>\n",
       "      <td>https://open.spotify.com/track/1YqcGlCHNquxBhl...</td>\n",
       "      <td>2017-11-13</td>\n",
       "      <td>ec</td>\n",
       "    </tr>\n",
       "  </tbody>\n",
       "</table>\n",
       "</div>"
      ],
      "text/plain": [
       "      Position                                         Track Name Artist  \\\n",
       "3094         5  https://open.spotify.com/track/1YqcGlCHNquxBhl...          \n",
       "3104         5  https://open.spotify.com/track/1YqcGlCHNquxBhl...          \n",
       "3115         6  https://open.spotify.com/track/1YqcGlCHNquxBhl...          \n",
       "3125         6  https://open.spotify.com/track/1YqcGlCHNquxBhl...          \n",
       "3136         7  https://open.spotify.com/track/1YqcGlCHNquxBhl...          \n",
       "\n",
       "      Streams                                                URL        Date  \\\n",
       "3094    16767  https://open.spotify.com/track/1YqcGlCHNquxBhl...  2017-11-09   \n",
       "3104    19114  https://open.spotify.com/track/1YqcGlCHNquxBhl...  2017-11-10   \n",
       "3115    21390  https://open.spotify.com/track/1YqcGlCHNquxBhl...  2017-11-11   \n",
       "3125    19644  https://open.spotify.com/track/1YqcGlCHNquxBhl...  2017-11-12   \n",
       "3136    16155  https://open.spotify.com/track/1YqcGlCHNquxBhl...  2017-11-13   \n",
       "\n",
       "     Region  \n",
       "3094     ec  \n",
       "3104     ec  \n",
       "3115     ec  \n",
       "3125     ec  \n",
       "3136     ec  "
      ]
     },
     "execution_count": 6,
     "metadata": {},
     "output_type": "execute_result"
    }
   ],
   "source": [
    "changes = data.loc[data['Track Name'] == data['URL']]\n",
    "changes.head()                                      #Mostramos ejemplos de como hemos suistituido los missing values"
   ]
  },
  {
   "cell_type": "markdown",
   "metadata": {},
   "source": [
    "#### Tenemos que elegir una región para ver como se evolucionan las canciones en esa zona. Si no nos ceñimos a una zona, somos incapaces de dar unos datos certeros y encontrar patrones que estamos intentando de descubrir. Si somos capaces de descubrir patrones de como se comportan los usuarios podríamos realizar un buen algoritmo de recomendaciones.\n",
    "\n",
    "### Seleccionamos el TOP10 Global"
   ]
  },
  {
   "cell_type": "code",
   "execution_count": 7,
   "metadata": {},
   "outputs": [
    {
     "data": {
      "text/html": [
       "<div>\n",
       "<style scoped>\n",
       "    .dataframe tbody tr th:only-of-type {\n",
       "        vertical-align: middle;\n",
       "    }\n",
       "\n",
       "    .dataframe tbody tr th {\n",
       "        vertical-align: top;\n",
       "    }\n",
       "\n",
       "    .dataframe thead th {\n",
       "        text-align: right;\n",
       "    }\n",
       "</style>\n",
       "<table border=\"1\" class=\"dataframe\">\n",
       "  <thead>\n",
       "    <tr style=\"text-align: right;\">\n",
       "      <th></th>\n",
       "      <th>Position</th>\n",
       "      <th>Track Name</th>\n",
       "      <th>Artist</th>\n",
       "      <th>Streams</th>\n",
       "      <th>URL</th>\n",
       "      <th>Date</th>\n",
       "      <th>Region</th>\n",
       "    </tr>\n",
       "  </thead>\n",
       "  <tbody>\n",
       "    <tr>\n",
       "      <th>174675</th>\n",
       "      <td>1</td>\n",
       "      <td>Starboy</td>\n",
       "      <td>The Weeknd</td>\n",
       "      <td>3135625</td>\n",
       "      <td>https://open.spotify.com/track/5aAx2yezTd8zXrk...</td>\n",
       "      <td>2017-01-01</td>\n",
       "      <td>global</td>\n",
       "    </tr>\n",
       "    <tr>\n",
       "      <th>174676</th>\n",
       "      <td>2</td>\n",
       "      <td>Closer</td>\n",
       "      <td>The Chainsmokers</td>\n",
       "      <td>3015525</td>\n",
       "      <td>https://open.spotify.com/track/7BKLCZ1jbUBVqRi...</td>\n",
       "      <td>2017-01-01</td>\n",
       "      <td>global</td>\n",
       "    </tr>\n",
       "    <tr>\n",
       "      <th>174677</th>\n",
       "      <td>3</td>\n",
       "      <td>Let Me Love You</td>\n",
       "      <td>DJ Snake</td>\n",
       "      <td>2545384</td>\n",
       "      <td>https://open.spotify.com/track/4pdPtRcBmOSQDlJ...</td>\n",
       "      <td>2017-01-01</td>\n",
       "      <td>global</td>\n",
       "    </tr>\n",
       "    <tr>\n",
       "      <th>174678</th>\n",
       "      <td>4</td>\n",
       "      <td>Rockabye (feat. Sean Paul &amp; Anne-Marie)</td>\n",
       "      <td>Clean Bandit</td>\n",
       "      <td>2356604</td>\n",
       "      <td>https://open.spotify.com/track/5knuzwU65gJK7IF...</td>\n",
       "      <td>2017-01-01</td>\n",
       "      <td>global</td>\n",
       "    </tr>\n",
       "    <tr>\n",
       "      <th>174679</th>\n",
       "      <td>5</td>\n",
       "      <td>One Dance</td>\n",
       "      <td>Drake</td>\n",
       "      <td>2259887</td>\n",
       "      <td>https://open.spotify.com/track/1xznGGDReH1oQq0...</td>\n",
       "      <td>2017-01-01</td>\n",
       "      <td>global</td>\n",
       "    </tr>\n",
       "    <tr>\n",
       "      <th>...</th>\n",
       "      <td>...</td>\n",
       "      <td>...</td>\n",
       "      <td>...</td>\n",
       "      <td>...</td>\n",
       "      <td>...</td>\n",
       "      <td>...</td>\n",
       "      <td>...</td>\n",
       "    </tr>\n",
       "    <tr>\n",
       "      <th>178360</th>\n",
       "      <td>6</td>\n",
       "      <td>Wolves</td>\n",
       "      <td>Selena Gomez</td>\n",
       "      <td>2962789</td>\n",
       "      <td>https://open.spotify.com/track/7EmGUiUaOSGDnUU...</td>\n",
       "      <td>2018-01-09</td>\n",
       "      <td>global</td>\n",
       "    </tr>\n",
       "    <tr>\n",
       "      <th>178361</th>\n",
       "      <td>7</td>\n",
       "      <td>Him &amp; I (with Halsey)</td>\n",
       "      <td>G-Eazy</td>\n",
       "      <td>2806086</td>\n",
       "      <td>https://open.spotify.com/track/5k38wzpLb15Ygnc...</td>\n",
       "      <td>2018-01-09</td>\n",
       "      <td>global</td>\n",
       "    </tr>\n",
       "    <tr>\n",
       "      <th>178362</th>\n",
       "      <td>8</td>\n",
       "      <td>Échame La Culpa</td>\n",
       "      <td>Luis Fonsi</td>\n",
       "      <td>2667301</td>\n",
       "      <td>https://open.spotify.com/track/1zsG4eaZmkA1dvj...</td>\n",
       "      <td>2018-01-09</td>\n",
       "      <td>global</td>\n",
       "    </tr>\n",
       "    <tr>\n",
       "      <th>178363</th>\n",
       "      <td>9</td>\n",
       "      <td>Let You Down</td>\n",
       "      <td>NF</td>\n",
       "      <td>2610265</td>\n",
       "      <td>https://open.spotify.com/track/6mrKP2jyIQmM0rw...</td>\n",
       "      <td>2018-01-09</td>\n",
       "      <td>global</td>\n",
       "    </tr>\n",
       "    <tr>\n",
       "      <th>178364</th>\n",
       "      <td>10</td>\n",
       "      <td>Perfect</td>\n",
       "      <td>Ed Sheeran</td>\n",
       "      <td>2575799</td>\n",
       "      <td>https://open.spotify.com/track/0tgVpDi06FyKpA1...</td>\n",
       "      <td>2018-01-09</td>\n",
       "      <td>global</td>\n",
       "    </tr>\n",
       "  </tbody>\n",
       "</table>\n",
       "<p>3690 rows × 7 columns</p>\n",
       "</div>"
      ],
      "text/plain": [
       "        Position                               Track Name            Artist  \\\n",
       "174675         1                                  Starboy        The Weeknd   \n",
       "174676         2                                   Closer  The Chainsmokers   \n",
       "174677         3                          Let Me Love You          DJ Snake   \n",
       "174678         4  Rockabye (feat. Sean Paul & Anne-Marie)      Clean Bandit   \n",
       "174679         5                                One Dance             Drake   \n",
       "...          ...                                      ...               ...   \n",
       "178360         6                                   Wolves      Selena Gomez   \n",
       "178361         7                    Him & I (with Halsey)            G-Eazy   \n",
       "178362         8                          Échame La Culpa        Luis Fonsi   \n",
       "178363         9                             Let You Down                NF   \n",
       "178364        10                                  Perfect        Ed Sheeran   \n",
       "\n",
       "        Streams                                                URL  \\\n",
       "174675  3135625  https://open.spotify.com/track/5aAx2yezTd8zXrk...   \n",
       "174676  3015525  https://open.spotify.com/track/7BKLCZ1jbUBVqRi...   \n",
       "174677  2545384  https://open.spotify.com/track/4pdPtRcBmOSQDlJ...   \n",
       "174678  2356604  https://open.spotify.com/track/5knuzwU65gJK7IF...   \n",
       "174679  2259887  https://open.spotify.com/track/1xznGGDReH1oQq0...   \n",
       "...         ...                                                ...   \n",
       "178360  2962789  https://open.spotify.com/track/7EmGUiUaOSGDnUU...   \n",
       "178361  2806086  https://open.spotify.com/track/5k38wzpLb15Ygnc...   \n",
       "178362  2667301  https://open.spotify.com/track/1zsG4eaZmkA1dvj...   \n",
       "178363  2610265  https://open.spotify.com/track/6mrKP2jyIQmM0rw...   \n",
       "178364  2575799  https://open.spotify.com/track/0tgVpDi06FyKpA1...   \n",
       "\n",
       "              Date  Region  \n",
       "174675  2017-01-01  global  \n",
       "174676  2017-01-01  global  \n",
       "174677  2017-01-01  global  \n",
       "174678  2017-01-01  global  \n",
       "174679  2017-01-01  global  \n",
       "...            ...     ...  \n",
       "178360  2018-01-09  global  \n",
       "178361  2018-01-09  global  \n",
       "178362  2018-01-09  global  \n",
       "178363  2018-01-09  global  \n",
       "178364  2018-01-09  global  \n",
       "\n",
       "[3690 rows x 7 columns]"
      ]
     },
     "execution_count": 7,
     "metadata": {},
     "output_type": "execute_result"
    }
   ],
   "source": [
    "globales = data[data['Region'] == 'global']\n",
    "globales"
   ]
  },
  {
   "cell_type": "markdown",
   "metadata": {},
   "source": [
    "### Agrupamos las transacciones por fecha en la región elegida"
   ]
  },
  {
   "cell_type": "code",
   "execution_count": 8,
   "metadata": {},
   "outputs": [
    {
     "data": {
      "text/html": [
       "<div>\n",
       "<style scoped>\n",
       "    .dataframe tbody tr th:only-of-type {\n",
       "        vertical-align: middle;\n",
       "    }\n",
       "\n",
       "    .dataframe tbody tr th {\n",
       "        vertical-align: top;\n",
       "    }\n",
       "\n",
       "    .dataframe thead th {\n",
       "        text-align: right;\n",
       "    }\n",
       "</style>\n",
       "<table border=\"1\" class=\"dataframe\">\n",
       "  <thead>\n",
       "    <tr style=\"text-align: right;\">\n",
       "      <th></th>\n",
       "      <th>Track Name</th>\n",
       "    </tr>\n",
       "    <tr>\n",
       "      <th>Date</th>\n",
       "      <th></th>\n",
       "    </tr>\n",
       "  </thead>\n",
       "  <tbody>\n",
       "    <tr>\n",
       "      <th>2017-01-01</th>\n",
       "      <td>[Starboy, Closer, Let Me Love You, Rockabye (f...</td>\n",
       "    </tr>\n",
       "    <tr>\n",
       "      <th>2017-01-02</th>\n",
       "      <td>[Starboy, Closer, Rockabye (feat. Sean Paul &amp; ...</td>\n",
       "    </tr>\n",
       "    <tr>\n",
       "      <th>2017-01-03</th>\n",
       "      <td>[Starboy, Closer, Rockabye (feat. Sean Paul &amp; ...</td>\n",
       "    </tr>\n",
       "    <tr>\n",
       "      <th>2017-01-04</th>\n",
       "      <td>[Starboy, Closer, Rockabye (feat. Sean Paul &amp; ...</td>\n",
       "    </tr>\n",
       "    <tr>\n",
       "      <th>2017-01-05</th>\n",
       "      <td>[Starboy, Closer, Rockabye (feat. Sean Paul &amp; ...</td>\n",
       "    </tr>\n",
       "    <tr>\n",
       "      <th>...</th>\n",
       "      <td>...</td>\n",
       "    </tr>\n",
       "    <tr>\n",
       "      <th>2018-01-05</th>\n",
       "      <td>[rockstar, Havana, River (feat. Ed Sheeran), N...</td>\n",
       "    </tr>\n",
       "    <tr>\n",
       "      <th>2018-01-06</th>\n",
       "      <td>[rockstar, Havana, River (feat. Ed Sheeran), N...</td>\n",
       "    </tr>\n",
       "    <tr>\n",
       "      <th>2018-01-07</th>\n",
       "      <td>[rockstar, Havana, River (feat. Ed Sheeran), N...</td>\n",
       "    </tr>\n",
       "    <tr>\n",
       "      <th>2018-01-08</th>\n",
       "      <td>[rockstar, Havana, River (feat. Ed Sheeran), N...</td>\n",
       "    </tr>\n",
       "    <tr>\n",
       "      <th>2018-01-09</th>\n",
       "      <td>[rockstar, Havana, River (feat. Ed Sheeran), F...</td>\n",
       "    </tr>\n",
       "  </tbody>\n",
       "</table>\n",
       "<p>369 rows × 1 columns</p>\n",
       "</div>"
      ],
      "text/plain": [
       "                                                   Track Name\n",
       "Date                                                         \n",
       "2017-01-01  [Starboy, Closer, Let Me Love You, Rockabye (f...\n",
       "2017-01-02  [Starboy, Closer, Rockabye (feat. Sean Paul & ...\n",
       "2017-01-03  [Starboy, Closer, Rockabye (feat. Sean Paul & ...\n",
       "2017-01-04  [Starboy, Closer, Rockabye (feat. Sean Paul & ...\n",
       "2017-01-05  [Starboy, Closer, Rockabye (feat. Sean Paul & ...\n",
       "...                                                       ...\n",
       "2018-01-05  [rockstar, Havana, River (feat. Ed Sheeran), N...\n",
       "2018-01-06  [rockstar, Havana, River (feat. Ed Sheeran), N...\n",
       "2018-01-07  [rockstar, Havana, River (feat. Ed Sheeran), N...\n",
       "2018-01-08  [rockstar, Havana, River (feat. Ed Sheeran), N...\n",
       "2018-01-09  [rockstar, Havana, River (feat. Ed Sheeran), F...\n",
       "\n",
       "[369 rows x 1 columns]"
      ]
     },
     "execution_count": 8,
     "metadata": {},
     "output_type": "execute_result"
    }
   ],
   "source": [
    "transactions = globales.groupby('Date')['Track Name'].agg(lambda x: list(x))\n",
    "pd.DataFrame(transactions)"
   ]
  },
  {
   "cell_type": "markdown",
   "metadata": {},
   "source": [
    "##  GSP - Generalized Sequential Patterns"
   ]
  },
  {
   "cell_type": "code",
   "execution_count": 9,
   "metadata": {},
   "outputs": [
    {
     "name": "stdout",
     "output_type": "stream",
     "text": [
      "[{('Shape of You',): 232, ('Despacito - Remix',): 135, ('Unforgettable',): 114, ('New Rules',): 147, ('Havana',): 129, ('rockstar',): 116}]\n"
     ]
    }
   ],
   "source": [
    "evaluation = GSP(transactions).search(0.3)\n",
    "print(evaluation)"
   ]
  },
  {
   "cell_type": "markdown",
   "metadata": {},
   "source": [
    "#### En la región global, las canciones que más fluctúan por la lista de Top 10 son, Shape of You que aparece 232 veces, seguida de Unforgettable con 147. El Top-3 lo completa Despacito - Remix con 135 veces.\n",
    "\n",
    "#### El problema de poner un soporte de 0.3 es que estamos perdiendo los datos de las transacciones que se producen juntas, es decir, sólo somos capaces de ver cómo se comportan los usuarios al escuchar las canciones de manera individual pero somos incapaces de realizar un seguimiento o una traza de cómo aparecen las canciones en nuestro set de datos, si escuchar A implica luego escuchar B y posteriormente C."
   ]
  },
  {
   "cell_type": "code",
   "execution_count": 10,
   "metadata": {},
   "outputs": [
    {
     "name": "stdout",
     "output_type": "stream",
     "text": [
      "[{('Starboy',): 44, ('Rockabye (feat. Sean Paul & Anne-Marie)',): 58, ('Closer',): 38, ('I Don’t Wanna Live Forever (Fifty Shades Darker) - From \"Fifty Shades Darker (Original Motion Picture Soundtrack)\"',): 76, (\"Say You Won't Let Go\",): 45, ('Shape of You',): 232, ('Castle on the Hill',): 68, ('Paris',): 75, ('Despacito (Featuring Daddy Yankee)',): 102, (\"It Ain't Me (with Selena Gomez)\",): 98, ('Something Just Like This',): 84, (\"That's What I Like\",): 59, ('Perfect',): 98, ('Stay (with Alessia Cara)',): 75, ('Passionfruit',): 40, ('Mask Off',): 59, ('HUMBLE.',): 80, ('Despacito - Remix',): 135, (\"I'm the One\",): 108, ('Swalla (feat. Nicki Minaj & Ty Dolla $ign)',): 40, ('Attention',): 91, ('Unforgettable',): 114, ('Strip That Down',): 59, ('Wild Thoughts',): 79, ('2U (feat. Justin Bieber)',): 75, ('Feels',): 74, ('Mi Gente',): 102, ('New Rules',): 147, ('Look What You Made Me Do',): 44, ('Havana',): 129, ('1-800-273-8255',): 56, ('Too Good At Goodbyes - Edit',): 54, ('Too Good At Goodbyes',): 45, ('Dusk Till Dawn - Radio Edit',): 73, ('Silence',): 62, ('rockstar',): 116, ('What Lovers Do (feat. SZA)',): 77, ('Wolves',): 73, ('Let You Down',): 56, ('Gucci Gang',): 49}, {('Despacito - Remix', \"I'm the One\"): 51, ('Despacito - Remix', 'Wild Thoughts'): 44, (\"I'm the One\", 'Shape of You'): 48, ('Shape of You', 'HUMBLE.'): 51, ('rockstar', 'Havana'): 72}]\n"
     ]
    }
   ],
   "source": [
    "evaluation2 = GSP(transactions).search(0.1)\n",
    "print(evaluation2)"
   ]
  },
  {
   "cell_type": "markdown",
   "metadata": {},
   "source": [
    "#### Si bajamos el soporte a 0.1 obtenemos más resultados. En este caso podemos observar como tenemos una serie de canciones que salen solas, mientras que tenemos otro conjunto de canciones que van juntas.\n",
    "\n",
    "#### En lo que a las canciones sueltas respecta, tenemos que Despacito - Ft Daddy Yankee se ha movido por el TOP 10 por sí sola 102 veces mientras que la versión de Despacito - Remix se ha movido 135 veces. También podemos mencionar que Mi Gente y New Rules se han movido 102 y 147 veces respectivamente.\n",
    "\n",
    "#### Si pasamos a analizar las transacciones que van juntas, tenemos que la transacción que más se ha dado por el ránking es la de 'Rockstar - Havana' con 72 movimientos seguida de 'Shape Of You - HUMBLE' y 'Despacito - Remix - I'm the One' con 51 veces las dos.\n",
    "\n",
    "#### Podemos sacar un patrón de que los usuarios que escuchan Rockstar escuchan Havana del mismo modo que los que escuchan Shape Of You hacen los mismo con Humble. Es curioso que escuchen a un artista como Ed Sheeran y luego pasen a una canción de un estilo bastante contrario como Humble."
   ]
  },
  {
   "cell_type": "markdown",
   "metadata": {},
   "source": [
    "## Conclusión:"
   ]
  },
  {
   "cell_type": "markdown",
   "metadata": {},
   "source": [
    "### Si hubiésemos bajado el soporte a la hora de realizar el GSP y tuviéramos más datos a lo largo del tiempo, puesto que sólo tenemos los datos del año 2017 y unos pocos de los primeros días de Enero de 2018, podríamos haber obtenido muchas mas secuencias de k-ítemsets relacionados entre sí y poder descubrir mejor los patrones de comportamiento.\n",
    "\n",
    "### Estos patrones probablemente sirvan para que Spotify te recomiende ciertas canciones que escuchar o incluso te cree listas personalizadas como 'Made For You'. Esto le permite a Spotify trazar tus gustos y de un modo u otro le permitirá mantener alta su tasa de usuarios suscritos."
   ]
  }
 ],
 "metadata": {
  "kernelspec": {
   "display_name": "Python 3",
   "language": "python",
   "name": "python3"
  },
  "language_info": {
   "codemirror_mode": {
    "name": "ipython",
    "version": 3
   },
   "file_extension": ".py",
   "mimetype": "text/x-python",
   "name": "python",
   "nbconvert_exporter": "python",
   "pygments_lexer": "ipython3",
   "version": "3.8.3"
  }
 },
 "nbformat": 4,
 "nbformat_minor": 4
}
