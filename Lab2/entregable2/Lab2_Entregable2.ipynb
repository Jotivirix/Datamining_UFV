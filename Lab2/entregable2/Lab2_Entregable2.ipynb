{
 "cells": [
  {
   "cell_type": "markdown",
   "metadata": {},
   "source": [
    "# Laboratorio 2 - Reglas de Asociación y Patrones Secuenciales\n",
    "\n",
    "## Entregable 2 - Patrones Secuenciales\n",
    "\n",
    "Práctica realizada por: Belén Ortega Pérez, José Ignacio Navas Sanz, Paula Hipola Gómez"
   ]
  },
  {
   "cell_type": "markdown",
   "metadata": {},
   "source": [
    "Importamos las librerias con las que trabajaremos."
   ]
  },
  {
   "cell_type": "code",
   "execution_count": 1,
   "metadata": {},
   "outputs": [],
   "source": [
    "import numpy as np                        #Esta libreria nos permite trabajar con numericos\n",
    "import pandas as pd                       #Pandas nos permite trabajar con datasets y csv\n",
    "import matplotlib.pyplot as plt           #Las dos librerias anteriores nos permiten pintar las funciones\n",
    "from sklearn import preprocessing         #Nos sirve para normalizar los datos\n",
    "\n",
    "from gsppy.gsp import GSP                #Librería para poder implementar Generalized Sequential Patterns\n",
    "from mlxtend.frequent_patterns import apriori #Libería relacionada con A priori"
   ]
  },
  {
   "cell_type": "markdown",
   "metadata": {},
   "source": [
    "### 1. El conjunto de datos spotify_top10.csv contiene el ranking diario de las 10 canciones más reproducidas en Spotify cada día por país. Analizando esta información se pueden extraer conclusiones sobre cómo evoluciona la popularidad de las canciones. Este estudio se puede llevar a cabo aplicando el algoritmo Generalized Sequential Patterns utilizando la implementación de éste disponible en la librería gsppy. \n",
    "#### Prueba al menos dos configuraciones de soporte diferentes. Para una de ellas, interpreta algunos de los patrones secuenciales que te resulten curiosos. "
   ]
  },
  {
   "cell_type": "markdown",
   "metadata": {},
   "source": [
    "Añadimos el dataset con el que vamos a trabajar. En este caso vamos a utilizar una colección de datos que contiene el top 10 canciones escuchadas cada día por país. "
   ]
  },
  {
   "cell_type": "code",
   "execution_count": 2,
   "metadata": {},
   "outputs": [
    {
     "data": {
      "text/html": [
       "<div>\n",
       "<style scoped>\n",
       "    .dataframe tbody tr th:only-of-type {\n",
       "        vertical-align: middle;\n",
       "    }\n",
       "\n",
       "    .dataframe tbody tr th {\n",
       "        vertical-align: top;\n",
       "    }\n",
       "\n",
       "    .dataframe thead th {\n",
       "        text-align: right;\n",
       "    }\n",
       "</style>\n",
       "<table border=\"1\" class=\"dataframe\">\n",
       "  <thead>\n",
       "    <tr style=\"text-align: right;\">\n",
       "      <th></th>\n",
       "      <th>Position</th>\n",
       "      <th>Track Name</th>\n",
       "      <th>Artist</th>\n",
       "      <th>Streams</th>\n",
       "      <th>URL</th>\n",
       "      <th>Date</th>\n",
       "      <th>Region</th>\n",
       "    </tr>\n",
       "  </thead>\n",
       "  <tbody>\n",
       "    <tr>\n",
       "      <th>0</th>\n",
       "      <td>1</td>\n",
       "      <td>Reggaetón Lento (Bailemos)</td>\n",
       "      <td>CNCO</td>\n",
       "      <td>19272</td>\n",
       "      <td>https://open.spotify.com/track/3AEZUABDXNtecAO...</td>\n",
       "      <td>2017-01-01</td>\n",
       "      <td>ec</td>\n",
       "    </tr>\n",
       "    <tr>\n",
       "      <th>1</th>\n",
       "      <td>2</td>\n",
       "      <td>Chantaje</td>\n",
       "      <td>Shakira</td>\n",
       "      <td>19270</td>\n",
       "      <td>https://open.spotify.com/track/6mICuAdrwEjh6Y6...</td>\n",
       "      <td>2017-01-01</td>\n",
       "      <td>ec</td>\n",
       "    </tr>\n",
       "    <tr>\n",
       "      <th>2</th>\n",
       "      <td>3</td>\n",
       "      <td>Otra Vez (feat. J Balvin)</td>\n",
       "      <td>Zion &amp; Lennox</td>\n",
       "      <td>15761</td>\n",
       "      <td>https://open.spotify.com/track/3QwBODjSEzelZyV...</td>\n",
       "      <td>2017-01-01</td>\n",
       "      <td>ec</td>\n",
       "    </tr>\n",
       "    <tr>\n",
       "      <th>3</th>\n",
       "      <td>4</td>\n",
       "      <td>Vente Pa' Ca</td>\n",
       "      <td>Ricky Martin</td>\n",
       "      <td>14954</td>\n",
       "      <td>https://open.spotify.com/track/7DM4BPaS7uofFul...</td>\n",
       "      <td>2017-01-01</td>\n",
       "      <td>ec</td>\n",
       "    </tr>\n",
       "    <tr>\n",
       "      <th>4</th>\n",
       "      <td>5</td>\n",
       "      <td>Safari</td>\n",
       "      <td>J Balvin</td>\n",
       "      <td>14269</td>\n",
       "      <td>https://open.spotify.com/track/6rQSrBHf7HlZjtc...</td>\n",
       "      <td>2017-01-01</td>\n",
       "      <td>ec</td>\n",
       "    </tr>\n",
       "  </tbody>\n",
       "</table>\n",
       "</div>"
      ],
      "text/plain": [
       "   Position                  Track Name         Artist  Streams  \\\n",
       "0         1  Reggaetón Lento (Bailemos)           CNCO    19272   \n",
       "1         2                    Chantaje        Shakira    19270   \n",
       "2         3   Otra Vez (feat. J Balvin)  Zion & Lennox    15761   \n",
       "3         4                Vente Pa' Ca   Ricky Martin    14954   \n",
       "4         5                      Safari       J Balvin    14269   \n",
       "\n",
       "                                                 URL        Date Region  \n",
       "0  https://open.spotify.com/track/3AEZUABDXNtecAO...  2017-01-01     ec  \n",
       "1  https://open.spotify.com/track/6mICuAdrwEjh6Y6...  2017-01-01     ec  \n",
       "2  https://open.spotify.com/track/3QwBODjSEzelZyV...  2017-01-01     ec  \n",
       "3  https://open.spotify.com/track/7DM4BPaS7uofFul...  2017-01-01     ec  \n",
       "4  https://open.spotify.com/track/6rQSrBHf7HlZjtc...  2017-01-01     ec  "
      ]
     },
     "execution_count": 2,
     "metadata": {},
     "output_type": "execute_result"
    }
   ],
   "source": [
    "data = pd.read_csv('spotify_top10.csv')\n",
    "data.head()                               #Función para ver las primeras instancias del dataset"
   ]
  },
  {
   "cell_type": "markdown",
   "metadata": {},
   "source": [
    "Lo primero que debemos llevar a cabo es una limpieza del dataset. Para ello, primero averiguaremos cuántos missing values y valores duplicados tiene. \n",
    "\n",
    "**Datos duplicados**"
   ]
  },
  {
   "cell_type": "code",
   "execution_count": 3,
   "metadata": {},
   "outputs": [
    {
     "name": "stdout",
     "output_type": "stream",
     "text": [
      "Hay 0 datos duplicados\n"
     ]
    }
   ],
   "source": [
    "duplicates_data = data.duplicated().sum()   #Cuenta el número de datos duplicados\n",
    "print('Hay',duplicates_data,'datos duplicados')\n",
    "data.drop_duplicates(inplace = True)"
   ]
  },
  {
   "cell_type": "markdown",
   "metadata": {},
   "source": [
    "**Missing values**"
   ]
  },
  {
   "cell_type": "code",
   "execution_count": 4,
   "metadata": {},
   "outputs": [
    {
     "name": "stdout",
     "output_type": "stream",
     "text": [
      "Hay 354  valores nulos\n",
      "\n",
      "Distribuido en columnas:\n",
      "Position        0\n",
      "Track Name    177\n",
      "Artist        177\n",
      "Streams         0\n",
      "URL             0\n",
      "Date            0\n",
      "Region          0\n",
      "dtype: int64\n"
     ]
    }
   ],
   "source": [
    "missing_data1 = data.isnull().sum().sum()  #Cuenta el total de missing values en el dataset\n",
    "missing_data2 = data.isnull().sum()        #Cuenta el total de missing values por atributo\n",
    "print('Hay',missing_data1,' valores nulos')\n",
    "print('\\nDistribuido en columnas:')\n",
    "print(missing_data2)"
   ]
  },
  {
   "cell_type": "code",
   "execution_count": 5,
   "metadata": {},
   "outputs": [
    {
     "name": "stdout",
     "output_type": "stream",
     "text": [
      "Position        0\n",
      "Track Name      0\n",
      "Artist        177\n",
      "Streams         0\n",
      "URL             0\n",
      "Date            0\n",
      "Region          0\n",
      "dtype: int64\n"
     ]
    }
   ],
   "source": [
    "# En los campos donde el Track Name es nulo, copiamos la URL.\n",
    "data.loc[(data[\"Track Name\"].isnull())&(data[\"URL\"].notnull()),\"Track Name\"] = data[\"URL\"]\n",
    "missing_data2 = data.isnull().sum() \n",
    "print(missing_data2)\n",
    "\n",
    "#MIRAR ESTO\n",
    "for i in data:\n",
    "    comparison = np.where(data[\"Track Name\"] == data[\"URL\"])\n",
    "    if(comparison is True):\n",
    "        print(data.loc[[i]])"
   ]
  },
  {
   "cell_type": "code",
   "execution_count": 6,
   "metadata": {},
   "outputs": [
    {
     "data": {
      "text/html": [
       "<div>\n",
       "<style scoped>\n",
       "    .dataframe tbody tr th:only-of-type {\n",
       "        vertical-align: middle;\n",
       "    }\n",
       "\n",
       "    .dataframe tbody tr th {\n",
       "        vertical-align: top;\n",
       "    }\n",
       "\n",
       "    .dataframe thead th {\n",
       "        text-align: right;\n",
       "    }\n",
       "</style>\n",
       "<table border=\"1\" class=\"dataframe\">\n",
       "  <thead>\n",
       "    <tr style=\"text-align: right;\">\n",
       "      <th></th>\n",
       "      <th>Date</th>\n",
       "      <th>Region</th>\n",
       "      <th>Track Name</th>\n",
       "    </tr>\n",
       "  </thead>\n",
       "  <tbody>\n",
       "    <tr>\n",
       "      <th>0</th>\n",
       "      <td>2017-01-01</td>\n",
       "      <td>ar</td>\n",
       "      <td>[Chantaje, Vente Pa' Ca, Reggaetón Lento (Bail...</td>\n",
       "    </tr>\n",
       "    <tr>\n",
       "      <th>1</th>\n",
       "      <td>2017-01-01</td>\n",
       "      <td>at</td>\n",
       "      <td>[Alone, Rockabye (feat. Sean Paul &amp; Anne-Marie...</td>\n",
       "    </tr>\n",
       "    <tr>\n",
       "      <th>2</th>\n",
       "      <td>2017-01-01</td>\n",
       "      <td>au</td>\n",
       "      <td>[Starboy, Rockabye (feat. Sean Paul &amp; Anne-Mar...</td>\n",
       "    </tr>\n",
       "    <tr>\n",
       "      <th>3</th>\n",
       "      <td>2017-01-01</td>\n",
       "      <td>be</td>\n",
       "      <td>[Hey Baby, Closer, Starboy, Rockabye (feat. Se...</td>\n",
       "    </tr>\n",
       "    <tr>\n",
       "      <th>4</th>\n",
       "      <td>2017-01-01</td>\n",
       "      <td>bo</td>\n",
       "      <td>[Reggaetón Lento (Bailemos), Otra Vez (feat. J...</td>\n",
       "    </tr>\n",
       "    <tr>\n",
       "      <th>...</th>\n",
       "      <td>...</td>\n",
       "      <td>...</td>\n",
       "      <td>...</td>\n",
       "    </tr>\n",
       "    <tr>\n",
       "      <th>19670</th>\n",
       "      <td>2018-01-09</td>\n",
       "      <td>sv</td>\n",
       "      <td>[Déjala Que Vuelva (feat. Manuel Turizo), Sens...</td>\n",
       "    </tr>\n",
       "    <tr>\n",
       "      <th>19671</th>\n",
       "      <td>2018-01-09</td>\n",
       "      <td>tr</td>\n",
       "      <td>[Yanıyoruz, Heyecanı Yok, Gömün Beni Çukura, r...</td>\n",
       "    </tr>\n",
       "    <tr>\n",
       "      <th>19672</th>\n",
       "      <td>2018-01-09</td>\n",
       "      <td>tw</td>\n",
       "      <td>[Wolves, 連名帶姓, So Far Away, 身後, 偷故事的人, Havana,...</td>\n",
       "    </tr>\n",
       "    <tr>\n",
       "      <th>19673</th>\n",
       "      <td>2018-01-09</td>\n",
       "      <td>us</td>\n",
       "      <td>[rockstar, Finesse (Remix) [feat. Cardi B], No...</td>\n",
       "    </tr>\n",
       "    <tr>\n",
       "      <th>19674</th>\n",
       "      <td>2018-01-09</td>\n",
       "      <td>uy</td>\n",
       "      <td>[Échame La Culpa, Corazón, Criminal, Déjala Qu...</td>\n",
       "    </tr>\n",
       "  </tbody>\n",
       "</table>\n",
       "<p>19675 rows × 3 columns</p>\n",
       "</div>"
      ],
      "text/plain": [
       "             Date Region                                         Track Name\n",
       "0      2017-01-01     ar  [Chantaje, Vente Pa' Ca, Reggaetón Lento (Bail...\n",
       "1      2017-01-01     at  [Alone, Rockabye (feat. Sean Paul & Anne-Marie...\n",
       "2      2017-01-01     au  [Starboy, Rockabye (feat. Sean Paul & Anne-Mar...\n",
       "3      2017-01-01     be  [Hey Baby, Closer, Starboy, Rockabye (feat. Se...\n",
       "4      2017-01-01     bo  [Reggaetón Lento (Bailemos), Otra Vez (feat. J...\n",
       "...           ...    ...                                                ...\n",
       "19670  2018-01-09     sv  [Déjala Que Vuelva (feat. Manuel Turizo), Sens...\n",
       "19671  2018-01-09     tr  [Yanıyoruz, Heyecanı Yok, Gömün Beni Çukura, r...\n",
       "19672  2018-01-09     tw  [Wolves, 連名帶姓, So Far Away, 身後, 偷故事的人, Havana,...\n",
       "19673  2018-01-09     us  [rockstar, Finesse (Remix) [feat. Cardi B], No...\n",
       "19674  2018-01-09     uy  [Échame La Culpa, Corazón, Criminal, Déjala Qu...\n",
       "\n",
       "[19675 rows x 3 columns]"
      ]
     },
     "execution_count": 6,
     "metadata": {},
     "output_type": "execute_result"
    }
   ],
   "source": [
    "transactions = data.groupby(['Date','Region'],as_index=False)['Track Name'].agg(lambda x: list(x))\n",
    "transactions"
   ]
  },
  {
   "cell_type": "code",
   "execution_count": 7,
   "metadata": {},
   "outputs": [
    {
     "data": {
      "text/plain": [
       "0        [Chantaje, Vente Pa' Ca, Reggaetón Lento (Bail...\n",
       "1        [Alone, Rockabye (feat. Sean Paul & Anne-Marie...\n",
       "2        [Starboy, Rockabye (feat. Sean Paul & Anne-Mar...\n",
       "3        [Hey Baby, Closer, Starboy, Rockabye (feat. Se...\n",
       "4        [Reggaetón Lento (Bailemos), Otra Vez (feat. J...\n",
       "                               ...                        \n",
       "19670    [Déjala Que Vuelva (feat. Manuel Turizo), Sens...\n",
       "19671    [Yanıyoruz, Heyecanı Yok, Gömün Beni Çukura, r...\n",
       "19672    [Wolves, 連名帶姓, So Far Away, 身後, 偷故事的人, Havana,...\n",
       "19673    [rockstar, Finesse (Remix) [feat. Cardi B], No...\n",
       "19674    [Échame La Culpa, Corazón, Criminal, Déjala Qu...\n",
       "Name: Track Name, Length: 19675, dtype: object"
      ]
     },
     "execution_count": 7,
     "metadata": {},
     "output_type": "execute_result"
    }
   ],
   "source": [
    "transactions_track = transactions['Track Name']\n",
    "transactions_track"
   ]
  },
  {
   "cell_type": "code",
   "execution_count": null,
   "metadata": {},
   "outputs": [],
   "source": [
    "result = GSP(transactions_track).search(0.05)\n",
    "result"
   ]
  },
  {
   "cell_type": "code",
   "execution_count": 12,
   "metadata": {},
   "outputs": [],
   "source": [
    "# Comentar todo"
   ]
  }
 ],
 "metadata": {
  "kernelspec": {
   "display_name": "Python 3",
   "language": "python",
   "name": "python3"
  },
  "language_info": {
   "codemirror_mode": {
    "name": "ipython",
    "version": 3
   },
   "file_extension": ".py",
   "mimetype": "text/x-python",
   "name": "python",
   "nbconvert_exporter": "python",
   "pygments_lexer": "ipython3",
   "version": "3.8.3"
  }
 },
 "nbformat": 4,
 "nbformat_minor": 4
}
