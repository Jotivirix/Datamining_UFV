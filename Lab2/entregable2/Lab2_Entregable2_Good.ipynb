{
 "cells": [
  {
   "cell_type": "markdown",
   "metadata": {},
   "source": [
    "# Laboratorio 2 - Reglas de Asociación y Patrones Secuenciales\n",
    "\n",
    "## Entregable 2 - Patrones Secuenciales\n",
    "\n",
    "Práctica realizada por: Belén Ortega Pérez, José Ignacio Navas Sanz, Paula Hipola Gómez"
   ]
  },
  {
   "cell_type": "markdown",
   "metadata": {},
   "source": [
    "Importamos las librerias con las que trabajaremos."
   ]
  },
  {
   "cell_type": "code",
   "execution_count": 1,
   "metadata": {},
   "outputs": [],
   "source": [
    "import numpy as np                        #Esta libreria nos permite trabajar con numericos\n",
    "import pandas as pd                       #Pandas nos permite trabajar con datasets y csv\n",
    "import matplotlib.pyplot as plt           #Las dos librerias anteriores nos permiten pintar las funciones\n",
    "from sklearn import preprocessing         #Nos sirve para normalizar los datos\n",
    "\n",
    "from gsppy.gsp import GSP                     #Librería para poder implementar Generalized Sequential Patterns\n",
    "from mlxtend.frequent_patterns import apriori #Libería relacionada con A priori"
   ]
  },
  {
   "cell_type": "markdown",
   "metadata": {},
   "source": [
    "### 1. El conjunto de datos spotify_top10.csv contiene el ranking diario de las 10 canciones más reproducidas en Spotify cada día por país. Analizando esta información se pueden extraer conclusiones sobre cómo evoluciona la popularidad de las canciones. Este estudio se puede llevar a cabo aplicando el algoritmo Generalized Sequential Patterns utilizando la implementación de éste disponible en la librería gsppy. \n",
    "#### Prueba al menos dos configuraciones de soporte diferentes. Para una de ellas, interpreta algunos de los patrones secuenciales que te resulten curiosos. "
   ]
  },
  {
   "cell_type": "markdown",
   "metadata": {},
   "source": [
    "Añadimos el dataset con el que vamos a trabajar. En este caso vamos a utilizar una colección de datos que contiene el top 10 canciones escuchadas cada día por país. "
   ]
  },
  {
   "cell_type": "code",
   "execution_count": 2,
   "metadata": {},
   "outputs": [
    {
     "data": {
      "text/html": [
       "<div>\n",
       "<style scoped>\n",
       "    .dataframe tbody tr th:only-of-type {\n",
       "        vertical-align: middle;\n",
       "    }\n",
       "\n",
       "    .dataframe tbody tr th {\n",
       "        vertical-align: top;\n",
       "    }\n",
       "\n",
       "    .dataframe thead th {\n",
       "        text-align: right;\n",
       "    }\n",
       "</style>\n",
       "<table border=\"1\" class=\"dataframe\">\n",
       "  <thead>\n",
       "    <tr style=\"text-align: right;\">\n",
       "      <th></th>\n",
       "      <th>Position</th>\n",
       "      <th>Track Name</th>\n",
       "      <th>Artist</th>\n",
       "      <th>Streams</th>\n",
       "      <th>URL</th>\n",
       "      <th>Date</th>\n",
       "      <th>Region</th>\n",
       "    </tr>\n",
       "  </thead>\n",
       "  <tbody>\n",
       "    <tr>\n",
       "      <th>0</th>\n",
       "      <td>1</td>\n",
       "      <td>Reggaetón Lento (Bailemos)</td>\n",
       "      <td>CNCO</td>\n",
       "      <td>19272</td>\n",
       "      <td>https://open.spotify.com/track/3AEZUABDXNtecAO...</td>\n",
       "      <td>2017-01-01</td>\n",
       "      <td>ec</td>\n",
       "    </tr>\n",
       "    <tr>\n",
       "      <th>1</th>\n",
       "      <td>2</td>\n",
       "      <td>Chantaje</td>\n",
       "      <td>Shakira</td>\n",
       "      <td>19270</td>\n",
       "      <td>https://open.spotify.com/track/6mICuAdrwEjh6Y6...</td>\n",
       "      <td>2017-01-01</td>\n",
       "      <td>ec</td>\n",
       "    </tr>\n",
       "    <tr>\n",
       "      <th>2</th>\n",
       "      <td>3</td>\n",
       "      <td>Otra Vez (feat. J Balvin)</td>\n",
       "      <td>Zion &amp; Lennox</td>\n",
       "      <td>15761</td>\n",
       "      <td>https://open.spotify.com/track/3QwBODjSEzelZyV...</td>\n",
       "      <td>2017-01-01</td>\n",
       "      <td>ec</td>\n",
       "    </tr>\n",
       "    <tr>\n",
       "      <th>3</th>\n",
       "      <td>4</td>\n",
       "      <td>Vente Pa' Ca</td>\n",
       "      <td>Ricky Martin</td>\n",
       "      <td>14954</td>\n",
       "      <td>https://open.spotify.com/track/7DM4BPaS7uofFul...</td>\n",
       "      <td>2017-01-01</td>\n",
       "      <td>ec</td>\n",
       "    </tr>\n",
       "    <tr>\n",
       "      <th>4</th>\n",
       "      <td>5</td>\n",
       "      <td>Safari</td>\n",
       "      <td>J Balvin</td>\n",
       "      <td>14269</td>\n",
       "      <td>https://open.spotify.com/track/6rQSrBHf7HlZjtc...</td>\n",
       "      <td>2017-01-01</td>\n",
       "      <td>ec</td>\n",
       "    </tr>\n",
       "  </tbody>\n",
       "</table>\n",
       "</div>"
      ],
      "text/plain": [
       "   Position                  Track Name         Artist  Streams  \\\n",
       "0         1  Reggaetón Lento (Bailemos)           CNCO    19272   \n",
       "1         2                    Chantaje        Shakira    19270   \n",
       "2         3   Otra Vez (feat. J Balvin)  Zion & Lennox    15761   \n",
       "3         4                Vente Pa' Ca   Ricky Martin    14954   \n",
       "4         5                      Safari       J Balvin    14269   \n",
       "\n",
       "                                                 URL        Date Region  \n",
       "0  https://open.spotify.com/track/3AEZUABDXNtecAO...  2017-01-01     ec  \n",
       "1  https://open.spotify.com/track/6mICuAdrwEjh6Y6...  2017-01-01     ec  \n",
       "2  https://open.spotify.com/track/3QwBODjSEzelZyV...  2017-01-01     ec  \n",
       "3  https://open.spotify.com/track/7DM4BPaS7uofFul...  2017-01-01     ec  \n",
       "4  https://open.spotify.com/track/6rQSrBHf7HlZjtc...  2017-01-01     ec  "
      ]
     },
     "execution_count": 2,
     "metadata": {},
     "output_type": "execute_result"
    }
   ],
   "source": [
    "data = pd.read_csv('spotify_top10.csv')\n",
    "data.head()                               #Función para ver las primeras instancias del dataset"
   ]
  },
  {
   "cell_type": "markdown",
   "metadata": {},
   "source": [
    "Lo primero que debemos llevar a cabo es una limpieza del dataset. Para ello, primero averiguaremos con cuántos missing values y valores duplicados cuenta. \n",
    "\n",
    "**Datos duplicados**"
   ]
  },
  {
   "cell_type": "code",
   "execution_count": 3,
   "metadata": {},
   "outputs": [
    {
     "name": "stdout",
     "output_type": "stream",
     "text": [
      "Hay 0 datos duplicados\n"
     ]
    }
   ],
   "source": [
    "duplicates_data = data.duplicated().sum()   #Cuenta el número de datos duplicados\n",
    "print('Hay',duplicates_data,'datos duplicados')\n",
    "data.drop_duplicates(inplace = True)        #Eliminamos los datos duplicados"
   ]
  },
  {
   "cell_type": "markdown",
   "metadata": {},
   "source": [
    "**Missing values**"
   ]
  },
  {
   "cell_type": "code",
   "execution_count": 4,
   "metadata": {},
   "outputs": [
    {
     "name": "stdout",
     "output_type": "stream",
     "text": [
      "Hay 354  valores nulos\n",
      "\n",
      "Distribuido en columnas:\n",
      "Position        0\n",
      "Track Name    177\n",
      "Artist        177\n",
      "Streams         0\n",
      "URL             0\n",
      "Date            0\n",
      "Region          0\n",
      "dtype: int64\n"
     ]
    }
   ],
   "source": [
    "missing_data1 = data.isnull().sum().sum()  #Cuenta el total de missing values en el dataset\n",
    "missing_data2 = data.isnull().sum()        #Cuenta el total de missing values por atributo\n",
    "print('Hay',missing_data1,' valores nulos')\n",
    "print('\\nDistribuido en columnas:')\n",
    "print(missing_data2)"
   ]
  },
  {
   "cell_type": "markdown",
   "metadata": {},
   "source": [
    "Contamos con registros en los que el _Track Name_ y el _Artist_ son nulos. A pesar de tener estos valores vacíos, siempre tenemos una URL que nos lleva a una canción de Spotify. \n",
    "\n",
    "Hemos decidido copiar la URL de los registros con campos vacíos porque si aparecen en este conjunto de datos es porque en algún momento estubieron en la plataforma. Puede ser que hayan decidido dejar de compartir su contenido a Spotify y es por esto que no aparecen estos datos. "
   ]
  },
  {
   "cell_type": "code",
   "execution_count": 5,
   "metadata": {},
   "outputs": [
    {
     "name": "stdout",
     "output_type": "stream",
     "text": [
      "Position      0\n",
      "Track Name    0\n",
      "Artist        0\n",
      "Streams       0\n",
      "URL           0\n",
      "Date          0\n",
      "Region        0\n",
      "dtype: int64\n"
     ]
    }
   ],
   "source": [
    "#En los campos donde el Track Name es nulo, copiamos la URL.\n",
    "data.loc[(data[\"Track Name\"].isnull())&(data[\"URL\"].notnull()),\"Track Name\"] = data[\"URL\"]\n",
    "data = data.replace(np.nan, '', regex=True)\n",
    "#Volvemos a mostrar los datos nulos por atributo para demostrar que no quedan valores nulos en el nombre de la canción\n",
    "missing_data2 = data.isnull().sum()\n",
    "print(missing_data2)"
   ]
  },
  {
   "cell_type": "code",
   "execution_count": 11,
   "metadata": {},
   "outputs": [
    {
     "data": {
      "text/html": [
       "<div>\n",
       "<style scoped>\n",
       "    .dataframe tbody tr th:only-of-type {\n",
       "        vertical-align: middle;\n",
       "    }\n",
       "\n",
       "    .dataframe tbody tr th {\n",
       "        vertical-align: top;\n",
       "    }\n",
       "\n",
       "    .dataframe thead th {\n",
       "        text-align: right;\n",
       "    }\n",
       "</style>\n",
       "<table border=\"1\" class=\"dataframe\">\n",
       "  <thead>\n",
       "    <tr style=\"text-align: right;\">\n",
       "      <th></th>\n",
       "      <th>Position</th>\n",
       "      <th>Track Name</th>\n",
       "      <th>Artist</th>\n",
       "      <th>Streams</th>\n",
       "      <th>URL</th>\n",
       "      <th>Date</th>\n",
       "      <th>Region</th>\n",
       "    </tr>\n",
       "  </thead>\n",
       "  <tbody>\n",
       "    <tr>\n",
       "      <th>3094</th>\n",
       "      <td>5</td>\n",
       "      <td>https://open.spotify.com/track/1YqcGlCHNquxBhl...</td>\n",
       "      <td></td>\n",
       "      <td>16767</td>\n",
       "      <td>https://open.spotify.com/track/1YqcGlCHNquxBhl...</td>\n",
       "      <td>2017-11-09</td>\n",
       "      <td>ec</td>\n",
       "    </tr>\n",
       "    <tr>\n",
       "      <th>3104</th>\n",
       "      <td>5</td>\n",
       "      <td>https://open.spotify.com/track/1YqcGlCHNquxBhl...</td>\n",
       "      <td></td>\n",
       "      <td>19114</td>\n",
       "      <td>https://open.spotify.com/track/1YqcGlCHNquxBhl...</td>\n",
       "      <td>2017-11-10</td>\n",
       "      <td>ec</td>\n",
       "    </tr>\n",
       "    <tr>\n",
       "      <th>3115</th>\n",
       "      <td>6</td>\n",
       "      <td>https://open.spotify.com/track/1YqcGlCHNquxBhl...</td>\n",
       "      <td></td>\n",
       "      <td>21390</td>\n",
       "      <td>https://open.spotify.com/track/1YqcGlCHNquxBhl...</td>\n",
       "      <td>2017-11-11</td>\n",
       "      <td>ec</td>\n",
       "    </tr>\n",
       "    <tr>\n",
       "      <th>3125</th>\n",
       "      <td>6</td>\n",
       "      <td>https://open.spotify.com/track/1YqcGlCHNquxBhl...</td>\n",
       "      <td></td>\n",
       "      <td>19644</td>\n",
       "      <td>https://open.spotify.com/track/1YqcGlCHNquxBhl...</td>\n",
       "      <td>2017-11-12</td>\n",
       "      <td>ec</td>\n",
       "    </tr>\n",
       "    <tr>\n",
       "      <th>3136</th>\n",
       "      <td>7</td>\n",
       "      <td>https://open.spotify.com/track/1YqcGlCHNquxBhl...</td>\n",
       "      <td></td>\n",
       "      <td>16155</td>\n",
       "      <td>https://open.spotify.com/track/1YqcGlCHNquxBhl...</td>\n",
       "      <td>2017-11-13</td>\n",
       "      <td>ec</td>\n",
       "    </tr>\n",
       "  </tbody>\n",
       "</table>\n",
       "</div>"
      ],
      "text/plain": [
       "      Position                                         Track Name Artist  \\\n",
       "3094         5  https://open.spotify.com/track/1YqcGlCHNquxBhl...          \n",
       "3104         5  https://open.spotify.com/track/1YqcGlCHNquxBhl...          \n",
       "3115         6  https://open.spotify.com/track/1YqcGlCHNquxBhl...          \n",
       "3125         6  https://open.spotify.com/track/1YqcGlCHNquxBhl...          \n",
       "3136         7  https://open.spotify.com/track/1YqcGlCHNquxBhl...          \n",
       "\n",
       "      Streams                                                URL        Date  \\\n",
       "3094    16767  https://open.spotify.com/track/1YqcGlCHNquxBhl...  2017-11-09   \n",
       "3104    19114  https://open.spotify.com/track/1YqcGlCHNquxBhl...  2017-11-10   \n",
       "3115    21390  https://open.spotify.com/track/1YqcGlCHNquxBhl...  2017-11-11   \n",
       "3125    19644  https://open.spotify.com/track/1YqcGlCHNquxBhl...  2017-11-12   \n",
       "3136    16155  https://open.spotify.com/track/1YqcGlCHNquxBhl...  2017-11-13   \n",
       "\n",
       "     Region  \n",
       "3094     ec  \n",
       "3104     ec  \n",
       "3115     ec  \n",
       "3125     ec  \n",
       "3136     ec  "
      ]
     },
     "execution_count": 11,
     "metadata": {},
     "output_type": "execute_result"
    }
   ],
   "source": [
    "changes = data.loc[data['Track Name'] == data['URL']]\n",
    "changes.head()                                      #Mostramos ejemplos de como hemos suistituido los missing values"
   ]
  },
  {
   "cell_type": "markdown",
   "metadata": {},
   "source": [
    "En nuestra muestra de datos es muy importante la posición de "
   ]
  },
  {
   "cell_type": "code",
   "execution_count": 7,
   "metadata": {
    "scrolled": false
   },
   "outputs": [
    {
     "data": {
      "text/html": [
       "<div>\n",
       "<style scoped>\n",
       "    .dataframe tbody tr th:only-of-type {\n",
       "        vertical-align: middle;\n",
       "    }\n",
       "\n",
       "    .dataframe tbody tr th {\n",
       "        vertical-align: top;\n",
       "    }\n",
       "\n",
       "    .dataframe thead th {\n",
       "        text-align: right;\n",
       "    }\n",
       "</style>\n",
       "<table border=\"1\" class=\"dataframe\">\n",
       "  <thead>\n",
       "    <tr style=\"text-align: right;\">\n",
       "      <th></th>\n",
       "      <th>Date</th>\n",
       "      <th>Region</th>\n",
       "      <th>Track Name</th>\n",
       "    </tr>\n",
       "  </thead>\n",
       "  <tbody>\n",
       "    <tr>\n",
       "      <th>0</th>\n",
       "      <td>2017-01-01</td>\n",
       "      <td>ar</td>\n",
       "      <td>[Chantaje, Vente Pa' Ca, Reggaetón Lento (Bail...</td>\n",
       "    </tr>\n",
       "    <tr>\n",
       "      <th>1</th>\n",
       "      <td>2017-01-01</td>\n",
       "      <td>at</td>\n",
       "      <td>[Alone, Rockabye (feat. Sean Paul &amp; Anne-Marie...</td>\n",
       "    </tr>\n",
       "    <tr>\n",
       "      <th>2</th>\n",
       "      <td>2017-01-01</td>\n",
       "      <td>au</td>\n",
       "      <td>[Starboy, Rockabye (feat. Sean Paul &amp; Anne-Mar...</td>\n",
       "    </tr>\n",
       "    <tr>\n",
       "      <th>3</th>\n",
       "      <td>2017-01-01</td>\n",
       "      <td>be</td>\n",
       "      <td>[Hey Baby, Closer, Starboy, Rockabye (feat. Se...</td>\n",
       "    </tr>\n",
       "    <tr>\n",
       "      <th>4</th>\n",
       "      <td>2017-01-01</td>\n",
       "      <td>bo</td>\n",
       "      <td>[Reggaetón Lento (Bailemos), Otra Vez (feat. J...</td>\n",
       "    </tr>\n",
       "    <tr>\n",
       "      <th>...</th>\n",
       "      <td>...</td>\n",
       "      <td>...</td>\n",
       "      <td>...</td>\n",
       "    </tr>\n",
       "    <tr>\n",
       "      <th>19670</th>\n",
       "      <td>2018-01-09</td>\n",
       "      <td>sv</td>\n",
       "      <td>[Déjala Que Vuelva (feat. Manuel Turizo), Sens...</td>\n",
       "    </tr>\n",
       "    <tr>\n",
       "      <th>19671</th>\n",
       "      <td>2018-01-09</td>\n",
       "      <td>tr</td>\n",
       "      <td>[Yanıyoruz, Heyecanı Yok, Gömün Beni Çukura, r...</td>\n",
       "    </tr>\n",
       "    <tr>\n",
       "      <th>19672</th>\n",
       "      <td>2018-01-09</td>\n",
       "      <td>tw</td>\n",
       "      <td>[Wolves, 連名帶姓, So Far Away, 身後, 偷故事的人, Havana,...</td>\n",
       "    </tr>\n",
       "    <tr>\n",
       "      <th>19673</th>\n",
       "      <td>2018-01-09</td>\n",
       "      <td>us</td>\n",
       "      <td>[rockstar, Finesse (Remix) [feat. Cardi B], No...</td>\n",
       "    </tr>\n",
       "    <tr>\n",
       "      <th>19674</th>\n",
       "      <td>2018-01-09</td>\n",
       "      <td>uy</td>\n",
       "      <td>[Échame La Culpa, Corazón, Criminal, Déjala Qu...</td>\n",
       "    </tr>\n",
       "  </tbody>\n",
       "</table>\n",
       "<p>19675 rows × 3 columns</p>\n",
       "</div>"
      ],
      "text/plain": [
       "             Date Region                                         Track Name\n",
       "0      2017-01-01     ar  [Chantaje, Vente Pa' Ca, Reggaetón Lento (Bail...\n",
       "1      2017-01-01     at  [Alone, Rockabye (feat. Sean Paul & Anne-Marie...\n",
       "2      2017-01-01     au  [Starboy, Rockabye (feat. Sean Paul & Anne-Mar...\n",
       "3      2017-01-01     be  [Hey Baby, Closer, Starboy, Rockabye (feat. Se...\n",
       "4      2017-01-01     bo  [Reggaetón Lento (Bailemos), Otra Vez (feat. J...\n",
       "...           ...    ...                                                ...\n",
       "19670  2018-01-09     sv  [Déjala Que Vuelva (feat. Manuel Turizo), Sens...\n",
       "19671  2018-01-09     tr  [Yanıyoruz, Heyecanı Yok, Gömün Beni Çukura, r...\n",
       "19672  2018-01-09     tw  [Wolves, 連名帶姓, So Far Away, 身後, 偷故事的人, Havana,...\n",
       "19673  2018-01-09     us  [rockstar, Finesse (Remix) [feat. Cardi B], No...\n",
       "19674  2018-01-09     uy  [Échame La Culpa, Corazón, Criminal, Déjala Qu...\n",
       "\n",
       "[19675 rows x 3 columns]"
      ]
     },
     "execution_count": 7,
     "metadata": {},
     "output_type": "execute_result"
    }
   ],
   "source": [
    "transactions = data.groupby(['Date','Region'],as_index=False)['Track Name'].agg(lambda x: list(x))\n",
    "transactions"
   ]
  },
  {
   "cell_type": "code",
   "execution_count": 8,
   "metadata": {},
   "outputs": [
    {
     "data": {
      "text/plain": [
       "0        [Chantaje, Vente Pa' Ca, Reggaetón Lento (Bail...\n",
       "1        [Alone, Rockabye (feat. Sean Paul & Anne-Marie...\n",
       "2        [Starboy, Rockabye (feat. Sean Paul & Anne-Mar...\n",
       "3        [Hey Baby, Closer, Starboy, Rockabye (feat. Se...\n",
       "4        [Reggaetón Lento (Bailemos), Otra Vez (feat. J...\n",
       "                               ...                        \n",
       "19670    [Déjala Que Vuelva (feat. Manuel Turizo), Sens...\n",
       "19671    [Yanıyoruz, Heyecanı Yok, Gömün Beni Çukura, r...\n",
       "19672    [Wolves, 連名帶姓, So Far Away, 身後, 偷故事的人, Havana,...\n",
       "19673    [rockstar, Finesse (Remix) [feat. Cardi B], No...\n",
       "19674    [Échame La Culpa, Corazón, Criminal, Déjala Qu...\n",
       "Name: Track Name, Length: 19675, dtype: object"
      ]
     },
     "execution_count": 8,
     "metadata": {},
     "output_type": "execute_result"
    }
   ],
   "source": [
    "transactions_track = transactions['Track Name']\n",
    "transactions_track"
   ]
  },
  {
   "cell_type": "code",
   "execution_count": 9,
   "metadata": {},
   "outputs": [
    {
     "data": {
      "text/plain": [
       "[{('Shape of You',): 10301}]"
      ]
     },
     "execution_count": 9,
     "metadata": {},
     "output_type": "execute_result"
    }
   ],
   "source": [
    "evaluation = GSP(transactions_track).search(0.3)\n",
    "evaluation"
   ]
  },
  {
   "cell_type": "code",
   "execution_count": 10,
   "metadata": {},
   "outputs": [
    {
     "data": {
      "text/plain": [
       "[{('I Don’t Wanna Live Forever (Fifty Shades Darker) - From \"Fifty Shades Darker (Original Motion Picture Soundtrack)\"',): 2960,\n",
       "  ('Me Rehúso',): 4683,\n",
       "  ('Shape of You',): 10301,\n",
       "  ('Castle on the Hill',): 2154,\n",
       "  ('Paris',): 2589,\n",
       "  ('Despacito (Featuring Daddy Yankee)',): 3440,\n",
       "  ('El Amante',): 2184,\n",
       "  (\"It Ain't Me (with Selena Gomez)\",): 3205,\n",
       "  ('Something Just Like This',): 3342,\n",
       "  ('Symphony (feat. Zara Larsson)',): 2007,\n",
       "  ('Ahora Dice',): 2156,\n",
       "  ('Escápate Conmigo',): 2657,\n",
       "  ('Despacito - Remix',): 5211,\n",
       "  ('Felices los 4',): 2436,\n",
       "  ('Unforgettable',): 2162,\n",
       "  (\"I'm the One\",): 2905,\n",
       "  ('Mama',): 2079,\n",
       "  ('2U (feat. Justin Bieber)',): 2345,\n",
       "  ('Mi Gente',): 3407,\n",
       "  ('New Rules',): 3749,\n",
       "  ('Havana',): 3641,\n",
       "  ('Dusk Till Dawn - Radio Edit',): 2199,\n",
       "  ('rockstar',): 3184}]"
      ]
     },
     "execution_count": 10,
     "metadata": {},
     "output_type": "execute_result"
    }
   ],
   "source": [
    "evaluation2 = GSP(transactions_track).search(0.1)\n",
    "evaluation2"
   ]
  }
 ],
 "metadata": {
  "kernelspec": {
   "display_name": "Python 3",
   "language": "python",
   "name": "python3"
  },
  "language_info": {
   "codemirror_mode": {
    "name": "ipython",
    "version": 3
   },
   "file_extension": ".py",
   "mimetype": "text/x-python",
   "name": "python",
   "nbconvert_exporter": "python",
   "pygments_lexer": "ipython3",
   "version": "3.8.3"
  }
 },
 "nbformat": 4,
 "nbformat_minor": 4
}
