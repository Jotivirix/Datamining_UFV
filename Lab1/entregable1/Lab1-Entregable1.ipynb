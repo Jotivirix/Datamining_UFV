{
 "cells": [
  {
   "cell_type": "markdown",
   "metadata": {},
   "source": [
    "# Laboratorio 1 - Preparación y Visualización de Datos\n",
    "\n",
    "## Grupo 1 - José Ignacio Navas Sanz, Belén Ortega Pérez y Paula Hípola Gómez\n",
    "\n",
    "## Entregable 1 - Limpieza de datos\n",
    "\n",
    "### 1.1- (1 punto) Descripción y limpieza de los datos.\n",
    "#### Carga los datos en un DataFrame. Detecta y elimina los registros redundantes o con missing values. Recuerda que los missing values están marcados con el carácter ‘?’. ¿Cuántos registros has eliminado de cada tipo? ¿Qué campos tienen registros con ‘missing values’? Presenta un gráfico que muestre el número de missing values por atributo.\n"
   ]
  },
  {
   "cell_type": "code",
   "execution_count": 2,
   "metadata": {},
   "outputs": [],
   "source": [
    "#Importamos las librerias necesarias\n",
    "#Numpy\n",
    "import numpy as np \n",
    "#Pandas\n",
    "import pandas as pd"
   ]
  },
  {
   "cell_type": "code",
   "execution_count": 3,
   "metadata": {
    "scrolled": true
   },
   "outputs": [
    {
     "data": {
      "text/html": [
       "<div>\n",
       "<style scoped>\n",
       "    .dataframe tbody tr th:only-of-type {\n",
       "        vertical-align: middle;\n",
       "    }\n",
       "\n",
       "    .dataframe tbody tr th {\n",
       "        vertical-align: top;\n",
       "    }\n",
       "\n",
       "    .dataframe thead th {\n",
       "        text-align: right;\n",
       "    }\n",
       "</style>\n",
       "<table border=\"1\" class=\"dataframe\">\n",
       "  <thead>\n",
       "    <tr style=\"text-align: right;\">\n",
       "      <th></th>\n",
       "      <th>class</th>\n",
       "      <th>age</th>\n",
       "      <th>sex</th>\n",
       "      <th>steroid</th>\n",
       "      <th>antivirals</th>\n",
       "      <th>fatigue</th>\n",
       "      <th>malaise</th>\n",
       "      <th>anorexia</th>\n",
       "      <th>liver_big</th>\n",
       "      <th>liver_firm</th>\n",
       "      <th>spleen_palable</th>\n",
       "      <th>spiders</th>\n",
       "      <th>ascites</th>\n",
       "      <th>varices</th>\n",
       "      <th>bilirubin</th>\n",
       "      <th>alk_phosphate</th>\n",
       "      <th>sgot</th>\n",
       "      <th>albumin</th>\n",
       "      <th>protime</th>\n",
       "      <th>histology</th>\n",
       "    </tr>\n",
       "  </thead>\n",
       "  <tbody>\n",
       "    <tr>\n",
       "      <th>0</th>\n",
       "      <td>2</td>\n",
       "      <td>30</td>\n",
       "      <td>2</td>\n",
       "      <td>1</td>\n",
       "      <td>2</td>\n",
       "      <td>2</td>\n",
       "      <td>2</td>\n",
       "      <td>2</td>\n",
       "      <td>1</td>\n",
       "      <td>2</td>\n",
       "      <td>2</td>\n",
       "      <td>2</td>\n",
       "      <td>2</td>\n",
       "      <td>2</td>\n",
       "      <td>1.00</td>\n",
       "      <td>85</td>\n",
       "      <td>18</td>\n",
       "      <td>4.0</td>\n",
       "      <td>?</td>\n",
       "      <td>1</td>\n",
       "    </tr>\n",
       "    <tr>\n",
       "      <th>1</th>\n",
       "      <td>2</td>\n",
       "      <td>50</td>\n",
       "      <td>1</td>\n",
       "      <td>1</td>\n",
       "      <td>2</td>\n",
       "      <td>1</td>\n",
       "      <td>2</td>\n",
       "      <td>2</td>\n",
       "      <td>1</td>\n",
       "      <td>2</td>\n",
       "      <td>2</td>\n",
       "      <td>2</td>\n",
       "      <td>2</td>\n",
       "      <td>2</td>\n",
       "      <td>0.90</td>\n",
       "      <td>135</td>\n",
       "      <td>42</td>\n",
       "      <td>3.5</td>\n",
       "      <td>?</td>\n",
       "      <td>1</td>\n",
       "    </tr>\n",
       "    <tr>\n",
       "      <th>2</th>\n",
       "      <td>2</td>\n",
       "      <td>78</td>\n",
       "      <td>1</td>\n",
       "      <td>2</td>\n",
       "      <td>2</td>\n",
       "      <td>1</td>\n",
       "      <td>2</td>\n",
       "      <td>2</td>\n",
       "      <td>2</td>\n",
       "      <td>2</td>\n",
       "      <td>2</td>\n",
       "      <td>2</td>\n",
       "      <td>2</td>\n",
       "      <td>2</td>\n",
       "      <td>0.70</td>\n",
       "      <td>96</td>\n",
       "      <td>32</td>\n",
       "      <td>4.0</td>\n",
       "      <td>?</td>\n",
       "      <td>1</td>\n",
       "    </tr>\n",
       "    <tr>\n",
       "      <th>3</th>\n",
       "      <td>2</td>\n",
       "      <td>31</td>\n",
       "      <td>1</td>\n",
       "      <td>?</td>\n",
       "      <td>1</td>\n",
       "      <td>2</td>\n",
       "      <td>2</td>\n",
       "      <td>2</td>\n",
       "      <td>2</td>\n",
       "      <td>2</td>\n",
       "      <td>2</td>\n",
       "      <td>2</td>\n",
       "      <td>2</td>\n",
       "      <td>2</td>\n",
       "      <td>0.70</td>\n",
       "      <td>46</td>\n",
       "      <td>52</td>\n",
       "      <td>4.0</td>\n",
       "      <td>80</td>\n",
       "      <td>1</td>\n",
       "    </tr>\n",
       "    <tr>\n",
       "      <th>4</th>\n",
       "      <td>2</td>\n",
       "      <td>34</td>\n",
       "      <td>1</td>\n",
       "      <td>2</td>\n",
       "      <td>2</td>\n",
       "      <td>2</td>\n",
       "      <td>2</td>\n",
       "      <td>2</td>\n",
       "      <td>2</td>\n",
       "      <td>2</td>\n",
       "      <td>2</td>\n",
       "      <td>2</td>\n",
       "      <td>2</td>\n",
       "      <td>2</td>\n",
       "      <td>1.00</td>\n",
       "      <td>?</td>\n",
       "      <td>200</td>\n",
       "      <td>4.0</td>\n",
       "      <td>?</td>\n",
       "      <td>1</td>\n",
       "    </tr>\n",
       "  </tbody>\n",
       "</table>\n",
       "</div>"
      ],
      "text/plain": [
       "   class  age  sex steroid  antivirals fatigue malaise anorexia liver_big  \\\n",
       "0      2   30    2       1           2       2       2        2         1   \n",
       "1      2   50    1       1           2       1       2        2         1   \n",
       "2      2   78    1       2           2       1       2        2         2   \n",
       "3      2   31    1       ?           1       2       2        2         2   \n",
       "4      2   34    1       2           2       2       2        2         2   \n",
       "\n",
       "  liver_firm spleen_palable spiders ascites varices bilirubin alk_phosphate  \\\n",
       "0          2              2       2       2       2      1.00            85   \n",
       "1          2              2       2       2       2      0.90           135   \n",
       "2          2              2       2       2       2      0.70            96   \n",
       "3          2              2       2       2       2      0.70            46   \n",
       "4          2              2       2       2       2      1.00             ?   \n",
       "\n",
       "  sgot albumin protime  histology  \n",
       "0   18     4.0       ?          1  \n",
       "1   42     3.5       ?          1  \n",
       "2   32     4.0       ?          1  \n",
       "3   52     4.0      80          1  \n",
       "4  200     4.0       ?          1  "
      ]
     },
     "execution_count": 3,
     "metadata": {},
     "output_type": "execute_result"
    }
   ],
   "source": [
    "#Importamos el CSV de Hepatitis\n",
    "hepatitis_data = pd.read_csv('hepatitis_data.csv')\n",
    "\n",
    "#Mostramos los 5 primeros datos para ver que lee correctamente el CSV\n",
    "hepatitis_data.head()"
   ]
  },
  {
   "cell_type": "code",
   "execution_count": 4,
   "metadata": {},
   "outputs": [
    {
     "name": "stdout",
     "output_type": "stream",
     "text": [
      "La dimension del dataset es de 155 filas y 20 columnas\n"
     ]
    }
   ],
   "source": [
    "#El dataframe tiene valores nulos, se identifican con el caracter ?\n",
    "#Imprimimos el numero de atributos y de columnas\n",
    "print('La dimension del dataset es de',hepatitis_data.shape[0],'filas y',hepatitis_data.shape[1],'columnas')"
   ]
  },
  {
   "cell_type": "markdown",
   "metadata": {},
   "source": [
    "Podemos observar que la dimensión del dataframe consiste en 155 atributos con 20 propiedades cada uno. Ahora debemos proveder a eliminar los atributos que tengan propiedades nulas puesto que dificultan el estudio con precisión de los datos."
   ]
  },
  {
   "cell_type": "code",
   "execution_count": 5,
   "metadata": {},
   "outputs": [
    {
     "name": "stdout",
     "output_type": "stream",
     "text": [
      "Datos nulos de cada propiedad\n"
     ]
    },
    {
     "data": {
      "text/plain": [
       "class              0\n",
       "age                0\n",
       "sex                0\n",
       "steroid            1\n",
       "antivirals         0\n",
       "fatigue            1\n",
       "malaise            1\n",
       "anorexia           1\n",
       "liver_big         10\n",
       "liver_firm        11\n",
       "spleen_palable     5\n",
       "spiders            5\n",
       "ascites            5\n",
       "varices            5\n",
       "bilirubin          6\n",
       "alk_phosphate     29\n",
       "sgot               4\n",
       "albumin           16\n",
       "protime           67\n",
       "histology          0\n",
       "dtype: int64"
      ]
     },
     "metadata": {},
     "output_type": "display_data"
    }
   ],
   "source": [
    "#Ahora casteamos la ? a NaN\n",
    "hepatitis_data = hepatitis_data.replace('?',np.NaN)\n",
    "#Contamos cuantos elementos tenemos nulos en cada columna\n",
    "datosMissing = hepatitis_data.isna().sum()\n",
    "print('Datos nulos de cada propiedad')\n",
    "display(datosMissing)\n"
   ]
  },
  {
   "cell_type": "markdown",
   "metadata": {},
   "source": [
    "Aqui podemos ver cuantos registros podemos eliminar de cada tipo. Si bien es cierto que no sabemos exactamente cuantos hay de cada puesto que en \"protime\" por ejemplo vemos que hay 67 pero puede ser que valores nulos que pertenezcan a esa columna haya solo 20"
   ]
  },
  {
   "cell_type": "code",
   "execution_count": 6,
   "metadata": {},
   "outputs": [
    {
     "name": "stdout",
     "output_type": "stream",
     "text": [
      "Hay 0 elementos duplicados.\n"
     ]
    }
   ],
   "source": [
    "#Buscamos los duplicados\n",
    "numDuplicados = hepatitis_data.duplicated().sum()\n",
    "print('Hay', numDuplicados, 'elementos duplicados.')"
   ]
  },
  {
   "cell_type": "markdown",
   "metadata": {},
   "source": [
    "Tiene sentido que no haya datos duplicados puesto que se trata de resultados hechos a pacientes con hepatitis. Si existiera algún atributo duplicado probablemente se nos estaría colando información.\n",
    "\n",
    "Ahora pasamos a eliminar los valores que eran nulos y comprobamos la nueva dimension del dataset."
   ]
  },
  {
   "cell_type": "code",
   "execution_count": 7,
   "metadata": {},
   "outputs": [
    {
     "name": "stdout",
     "output_type": "stream",
     "text": [
      "La dimension del dataset sin datos nulos es de 80 filas y 20 columnas\n",
      "Datos nulos de cada propiedad\n"
     ]
    },
    {
     "data": {
      "text/plain": [
       "class             0\n",
       "age               0\n",
       "sex               0\n",
       "steroid           0\n",
       "antivirals        0\n",
       "fatigue           0\n",
       "malaise           0\n",
       "anorexia          0\n",
       "liver_big         0\n",
       "liver_firm        0\n",
       "spleen_palable    0\n",
       "spiders           0\n",
       "ascites           0\n",
       "varices           0\n",
       "bilirubin         0\n",
       "alk_phosphate     0\n",
       "sgot              0\n",
       "albumin           0\n",
       "protime           0\n",
       "histology         0\n",
       "dtype: int64"
      ]
     },
     "execution_count": 7,
     "metadata": {},
     "output_type": "execute_result"
    }
   ],
   "source": [
    "#Ahora borramos esos NaN y contamos de nuevo las filas\n",
    "hepatitis_data = hepatitis_data.dropna()\n",
    "#Reseteamos el indice del dataframe\n",
    "hepatitis_data = hepatitis_data.reset_index(drop=True)\n",
    "#Tamaño de datos eliminados\n",
    "print('La dimension del dataset sin datos nulos es de'\n",
    "      ,hepatitis_data.shape[0],'filas y',hepatitis_data.shape[1],'columnas')\n",
    "print('Datos nulos de cada propiedad')\n",
    "datosMissing\n",
    "#Contamos cuantos elementos tenemos nulos en cada columna\n",
    "hepatitis_data.isnull().sum()"
   ]
  },
  {
   "cell_type": "markdown",
   "metadata": {},
   "source": [
    "Podemos comprobar como ahora no hay ninguna columna que tenga valores nulos por lo que ahora ya tenemos el dataset completo y podemos analizar sus datos de un modo más fiable.\n",
    "\n",
    "### Pintando la gráfica"
   ]
  },
  {
   "cell_type": "code",
   "execution_count": 8,
   "metadata": {},
   "outputs": [
    {
     "data": {
      "image/png": "[encoded data removed]",
      "text/plain": [
       "<Figure size 1728x720 with 1 Axes>"
      ]
     },
     "metadata": {
      "needs_background": "light"
     },
     "output_type": "display_data"
    }
   ],
   "source": [
    "#Grafico\n",
    "import matplotlib.pyplot as plt\n",
    "figura = plt.figure(figsize=(24, 10))\n",
    "ejes = figura.add_axes([0,0,1,1])\n",
    "ejeX = datosMissing.index\n",
    "ejeY = datosMissing.values\n",
    "ejes.bar(ejeX,ejeY)\n",
    "plt.show()"
   ]
  },
  {
   "cell_type": "code",
   "execution_count": 10,
   "metadata": {},
   "outputs": [
    {
     "data": {
      "text/plain": [
       "array([ 0,  0,  0,  1,  0,  1,  1,  1, 10, 11,  5,  5,  5,  5,  6, 29,  4,\n",
       "       16, 67,  0])"
      ]
     },
     "execution_count": 10,
     "metadata": {},
     "output_type": "execute_result"
    }
   ],
   "source": [
    "datosMissing.values"
   ]
  },
  {
   "cell_type": "markdown",
   "metadata": {},
   "source": [
    "## 1.2-(0.5 puntos) Estudio preliminar de los datos.\n",
    "### Cómo se distribuyen los pacientes que viven (class=2) de los que mueren (class=1) en el dataset. Presenta un gráfico de tarta que muestre esta distribución de la clase ‘class’ en los datos."
   ]
  },
  {
   "cell_type": "markdown",
   "metadata": {},
   "source": [
    "#### Analizando la clase del Dataset -- Gráfico Pie Chart"
   ]
  },
  {
   "cell_type": "code",
   "execution_count": 59,
   "metadata": {},
   "outputs": [
    {
     "name": "stdout",
     "output_type": "stream",
     "text": [
      "Hay 13 atributos con la clase 1 - Mueren\n",
      "Hay 67 atributos con la clase 2 - Viven\n"
     ]
    }
   ],
   "source": [
    "datos = hepatitis_data['class']\n",
    "muertos = datos[datos == 1].count()\n",
    "vivos = datos[datos == 2].count()\n",
    "\n",
    "print('Hay',muertos,'atributos con la clase 1 - Mueren')\n",
    "print('Hay',vivos,'atributos con la clase 2 - Viven')"
   ]
  },
  {
   "cell_type": "code",
   "execution_count": 60,
   "metadata": {},
   "outputs": [
    {
     "data": {
      "image/png": "[encoded data removed]",
      "text/plain": [
       "<Figure size 432x288 with 1 Axes>"
      ]
     },
     "metadata": {},
     "output_type": "display_data"
    }
   ],
   "source": [
    "# Pie chart\n",
    "labels = '1','2'\n",
    "sizes = [muertos,vivos]\n",
    "\n",
    "fig1, ax1 = plt.subplots()\n",
    "ax1.pie(sizes, labels=labels, autopct='%1.1f%%',\n",
    "        shadow=True, startangle=40)\n",
    "ax1.axis('equal')  # Equal aspect ratio ensures that pie is drawn as a circle.\n",
    "\n",
    "plt.show()"
   ]
  },
  {
   "cell_type": "markdown",
   "metadata": {},
   "source": [
    "### Podemos determinar que viven más personas de las que mueren según los datos, en concreto un 83.7% sobreviven frente al 16.2% que lamentablemente mueren."
   ]
  }
 ],
 "metadata": {
  "kernelspec": {
   "display_name": "Python 3",
   "language": "python",
   "name": "python3"
  },
  "language_info": {
   "codemirror_mode": {
    "name": "ipython",
    "version": 3
   },
   "file_extension": ".py",
   "mimetype": "text/x-python",
   "name": "python",
   "nbconvert_exporter": "python",
   "pygments_lexer": "ipython3",
   "version": "3.8.3"
  }
 },
 "nbformat": 4,
 "nbformat_minor": 4
}
