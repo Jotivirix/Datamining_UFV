{
 "cells": [
  {
   "cell_type": "markdown",
   "metadata": {},
   "source": [
    "Elige el clasificador más adecuado de entre los vistos en clase y usa scikit-learn junto con las librerías que\n",
    "necesites para resolver las siguientes cuestiones. Muestra todos los resultados del algoritmo paso a paso.\n",
    "1) Realiza todo el preprocesamiento necesario para poder entrenar el clasificador. (1 punto)\n",
    "2) Crea un clasificador e indica su error. Úsalo para saber a qué tipo corresponden al menos 5 audios/canciones que\n",
    "no hayas usado para entrenar el modelo. (1 punto) "
   ]
  },
  {
   "cell_type": "code",
   "execution_count": null,
   "metadata": {},
   "outputs": [],
   "source": []
  }
 ],
 "metadata": {
  "kernelspec": {
   "display_name": "Python 3",
   "language": "python",
   "name": "python3"
  },
  "language_info": {
   "codemirror_mode": {
    "name": "ipython",
    "version": 3
   },
   "file_extension": ".py",
   "mimetype": "text/x-python",
   "name": "python",
   "nbconvert_exporter": "python",
   "pygments_lexer": "ipython3",
   "version": "3.8.5"
  }
 },
 "nbformat": 4,
 "nbformat_minor": 4
}
